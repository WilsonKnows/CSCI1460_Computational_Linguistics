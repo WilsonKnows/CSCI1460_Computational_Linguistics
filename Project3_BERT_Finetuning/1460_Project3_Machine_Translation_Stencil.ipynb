{
  "cells": [
    {
      "cell_type": "markdown",
      "metadata": {
        "id": "cto6T9ka7ZMl"
      },
      "source": [
        "# 📝 🌍 CSCI 1460 Machine Translation Assignment\n",
        "In this project you will build a neural machine translation model using a Transformer encoder-decoder architecture. The primary goal of the assignment is to **implement the transformer yourself**! Outside of this class, you would likely use existing library implementations of Transformers, but for this assignment, we want you to get direct experience with the pieces that go into the full architecture.\n",
        "\n",
        "The main learning objectives for this assignment are to:\n",
        "\n",
        "1. Understand and implement a Transformer\n",
        "2. Understand how a greedy decoding algorithm works and implement a beam search algorithm\n",
        "3. Understand and implement the BLEU metric for evaluating machine translation\n",
        "4. Understand the visualization of decoder attention during translation\n",
        "\n",
        "***Make sure you're using a GPU runtime when you are training the model!*** Go to Runtime > Change runtime type to make sure you are on a GPU runtime when training these models."
      ]
    },
    {
      "cell_type": "markdown",
      "metadata": {
        "id": "tBgSRG1p7ZMq"
      },
      "source": [
        "# [DO NOT EDIT] Setup and Data Preprocessing\n",
        "\n",
        "### You only need to **read through** and run this section. There are no coding TODOs for you. Feel free to collapse the cell with the arrow on the top left beside \"Setup\" (after reading through it)!"
      ]
    },
    {
      "cell_type": "code",
      "execution_count": 2,
      "metadata": {
        "colab": {
          "base_uri": "https://localhost:8080/"
        },
        "id": "XCaEFscw9LwA",
        "outputId": "6da2cd15-5e20-44d2-c325-24176e2e30a1"
      },
      "outputs": [
        {
          "output_type": "stream",
          "name": "stdout",
          "text": [
            "2023-10-17 23:22:55.281544: I tensorflow/core/platform/cpu_feature_guard.cc:182] This TensorFlow binary is optimized to use available CPU instructions in performance-critical operations.\n",
            "To enable the following instructions: AVX2 AVX512F FMA, in other operations, rebuild TensorFlow with the appropriate compiler flags.\n",
            "2023-10-17 23:22:56.626512: W tensorflow/compiler/tf2tensorrt/utils/py_utils.cc:38] TF-TRT Warning: Could not find TensorRT\n",
            "2023-10-17 23:22:58.346551: I tensorflow/compiler/xla/stream_executor/cuda/cuda_gpu_executor.cc:995] successful NUMA node read from SysFS had negative value (-1), but there must be at least one NUMA node, so returning NUMA node zero. See more at https://github.com/torvalds/linux/blob/v6.0/Documentation/ABI/testing/sysfs-bus-pci#L344-L355\n",
            "2023-10-17 23:22:58.347025: I tensorflow/compiler/xla/stream_executor/cuda/cuda_gpu_executor.cc:995] successful NUMA node read from SysFS had negative value (-1), but there must be at least one NUMA node, so returning NUMA node zero. See more at https://github.com/torvalds/linux/blob/v6.0/Documentation/ABI/testing/sysfs-bus-pci#L344-L355\n",
            "2023-10-17 23:22:58.347229: I tensorflow/compiler/xla/stream_executor/cuda/cuda_gpu_executor.cc:995] successful NUMA node read from SysFS had negative value (-1), but there must be at least one NUMA node, so returning NUMA node zero. See more at https://github.com/torvalds/linux/blob/v6.0/Documentation/ABI/testing/sysfs-bus-pci#L344-L355\n",
            "Collecting en-core-web-sm==3.6.0\n",
            "  Downloading https://github.com/explosion/spacy-models/releases/download/en_core_web_sm-3.6.0/en_core_web_sm-3.6.0-py3-none-any.whl (12.8 MB)\n",
            "\u001b[2K     \u001b[90m━━━━━━━━━━━━━━━━━━━━━━━━━━━━━━━━━━━━━━━━\u001b[0m \u001b[32m12.8/12.8 MB\u001b[0m \u001b[31m91.7 MB/s\u001b[0m eta \u001b[36m0:00:00\u001b[0m\n",
            "\u001b[?25hRequirement already satisfied: spacy<3.7.0,>=3.6.0 in /usr/local/lib/python3.10/dist-packages (from en-core-web-sm==3.6.0) (3.6.1)\n",
            "Requirement already satisfied: spacy-legacy<3.1.0,>=3.0.11 in /usr/local/lib/python3.10/dist-packages (from spacy<3.7.0,>=3.6.0->en-core-web-sm==3.6.0) (3.0.12)\n",
            "Requirement already satisfied: spacy-loggers<2.0.0,>=1.0.0 in /usr/local/lib/python3.10/dist-packages (from spacy<3.7.0,>=3.6.0->en-core-web-sm==3.6.0) (1.0.5)\n",
            "Requirement already satisfied: murmurhash<1.1.0,>=0.28.0 in /usr/local/lib/python3.10/dist-packages (from spacy<3.7.0,>=3.6.0->en-core-web-sm==3.6.0) (1.0.10)\n",
            "Requirement already satisfied: cymem<2.1.0,>=2.0.2 in /usr/local/lib/python3.10/dist-packages (from spacy<3.7.0,>=3.6.0->en-core-web-sm==3.6.0) (2.0.8)\n",
            "Requirement already satisfied: preshed<3.1.0,>=3.0.2 in /usr/local/lib/python3.10/dist-packages (from spacy<3.7.0,>=3.6.0->en-core-web-sm==3.6.0) (3.0.9)\n",
            "Requirement already satisfied: thinc<8.2.0,>=8.1.8 in /usr/local/lib/python3.10/dist-packages (from spacy<3.7.0,>=3.6.0->en-core-web-sm==3.6.0) (8.1.12)\n",
            "Requirement already satisfied: wasabi<1.2.0,>=0.9.1 in /usr/local/lib/python3.10/dist-packages (from spacy<3.7.0,>=3.6.0->en-core-web-sm==3.6.0) (1.1.2)\n",
            "Requirement already satisfied: srsly<3.0.0,>=2.4.3 in /usr/local/lib/python3.10/dist-packages (from spacy<3.7.0,>=3.6.0->en-core-web-sm==3.6.0) (2.4.8)\n",
            "Requirement already satisfied: catalogue<2.1.0,>=2.0.6 in /usr/local/lib/python3.10/dist-packages (from spacy<3.7.0,>=3.6.0->en-core-web-sm==3.6.0) (2.0.10)\n",
            "Requirement already satisfied: typer<0.10.0,>=0.3.0 in /usr/local/lib/python3.10/dist-packages (from spacy<3.7.0,>=3.6.0->en-core-web-sm==3.6.0) (0.9.0)\n",
            "Requirement already satisfied: pathy>=0.10.0 in /usr/local/lib/python3.10/dist-packages (from spacy<3.7.0,>=3.6.0->en-core-web-sm==3.6.0) (0.10.2)\n",
            "Requirement already satisfied: smart-open<7.0.0,>=5.2.1 in /usr/local/lib/python3.10/dist-packages (from spacy<3.7.0,>=3.6.0->en-core-web-sm==3.6.0) (6.4.0)\n",
            "Requirement already satisfied: tqdm<5.0.0,>=4.38.0 in /usr/local/lib/python3.10/dist-packages (from spacy<3.7.0,>=3.6.0->en-core-web-sm==3.6.0) (4.66.1)\n",
            "Requirement already satisfied: numpy>=1.15.0 in /usr/local/lib/python3.10/dist-packages (from spacy<3.7.0,>=3.6.0->en-core-web-sm==3.6.0) (1.23.5)\n",
            "Requirement already satisfied: requests<3.0.0,>=2.13.0 in /usr/local/lib/python3.10/dist-packages (from spacy<3.7.0,>=3.6.0->en-core-web-sm==3.6.0) (2.31.0)\n",
            "Requirement already satisfied: pydantic!=1.8,!=1.8.1,<3.0.0,>=1.7.4 in /usr/local/lib/python3.10/dist-packages (from spacy<3.7.0,>=3.6.0->en-core-web-sm==3.6.0) (1.10.13)\n",
            "Requirement already satisfied: jinja2 in /usr/local/lib/python3.10/dist-packages (from spacy<3.7.0,>=3.6.0->en-core-web-sm==3.6.0) (3.1.2)\n",
            "Requirement already satisfied: setuptools in /usr/local/lib/python3.10/dist-packages (from spacy<3.7.0,>=3.6.0->en-core-web-sm==3.6.0) (67.7.2)\n",
            "Requirement already satisfied: packaging>=20.0 in /usr/local/lib/python3.10/dist-packages (from spacy<3.7.0,>=3.6.0->en-core-web-sm==3.6.0) (23.2)\n",
            "Requirement already satisfied: langcodes<4.0.0,>=3.2.0 in /usr/local/lib/python3.10/dist-packages (from spacy<3.7.0,>=3.6.0->en-core-web-sm==3.6.0) (3.3.0)\n",
            "Requirement already satisfied: typing-extensions>=4.2.0 in /usr/local/lib/python3.10/dist-packages (from pydantic!=1.8,!=1.8.1,<3.0.0,>=1.7.4->spacy<3.7.0,>=3.6.0->en-core-web-sm==3.6.0) (4.5.0)\n",
            "Requirement already satisfied: charset-normalizer<4,>=2 in /usr/local/lib/python3.10/dist-packages (from requests<3.0.0,>=2.13.0->spacy<3.7.0,>=3.6.0->en-core-web-sm==3.6.0) (3.3.0)\n",
            "Requirement already satisfied: idna<4,>=2.5 in /usr/local/lib/python3.10/dist-packages (from requests<3.0.0,>=2.13.0->spacy<3.7.0,>=3.6.0->en-core-web-sm==3.6.0) (3.4)\n",
            "Requirement already satisfied: urllib3<3,>=1.21.1 in /usr/local/lib/python3.10/dist-packages (from requests<3.0.0,>=2.13.0->spacy<3.7.0,>=3.6.0->en-core-web-sm==3.6.0) (2.0.6)\n",
            "Requirement already satisfied: certifi>=2017.4.17 in /usr/local/lib/python3.10/dist-packages (from requests<3.0.0,>=2.13.0->spacy<3.7.0,>=3.6.0->en-core-web-sm==3.6.0) (2023.7.22)\n",
            "Requirement already satisfied: blis<0.8.0,>=0.7.8 in /usr/local/lib/python3.10/dist-packages (from thinc<8.2.0,>=8.1.8->spacy<3.7.0,>=3.6.0->en-core-web-sm==3.6.0) (0.7.11)\n",
            "Requirement already satisfied: confection<1.0.0,>=0.0.1 in /usr/local/lib/python3.10/dist-packages (from thinc<8.2.0,>=8.1.8->spacy<3.7.0,>=3.6.0->en-core-web-sm==3.6.0) (0.1.3)\n",
            "Requirement already satisfied: click<9.0.0,>=7.1.1 in /usr/local/lib/python3.10/dist-packages (from typer<0.10.0,>=0.3.0->spacy<3.7.0,>=3.6.0->en-core-web-sm==3.6.0) (8.1.7)\n",
            "Requirement already satisfied: MarkupSafe>=2.0 in /usr/local/lib/python3.10/dist-packages (from jinja2->spacy<3.7.0,>=3.6.0->en-core-web-sm==3.6.0) (2.1.3)\n",
            "\u001b[38;5;2m✔ Download and installation successful\u001b[0m\n",
            "You can now load the package via spacy.load('en_core_web_sm')\n",
            "2023-10-17 23:23:09.851205: I tensorflow/core/platform/cpu_feature_guard.cc:182] This TensorFlow binary is optimized to use available CPU instructions in performance-critical operations.\n",
            "To enable the following instructions: AVX2 AVX512F FMA, in other operations, rebuild TensorFlow with the appropriate compiler flags.\n",
            "2023-10-17 23:23:10.906516: W tensorflow/compiler/tf2tensorrt/utils/py_utils.cc:38] TF-TRT Warning: Could not find TensorRT\n",
            "2023-10-17 23:23:12.199555: I tensorflow/compiler/xla/stream_executor/cuda/cuda_gpu_executor.cc:995] successful NUMA node read from SysFS had negative value (-1), but there must be at least one NUMA node, so returning NUMA node zero. See more at https://github.com/torvalds/linux/blob/v6.0/Documentation/ABI/testing/sysfs-bus-pci#L344-L355\n",
            "2023-10-17 23:23:12.199969: I tensorflow/compiler/xla/stream_executor/cuda/cuda_gpu_executor.cc:995] successful NUMA node read from SysFS had negative value (-1), but there must be at least one NUMA node, so returning NUMA node zero. See more at https://github.com/torvalds/linux/blob/v6.0/Documentation/ABI/testing/sysfs-bus-pci#L344-L355\n",
            "2023-10-17 23:23:12.200143: I tensorflow/compiler/xla/stream_executor/cuda/cuda_gpu_executor.cc:995] successful NUMA node read from SysFS had negative value (-1), but there must be at least one NUMA node, so returning NUMA node zero. See more at https://github.com/torvalds/linux/blob/v6.0/Documentation/ABI/testing/sysfs-bus-pci#L344-L355\n",
            "Collecting de-core-news-sm==3.6.0\n",
            "  Downloading https://github.com/explosion/spacy-models/releases/download/de_core_news_sm-3.6.0/de_core_news_sm-3.6.0-py3-none-any.whl (14.6 MB)\n",
            "\u001b[2K     \u001b[90m━━━━━━━━━━━━━━━━━━━━━━━━━━━━━━━━━━━━━━━━\u001b[0m \u001b[32m14.6/14.6 MB\u001b[0m \u001b[31m17.2 MB/s\u001b[0m eta \u001b[36m0:00:00\u001b[0m\n",
            "\u001b[?25hRequirement already satisfied: spacy<3.7.0,>=3.6.0 in /usr/local/lib/python3.10/dist-packages (from de-core-news-sm==3.6.0) (3.6.1)\n",
            "Requirement already satisfied: spacy-legacy<3.1.0,>=3.0.11 in /usr/local/lib/python3.10/dist-packages (from spacy<3.7.0,>=3.6.0->de-core-news-sm==3.6.0) (3.0.12)\n",
            "Requirement already satisfied: spacy-loggers<2.0.0,>=1.0.0 in /usr/local/lib/python3.10/dist-packages (from spacy<3.7.0,>=3.6.0->de-core-news-sm==3.6.0) (1.0.5)\n",
            "Requirement already satisfied: murmurhash<1.1.0,>=0.28.0 in /usr/local/lib/python3.10/dist-packages (from spacy<3.7.0,>=3.6.0->de-core-news-sm==3.6.0) (1.0.10)\n",
            "Requirement already satisfied: cymem<2.1.0,>=2.0.2 in /usr/local/lib/python3.10/dist-packages (from spacy<3.7.0,>=3.6.0->de-core-news-sm==3.6.0) (2.0.8)\n",
            "Requirement already satisfied: preshed<3.1.0,>=3.0.2 in /usr/local/lib/python3.10/dist-packages (from spacy<3.7.0,>=3.6.0->de-core-news-sm==3.6.0) (3.0.9)\n",
            "Requirement already satisfied: thinc<8.2.0,>=8.1.8 in /usr/local/lib/python3.10/dist-packages (from spacy<3.7.0,>=3.6.0->de-core-news-sm==3.6.0) (8.1.12)\n",
            "Requirement already satisfied: wasabi<1.2.0,>=0.9.1 in /usr/local/lib/python3.10/dist-packages (from spacy<3.7.0,>=3.6.0->de-core-news-sm==3.6.0) (1.1.2)\n",
            "Requirement already satisfied: srsly<3.0.0,>=2.4.3 in /usr/local/lib/python3.10/dist-packages (from spacy<3.7.0,>=3.6.0->de-core-news-sm==3.6.0) (2.4.8)\n",
            "Requirement already satisfied: catalogue<2.1.0,>=2.0.6 in /usr/local/lib/python3.10/dist-packages (from spacy<3.7.0,>=3.6.0->de-core-news-sm==3.6.0) (2.0.10)\n",
            "Requirement already satisfied: typer<0.10.0,>=0.3.0 in /usr/local/lib/python3.10/dist-packages (from spacy<3.7.0,>=3.6.0->de-core-news-sm==3.6.0) (0.9.0)\n",
            "Requirement already satisfied: pathy>=0.10.0 in /usr/local/lib/python3.10/dist-packages (from spacy<3.7.0,>=3.6.0->de-core-news-sm==3.6.0) (0.10.2)\n",
            "Requirement already satisfied: smart-open<7.0.0,>=5.2.1 in /usr/local/lib/python3.10/dist-packages (from spacy<3.7.0,>=3.6.0->de-core-news-sm==3.6.0) (6.4.0)\n",
            "Requirement already satisfied: tqdm<5.0.0,>=4.38.0 in /usr/local/lib/python3.10/dist-packages (from spacy<3.7.0,>=3.6.0->de-core-news-sm==3.6.0) (4.66.1)\n",
            "Requirement already satisfied: numpy>=1.15.0 in /usr/local/lib/python3.10/dist-packages (from spacy<3.7.0,>=3.6.0->de-core-news-sm==3.6.0) (1.23.5)\n",
            "Requirement already satisfied: requests<3.0.0,>=2.13.0 in /usr/local/lib/python3.10/dist-packages (from spacy<3.7.0,>=3.6.0->de-core-news-sm==3.6.0) (2.31.0)\n",
            "Requirement already satisfied: pydantic!=1.8,!=1.8.1,<3.0.0,>=1.7.4 in /usr/local/lib/python3.10/dist-packages (from spacy<3.7.0,>=3.6.0->de-core-news-sm==3.6.0) (1.10.13)\n",
            "Requirement already satisfied: jinja2 in /usr/local/lib/python3.10/dist-packages (from spacy<3.7.0,>=3.6.0->de-core-news-sm==3.6.0) (3.1.2)\n",
            "Requirement already satisfied: setuptools in /usr/local/lib/python3.10/dist-packages (from spacy<3.7.0,>=3.6.0->de-core-news-sm==3.6.0) (67.7.2)\n",
            "Requirement already satisfied: packaging>=20.0 in /usr/local/lib/python3.10/dist-packages (from spacy<3.7.0,>=3.6.0->de-core-news-sm==3.6.0) (23.2)\n",
            "Requirement already satisfied: langcodes<4.0.0,>=3.2.0 in /usr/local/lib/python3.10/dist-packages (from spacy<3.7.0,>=3.6.0->de-core-news-sm==3.6.0) (3.3.0)\n",
            "Requirement already satisfied: typing-extensions>=4.2.0 in /usr/local/lib/python3.10/dist-packages (from pydantic!=1.8,!=1.8.1,<3.0.0,>=1.7.4->spacy<3.7.0,>=3.6.0->de-core-news-sm==3.6.0) (4.5.0)\n",
            "Requirement already satisfied: charset-normalizer<4,>=2 in /usr/local/lib/python3.10/dist-packages (from requests<3.0.0,>=2.13.0->spacy<3.7.0,>=3.6.0->de-core-news-sm==3.6.0) (3.3.0)\n",
            "Requirement already satisfied: idna<4,>=2.5 in /usr/local/lib/python3.10/dist-packages (from requests<3.0.0,>=2.13.0->spacy<3.7.0,>=3.6.0->de-core-news-sm==3.6.0) (3.4)\n",
            "Requirement already satisfied: urllib3<3,>=1.21.1 in /usr/local/lib/python3.10/dist-packages (from requests<3.0.0,>=2.13.0->spacy<3.7.0,>=3.6.0->de-core-news-sm==3.6.0) (2.0.6)\n",
            "Requirement already satisfied: certifi>=2017.4.17 in /usr/local/lib/python3.10/dist-packages (from requests<3.0.0,>=2.13.0->spacy<3.7.0,>=3.6.0->de-core-news-sm==3.6.0) (2023.7.22)\n",
            "Requirement already satisfied: blis<0.8.0,>=0.7.8 in /usr/local/lib/python3.10/dist-packages (from thinc<8.2.0,>=8.1.8->spacy<3.7.0,>=3.6.0->de-core-news-sm==3.6.0) (0.7.11)\n",
            "Requirement already satisfied: confection<1.0.0,>=0.0.1 in /usr/local/lib/python3.10/dist-packages (from thinc<8.2.0,>=8.1.8->spacy<3.7.0,>=3.6.0->de-core-news-sm==3.6.0) (0.1.3)\n",
            "Requirement already satisfied: click<9.0.0,>=7.1.1 in /usr/local/lib/python3.10/dist-packages (from typer<0.10.0,>=0.3.0->spacy<3.7.0,>=3.6.0->de-core-news-sm==3.6.0) (8.1.7)\n",
            "Requirement already satisfied: MarkupSafe>=2.0 in /usr/local/lib/python3.10/dist-packages (from jinja2->spacy<3.7.0,>=3.6.0->de-core-news-sm==3.6.0) (2.1.3)\n",
            "Installing collected packages: de-core-news-sm\n",
            "Successfully installed de-core-news-sm-3.6.0\n",
            "\u001b[38;5;2m✔ Download and installation successful\u001b[0m\n",
            "You can now load the package via spacy.load('de_core_news_sm')\n"
          ]
        }
      ],
      "source": [
        "!python -m spacy download en_core_web_sm\n",
        "!python -m spacy download de_core_news_sm"
      ]
    },
    {
      "cell_type": "code",
      "execution_count": 3,
      "metadata": {
        "id": "b9CDVm3o7ZMr"
      },
      "outputs": [],
      "source": [
        "import random\n",
        "import math\n",
        "import copy\n",
        "import io\n",
        "import os\n",
        "\n",
        "import torch\n",
        "import torch.nn as nn\n",
        "import numpy as np\n",
        "from collections import Counter\n",
        "from typing import Callable\n",
        "\n",
        "import torchtext\n",
        "from torchtext.data.utils import get_tokenizer\n",
        "from torchtext.utils import download_from_url, extract_archive\n",
        "from torch.nn.utils.rnn import pad_sequence\n",
        "from torch.utils.data import DataLoader\n",
        "from timeit import default_timer as timer"
      ]
    },
    {
      "cell_type": "code",
      "execution_count": 4,
      "metadata": {
        "id": "VU9gI0Sd7ZMu"
      },
      "outputs": [],
      "source": [
        "def seed_everything(s: int):\n",
        "  \"\"\"\n",
        "  This function allows us to set the seed for all of our random functions\n",
        "  so that we can get reproducible results.\n",
        "\n",
        "  Parameters\n",
        "  ----------\n",
        "  s : int\n",
        "      seed to seed all random functions with\n",
        "  \"\"\"\n",
        "  random.seed(s)\n",
        "  torch.manual_seed(s)\n",
        "  torch.cuda.manual_seed_all(s)\n",
        "  np.random.seed(s)\n",
        "  torch.backends.cudnn.deterministic = True\n",
        "\n",
        "SEED = 42\n",
        "seed_everything(SEED)"
      ]
    },
    {
      "cell_type": "code",
      "execution_count": 5,
      "metadata": {
        "id": "MWHB-3sD7ZMu",
        "colab": {
          "base_uri": "https://localhost:8080/"
        },
        "outputId": "06208d32-fb5b-4df0-fb76-b1186910d6ea"
      },
      "outputs": [
        {
          "output_type": "stream",
          "name": "stderr",
          "text": [
            "100%|██████████| 637k/637k [00:00<00:00, 8.46MB/s]\n",
            "100%|██████████| 569k/569k [00:00<00:00, 7.14MB/s]\n",
            "100%|██████████| 24.7k/24.7k [00:00<00:00, 1.69MB/s]\n",
            "100%|██████████| 21.6k/21.6k [00:00<00:00, 2.33MB/s]\n",
            "100%|██████████| 22.9k/22.9k [00:00<00:00, 8.42MB/s]\n",
            "100%|██████████| 21.1k/21.1k [00:00<00:00, 2.92MB/s]\n"
          ]
        }
      ],
      "source": [
        "# data loaded from multi30k dataset https://pytorch.org/tutorials/beginner/torchtext_translation_tutorial.html\n",
        "url_base = 'https://raw.githubusercontent.com/multi30k/dataset/master/data/task1/raw/'\n",
        "train_urls = ('train.de.gz', 'train.en.gz')\n",
        "val_urls = ('val.de.gz', 'val.en.gz')\n",
        "test_urls = ('test_2016_flickr.de.gz', 'test_2016_flickr.en.gz')\n",
        "\n",
        "# download and extract data\n",
        "train_filepaths = [extract_archive(download_from_url(url_base + url))[0] for url in train_urls]\n",
        "val_filepaths = [extract_archive(download_from_url(url_base + url))[0] for url in val_urls]\n",
        "test_filepaths = [extract_archive(download_from_url(url_base + url))[0] for url in test_urls]\n",
        "\n",
        "# get tokenizers for English and German\n",
        "de_tokenizer = get_tokenizer('spacy', language='de_core_news_sm')\n",
        "en_tokenizer = get_tokenizer('spacy', language='en_core_web_sm')"
      ]
    },
    {
      "cell_type": "code",
      "execution_count": 6,
      "metadata": {
        "id": "oGLdP4Dbfn0C"
      },
      "outputs": [],
      "source": [
        "def build_vocab(filepath: str, tokenizer: Callable) -> torchtext.vocab.Vocab:\n",
        "    \"\"\"\n",
        "    Builds a vocab based on a given file of sentence and a given tokenizer\n",
        "\n",
        "    Parameters\n",
        "    ----------\n",
        "    filepath : str\n",
        "        filepath from which to get sentences to generate a vocabulary\n",
        "    tokenizer : Callable\n",
        "        function with which to tokenize the sentences\n",
        "\n",
        "    Returns\n",
        "    ----------\n",
        "    torchtext.vocab.Vocab\n",
        "        a PyTorch vocab object\n",
        "    \"\"\"\n",
        "    counter = Counter()\n",
        "    with io.open(filepath, encoding=\"utf8\") as f:\n",
        "        for string_ in f: # each string here is a German or English sentence\n",
        "            counter.update(tokenizer(string_))\n",
        "    return torchtext.vocab.vocab(counter, specials=['<unk>', '<pad>', '<bos>', '<eos>'])\n",
        "\n",
        "# build vocabularies for both languages based on the training data\n",
        "de_vocab = build_vocab(train_filepaths[0], de_tokenizer)\n",
        "en_vocab = build_vocab(train_filepaths[1], en_tokenizer)\n",
        "\n",
        "# sets the default behavior for OOV words to be <unk>\n",
        "de_vocab.set_default_index(0)\n",
        "en_vocab.set_default_index(0)"
      ]
    },
    {
      "cell_type": "code",
      "execution_count": 7,
      "metadata": {
        "id": "rA2rAmA8fp3g"
      },
      "outputs": [],
      "source": [
        "def data_process(filepaths: list[str]) -> list[tuple[torch.Tensor, torch.Tensor]]:\n",
        "  \"\"\"\n",
        "  Builds a dataset of translated sentences from a list of filepaths\n",
        "\n",
        "  Parameters\n",
        "  ----------\n",
        "  filepaths : list[str]\n",
        "      a list containing the filepath to a German dataset and a filepath to\n",
        "      the corresponding English dataset\n",
        "\n",
        "  Returns\n",
        "  ----------\n",
        "  list[tuple[torch.Tensor, torch.Tensor]]\n",
        "      a list of tuples of tensors, where each tuple is a pair of translations\n",
        "      (German, English) in the form of tensors where tokenized words are encoded\n",
        "      as vocabulary indices\n",
        "  \"\"\"\n",
        "  raw_de_iter = iter(io.open(filepaths[0], encoding=\"utf8\"))\n",
        "  raw_en_iter = iter(io.open(filepaths[1], encoding=\"utf8\"))\n",
        "  data = []\n",
        "  for (raw_de, raw_en) in zip(raw_de_iter, raw_en_iter):\n",
        "    # raw_de and raw_en are paired sentences in English and German\n",
        "    de_tensor_ = torch.tensor(de_vocab(de_tokenizer(raw_de)), dtype=torch.long)\n",
        "    en_tensor_ = torch.tensor(en_vocab(en_tokenizer(raw_en)), dtype=torch.long)\n",
        "\n",
        "    data.append((de_tensor_, en_tensor_))\n",
        "  return data\n",
        "\n",
        "# clean the data by tokenizing sentences and converting them to tensors\n",
        "train_data = data_process(train_filepaths)\n",
        "val_data = data_process(val_filepaths)\n",
        "test_data = data_process(test_filepaths)"
      ]
    },
    {
      "cell_type": "code",
      "execution_count": 8,
      "metadata": {
        "id": "di-c_e7XiUxV"
      },
      "outputs": [],
      "source": [
        "# sets default values for the rest of the notebook\n",
        "device = torch.device('cuda' if torch.cuda.is_available() else 'cpu') # remember this for later!\n",
        "BATCH_SIZE = 32\n",
        "PAD_IDX = de_vocab['<pad>']\n",
        "BOS_IDX = de_vocab['<bos>']\n",
        "EOS_IDX = de_vocab['<eos>']"
      ]
    },
    {
      "cell_type": "code",
      "execution_count": 9,
      "metadata": {
        "id": "-834e9RH7ZMv"
      },
      "outputs": [],
      "source": [
        "def generate_batch(data_batch: list[tuple[torch.Tensor, torch.Tensor]]) -> tuple[torch.Tensor, torch.Tensor]:\n",
        "  \"\"\"\n",
        "  Used as the collate_fn argument when constructing DataLoaders to collate\n",
        "  lists of samples into batches\n",
        "\n",
        "  Parameters\n",
        "  ----------\n",
        "  data_batch : list[tuple[torch.Tensor, torch.Tensor]]\n",
        "      a list of tuples of tensors, where each tuple is a pair of translations\n",
        "      (German, English) in the form of tensors where tokenized words are encoded\n",
        "      as vocabulary indices\n",
        "\n",
        "  Returns\n",
        "  ----------\n",
        "  tuple[torch.Tensor, torch.Tensor]\n",
        "      a tuple of batched German sentences and batched English sentences in the\n",
        "      form of tensors of vocabulary indices\n",
        "  \"\"\"\n",
        "  de_batch, en_batch = [], []\n",
        "  for (de_item, en_item) in data_batch:\n",
        "    de_batch.append(torch.cat([torch.tensor([BOS_IDX]), de_item, torch.tensor([EOS_IDX])], dim=0))\n",
        "    en_batch.append(torch.cat([torch.tensor([BOS_IDX]), en_item, torch.tensor([EOS_IDX])], dim=0))\n",
        "  de_batch = pad_sequence(de_batch, padding_value=PAD_IDX)\n",
        "  en_batch = pad_sequence(en_batch, padding_value=PAD_IDX)\n",
        "  return de_batch, en_batch\n",
        "\n",
        "# create data loaders for the training, validation, and test data\n",
        "train_loader = DataLoader(train_data, batch_size=BATCH_SIZE,\n",
        "                        shuffle=True, collate_fn=generate_batch)\n",
        "val_loader = DataLoader(val_data, batch_size=BATCH_SIZE,\n",
        "                        shuffle=False, collate_fn=generate_batch)\n",
        "test_loader = DataLoader(test_data, batch_size=BATCH_SIZE,\n",
        "                       shuffle=False, collate_fn=generate_batch)"
      ]
    },
    {
      "cell_type": "markdown",
      "metadata": {
        "id": "jesM-6Xz7ZMv"
      },
      "source": [
        "# Part 1: Building a Transformer\n",
        "In this section, we'll implement our own Transformer model using some PyTorch implementations of attention. Transformers were introduced in [2017 by Vaswani et al.](https://arxiv.org/abs/1706.03762) and consist of an encoder-decoder structure seen below.\n",
        "\n",
        "First, in Part 1a, we'll implement the green encoder box, and then in Part 1b, we'll implement the pink decoder. We'll then link these modules together into a `ManualTransformer` class in Part 2c. Let's open up some boxes!\n",
        "\n",
        "![image](https://drive.google.com/uc?id=1gsA8TgBRN020YwBSdtNUBX8xvnM-ZO93)\n",
        "\n",
        "For more help in understanding transformers on a broader, conceptual level, check out Jay Alammar's [illustrated transformer](https://jalammar.github.io/illustrated-transformer/), which is where the rest of the illustrations in this assignment will be coming from. Reading the paper will also be helpful as it has more details (obviously) about the specific implementation details than the illustrated transformer article does."
      ]
    },
    {
      "cell_type": "markdown",
      "metadata": {
        "id": "ImWF2ZO-7ZMw"
      },
      "source": [
        "### [DO NOT EDIT] Helper Code for ManualEncoder and ManualDecoder\n",
        "\n",
        "This cell includes some modules and functions. **You should take a look at the code to see how it works, but you shouldn't need to edit any of it.**\n",
        "\n",
        "Modules and Functions:\n",
        "* `SublayerConnection`, a module that takes in a sublayer function (e.g. the forward pass of a feedforward layer or the forward pass of an attention module) and performs routine layer normalization and dropout on that sublayer\n",
        "* `PositionwiseFeedForward`, a module that implements the feedforward network that is reused within the Transformer implementation\n",
        "* `clones(module, N)` which takes in a module and returns a [`nn.ModuleList`](https://pytorch.org/docs/stable/generated/torch.nn.ModuleList.html?highlight=nn+modulelist#torch.nn.ModuleList) of N clones of that module."
      ]
    },
    {
      "cell_type": "code",
      "execution_count": 10,
      "metadata": {
        "id": "Ey2vJnHF7ZMx"
      },
      "outputs": [],
      "source": [
        "class SublayerConnection(nn.Module):\n",
        "    '''Applies a residual connection followed by a layer norm to any sublayer'''\n",
        "    def __init__(self, size: int, dropout: float):\n",
        "        \"\"\"\n",
        "        Initializes a SublayerConnection module\n",
        "\n",
        "        Parameters\n",
        "        ----------\n",
        "        size : int\n",
        "            size of the expected input to the module\n",
        "        dropout : float\n",
        "            dropout value to be used after the sublayer\n",
        "        \"\"\"\n",
        "        super(SublayerConnection, self).__init__()\n",
        "        self.norm = nn.LayerNorm(size)\n",
        "        self.dropout = nn.Dropout(dropout)\n",
        "\n",
        "    def forward(self, x: torch.Tensor, sublayer: nn.Module) -> torch.Tensor:\n",
        "        \"\"\"\n",
        "        Forward pass of the model. Normalizes the input, applies the sublayer,\n",
        "        performs a dropout, and then performs a residual connection.\n",
        "\n",
        "        Parameters\n",
        "        ----------\n",
        "        x : torch.Tensor\n",
        "            input Tensor\n",
        "        sublayer : nn.Module\n",
        "            layer that a residual connection is performed over\n",
        "\n",
        "        Returns\n",
        "        ----------\n",
        "        torch.Tensor\n",
        "            output of the forward pass\n",
        "        \"\"\"\n",
        "        return x + self.dropout(sublayer(self.norm(x)))\n",
        "\n",
        "\n",
        "class PositionwiseFeedForward(nn.Module):\n",
        "    ''' Implements the two-layer feedforward neural network used in the transformer.'''\n",
        "    def __init__(self, d_model: int, d_ff: int, dropout: float = 0.1):\n",
        "        \"\"\"\n",
        "        Initializes a PositionwiseFeedForward module\n",
        "\n",
        "        Parameters\n",
        "        ----------\n",
        "        d_model : int\n",
        "            size of the input into and output out of the feedforward layer\n",
        "        d_ff : int\n",
        "            hidden size of the feedforward layer\n",
        "        dropout : float\n",
        "            dropout value used at end of feedforward layer\n",
        "        \"\"\"\n",
        "        super(PositionwiseFeedForward, self).__init__()\n",
        "        self.w_1 = nn.Linear(d_model, d_ff)\n",
        "        self.w_2 = nn.Linear(d_ff, d_model)\n",
        "        self.dropout = nn.Dropout(dropout)\n",
        "\n",
        "    def forward(self, x: torch.Tensor) -> torch.Tensor:\n",
        "        \"\"\"\n",
        "        Forward pass of the model. Normalizes the input, applies the sublayer,\n",
        "        performs a dropout, and then performs a residual connection.\n",
        "\n",
        "        Parameters\n",
        "        ----------\n",
        "        x : torch.Tensor\n",
        "            input Tensor\n",
        "        sublayer : nn.Module\n",
        "            layer that a residual connection is performed over\n",
        "\n",
        "        Returns\n",
        "        ----------\n",
        "        torch.Tensor\n",
        "            output of the forward pass\n",
        "        \"\"\"\n",
        "        return self.w_2(self.dropout(self.w_1(x).relu()))\n",
        "\n",
        "def clones(module: nn.Module, N: int) -> nn.ModuleList:\n",
        "    \"\"\"\n",
        "    Creates a nn.ModuleList of N identical copies of the inputted module\n",
        "\n",
        "    Parameters\n",
        "    ----------\n",
        "    module : nn.Module\n",
        "        module to clone\n",
        "    N : int\n",
        "        number of layers to clone\n",
        "\n",
        "    Returns\n",
        "    nn.ModuleList\n",
        "        iterable list of the cloned layers\n",
        "    ----------\n",
        "\n",
        "    \"\"\"\n",
        "    return nn.ModuleList([copy.deepcopy(module) for _ in range(N)])"
      ]
    },
    {
      "cell_type": "markdown",
      "metadata": {
        "id": "YtCd2gPf7ZMx"
      },
      "source": [
        "## Part 1a: Building an Encoder Block\n",
        "\n",
        "One green Transformer encoder box consists of *N* identical blocks stacked on top of each other.\n",
        "![image](https://drive.google.com/uc?id=1VTYJOtyVx1L5UORqH29mNSIX1Gz0fgd0)\n",
        "\n",
        "\n",
        "To implement one of these green layers, we will create a `ManualEncoderLayer` class, and then duplicate and stack these all together in our `ManualEncoder` class to create the stack of them."
      ]
    },
    {
      "cell_type": "markdown",
      "metadata": {
        "id": "XF6n3pOW7ZMy"
      },
      "source": [
        "### Implementing an Encoder Layer: `ManualEncoderLayer`\n",
        "Each encoder layer consists of:\n",
        "1. A self-attention sublayer (hint: `torch.nn.MultiheadAttention`)\n",
        "2. A feed-forward sublayer (hint: the class we just gave you, `PositionwiseFeedForward`)\n",
        "\n",
        "![image](https://drive.google.com/uc?id=1_miH3R_hRjDT-_CRFoSr_VhcbDm2o04o)\n",
        "\n",
        "\n",
        "Make sure to create a new `SublayerConnection` module for each sublayer which will cleanly implement residual connections (the dotted lines and 'add' in the diagram) and a LayerNorm module ('normalize' in the diagram). For each sublayer, you will then pass a function that calls either your attention module or your feed-forward module into the `SublayerConnection` forward pass.\n"
      ]
    },
    {
      "cell_type": "code",
      "execution_count": 11,
      "metadata": {
        "id": "RgbIQ-7i7ZMy"
      },
      "outputs": [],
      "source": [
        "class ManualEncoderLayer(nn.Module):\n",
        "    def __init__(self, size: int, dropout: float, nhead: int, dim_ff: int):\n",
        "        \"\"\"\n",
        "        Initializes a ManualEncoderLayer module\n",
        "\n",
        "        Parameters\n",
        "        ----------\n",
        "        size : int\n",
        "            size of the input into and output out of the feedforward layer\n",
        "        dropout : float\n",
        "            dropout value used for attention, residual connection, and\n",
        "            feedforward layers\n",
        "        nhead : int\n",
        "            number of attention heads used in multi-head attention\n",
        "        dim_ff : int\n",
        "            hidden dimension of the feedforward layer\n",
        "        \"\"\"\n",
        "        super(ManualEncoderLayer, self).__init__()\n",
        "        #TODO: Initialize the necessary pieces of the encoder block\n",
        "        self.size = size  # Added input size parameter to get the required input size\n",
        "        # Create a multi-head self-attention sublayer\n",
        "        self.self_attention = nn.MultiheadAttention(embed_dim=size, num_heads=nhead, dropout=dropout)\n",
        "        # Create a feed-forward sublayer using PositionwiseFeedForward\n",
        "        self.feed_forward = PositionwiseFeedForward(size, dim_ff, dropout)\n",
        "        # Create sublayer connections for both self-attention and feed-forward\n",
        "        # self.sublayer_connection1 = SublayerConnection(size, dropout)\n",
        "        # self.sublayer_connection2 = SublayerConnection(size, dropout)\n",
        "        self.sublayer_connection = clones(SublayerConnection(size, dropout), 2)\n",
        "\n",
        "    def forward(self, x: torch.Tensor, padding_mask: torch.Tensor):\n",
        "        \"\"\"\n",
        "        Forward encoding pass for one layer.\n",
        "\n",
        "        Parameters\n",
        "        ----------\n",
        "        x : torch.Tensor\n",
        "            input Tensor\n",
        "        padding_mask : torch.Tensor\n",
        "            boolean mask Tensor displaying locations of padding tokens in\n",
        "            the input\n",
        "\n",
        "        Returns\n",
        "        ----------\n",
        "        torch.Tensor\n",
        "            output of the forward pass\n",
        "        \"\"\"\n",
        "        #TODO: Implement the forward pass\n",
        "        # Apply self-attention sublayer with residual connection\n",
        "        # attn_output, attn_output_weights = self.self_attention(x, x, x, key_padding_mask=padding_mask)\n",
        "        # Add & Normalize\n",
        "        x = self.sublayer_connection[0](x, lambda x: self.self_attention(x, x, x, key_padding_mask=padding_mask)[0]) # lambda, x arugment, attn_output expression, to fix the tensor not callable error\n",
        "        # Apply PositionwiseFeedForward sublayer with residual connection\n",
        "        # ff_output = self.feed_forward(x)\n",
        "        # Add & Normalize\n",
        "        x = self.sublayer_connection[1](x, self.feed_forward)\n",
        "\n",
        "        return x"
      ]
    },
    {
      "cell_type": "markdown",
      "metadata": {
        "id": "CUgi-mNf7ZMy"
      },
      "source": [
        "### Implementing the Encoder: `ManualEncoder`\n",
        "In the encoder itself, you want to\n",
        "1. create *N* instances of the given ManualEncoderLayer (hint: check out the `clones` function we gave you above) and name them `layers`\n",
        "2. stack together your *N* layers in the forward pass\n",
        "3. perform layer normalization (`nn.LayerNorm`) one more time at the end. You might have to edit your `ManualEncoderLayer` so you can get the required input size."
      ]
    },
    {
      "cell_type": "code",
      "execution_count": 12,
      "metadata": {
        "id": "csgSFyW37ZMy"
      },
      "outputs": [],
      "source": [
        "class ManualEncoder(nn.Module):\n",
        "    def __init__(self, layer: nn.Module, N: int):\n",
        "        \"\"\"\n",
        "        Initializes a ManualEncoder module\n",
        "\n",
        "        Parameters\n",
        "        ----------\n",
        "        layer : nn.Module\n",
        "            a ManualEncoderLayer\n",
        "        N : int\n",
        "            number of encoder layers in the encoder\n",
        "        \"\"\"\n",
        "        super(ManualEncoder, self).__init__()\n",
        "        #TODO: Initialize the necessary pieces of the encoder\n",
        "        # (Hint, this mostly consists of making copies of your encoder layers)\n",
        "        # Create N copies of the encoder layer using the clones function\n",
        "        self.layers = clones(layer, N) # nn.ModuleList([copy.deepcopy(module) for _ in range(N)])\n",
        "        # Layer normalization for the final output\n",
        "        self.norm = nn.LayerNorm(layer.size)\n",
        "\n",
        "    def forward(self, x: torch.Tensor, padding_mask: torch.Tensor):\n",
        "        \"\"\"\n",
        "        Full encoder forward pass.\n",
        "\n",
        "        Parameters\n",
        "        ----------\n",
        "        x : torch.Tensor\n",
        "            input Tensor\n",
        "        padding_mask : torch.Tensor\n",
        "            boolean mask Tensor displaying locations of padding tokens in\n",
        "            the input\n",
        "\n",
        "        Returns\n",
        "        ----------\n",
        "        torch.Tensor\n",
        "            output of the forward pass\n",
        "        \"\"\"\n",
        "        #TODO: Implement the forward pass\n",
        "        for layer in self.layers:\n",
        "          x = layer(x, padding_mask)\n",
        "\n",
        "        # Apply layer normalization to the final output\n",
        "        x = self.norm(x)\n",
        "\n",
        "        return x"
      ]
    },
    {
      "cell_type": "markdown",
      "metadata": {
        "id": "5PgQTQXr7ZMy"
      },
      "source": [
        "## Part 1b: Building a Decoder Block\n",
        "The decoder works the same way, with six identical `ManualDecoderLayer`s stacked on top of each other in our `ManualDecoder` class."
      ]
    },
    {
      "cell_type": "markdown",
      "metadata": {
        "id": "F9KQdC8h7ZMz"
      },
      "source": [
        "### Implementing a Decoder Layer: `ManualDecoderLayer`\n",
        "\n",
        "A single decoder layer consists of:\n",
        "1. A self-attention sublayer\n",
        "2. A cross-attention sublayer (encoder-decoder attention)\n",
        "3. A feed-forward sublayer\n",
        "\n",
        "![image](https://drive.google.com/uc?id=1oU4jlveCwWme58UUwwXs4MEGTnFOtpUA)\n",
        "\n",
        "Again, you will want to use a bunch of `SublayerConnection` modules to handle the residual connections and layer normalizations.\n",
        "\n",
        "**Important:** for the analysis code we give you in Part 3, you will have to save the attention weights of the cross-attention sublayer in the variable `self.attn_weights`. Because of the sublayer setup, this will be a little weird. Do your forward pass normally, but then also separately call your cross-attention module with `need_weights=True` to get out and save the attention weights for that section. (look [here](https://pytorch.org/docs/stable/generated/torch.nn.MultiheadAttention.html) for what `need_weights` actually does)."
      ]
    },
    {
      "cell_type": "code",
      "execution_count": 13,
      "metadata": {
        "id": "W3xkpXQk7ZMz"
      },
      "outputs": [],
      "source": [
        "class ManualDecoderLayer(nn.Module):\n",
        "    def __init__(self, size: int, dropout: float, nhead: int, dim_ff: int):\n",
        "        \"\"\"\n",
        "        Initializes a ManualDecoderLayer module\n",
        "\n",
        "        Parameters\n",
        "        ----------\n",
        "        size : int\n",
        "            size of the input into and output out of the feedforward layer\n",
        "        dropout : float\n",
        "            dropout value used for attention, residual connection, and\n",
        "            feedforward layers\n",
        "        nhead : int\n",
        "            number of attention heads used in multi-head attention\n",
        "        dim_ff : int\n",
        "            hidden dimension of the feedforward layer\n",
        "        \"\"\"\n",
        "        super(ManualDecoderLayer, self).__init__()\n",
        "        #TODO: Initialize the necessary pieces of the decoder block\n",
        "        self.size = size  # Added input size parameter to get the required input size\n",
        "        # Create a multi-head self-attention sublayer\n",
        "        self.self_attention = nn.MultiheadAttention(embed_dim=size, num_heads=nhead, dropout=dropout)\n",
        "        # Create a multi-head cross-attention sublayer for the encoder-decoder attention\n",
        "        self.cross_attention = nn.MultiheadAttention(embed_dim=size, num_heads=nhead, dropout=dropout)\n",
        "        # Create a feed-forward sublayer using PositionwiseFeedForward\n",
        "        self.feed_forward = PositionwiseFeedForward(size, dim_ff, dropout)\n",
        "        # Create sublayer connections for both self-attention and feed-forward\n",
        "        # self.sublayer_connection1 = SublayerConnection(size, dropout)\n",
        "        # self.sublayer_connection2 = SublayerConnection(size, dropout)\n",
        "        # self.sublayer_connection3 = SublayerConnection(size, dropout)\n",
        "        self.sublayer_connection = clones(SublayerConnection(size, dropout), 3)\n",
        "\n",
        "        # Initialize a variable to store attention weights for cross-attention\n",
        "        self.attn_weights = None\n",
        "\n",
        "    def forward(self, x: torch.Tensor, src_encoding: torch.Tensor,\n",
        "                src_padding_mask: torch.Tensor, tgt_mask: torch.Tensor, tgt_padding_mask: torch.Tensor):\n",
        "        \"\"\"\n",
        "        Forward decoding pass for one layer.\n",
        "\n",
        "        Parameters\n",
        "        ----------\n",
        "        x : torch.Tensor\n",
        "            input Tensor (model's target sequence)\n",
        "        src_encoding : torch.Tensor\n",
        "            output of the encoder\n",
        "        src_padding_mask : torch.Tensor\n",
        "            boolean mask Tensor displaying locations of padding tokens in\n",
        "            the \"encoded input\" (src_encoding)\n",
        "        tgt_mask : torch.Tensor\n",
        "            boolean mask Tensor displaying locations of tokens in target to\n",
        "            mask attention to\n",
        "        tgt_padding_mask : torch.Tensor\n",
        "            boolean mask Tensor displaying locations of padding tokens in\n",
        "            the input (target sequence)\n",
        "\n",
        "        Returns\n",
        "        ----------\n",
        "        torch.Tensor\n",
        "            output of the forward pass\n",
        "        \"\"\"\n",
        "        #TODO: Implement the forward pass\n",
        "        # Apply self-attention sublayer for the target sequence with residual connection\n",
        "        # attn_output, attn_output_weights = self.self_attention(x, x, x, attn_mask=tgt_mask, key_padding_mask=tgt_padding_mask) # Since Decoder, passing in the tgt\n",
        "        # x = self.sublayer_connection[0](x, lambda x: attn_output)\n",
        "        x = self.sublayer_connection[0](x, lambda x: self.self_attention(x, x, x, attn_mask=tgt_mask, key_padding_mask=tgt_padding_mask)[0])\n",
        "\n",
        "        # Apply cross-attention sublayer (encoder-decoder attention) with residual connection\n",
        "        # cross_output, self.attn_weights = self.cross_attention(x, src_encoding, src_encoding, key_padding_mask=src_padding_mask)\n",
        "        # x = self.sublayer_connection[1](x, lambda x: cross_output)\n",
        "        x = self.sublayer_connection[1](x, lambda x: self.cross_attention(x, src_encoding, src_encoding, key_padding_mask=src_padding_mask)[0])\n",
        "        self.attn_weights = self.cross_attention(x, src_encoding, src_encoding, key_padding_mask=src_padding_mask)[1]\n",
        "\n",
        "        # Apply feed-forward sublayer with residual connection\n",
        "        # ff_output = self.feed_forward(x)\n",
        "        # x = self.sublayer_connection[2](x, lambda x: ff_output)\n",
        "        x = self.sublayer_connection[2](x, self.feed_forward)\n",
        "\n",
        "        return x"
      ]
    },
    {
      "cell_type": "markdown",
      "metadata": {
        "id": "6OLow-mp7ZMz"
      },
      "source": [
        "### Implementing the Decoder: `ManualDecoder`\n",
        "Now, we can combine as many decoder layers as we want in our decoder class, which should look very similar to our `ManualEncoder` class.\n",
        "\n",
        "1. create *N* instances of the given `ManualDecoderLayer` (hint: check out the `clones` function we gave you above) and name them `layers`\n",
        "2. stack together your *N* layers in the forward pass\n",
        "3. perform layer normalization (`nn.LayerNorm`) one more time at the end. You might have to edit your `ManualDecoderLayer` so you can get the required input size."
      ]
    },
    {
      "cell_type": "code",
      "execution_count": 14,
      "metadata": {
        "id": "jm9tPCxz7ZMz"
      },
      "outputs": [],
      "source": [
        "class ManualDecoder(nn.Module):\n",
        "    def __init__(self, layer: nn.Module, N: int):\n",
        "        \"\"\"\n",
        "        Initializes a ManualDecoder module\n",
        "\n",
        "        Parameters\n",
        "        ----------\n",
        "        layer : nn.Module\n",
        "            a ManualDecoderLayer\n",
        "        N : int\n",
        "            number of decoder layers in the decoder\n",
        "        \"\"\"\n",
        "        super(ManualDecoder, self).__init__()\n",
        "        #TODO: Initialize the necessary pieces of the decoder\n",
        "        # (Hint, the mostly consists of making copies of your decoder layers)\n",
        "        # Create N copies of the decoder layer using the clones function\n",
        "        self.layers = clones(layer, N) # nn.ModuleList([copy.deepcopy(module) for _ in range(N)])\n",
        "        # Layer normalization for the final output\n",
        "        self.norm = nn.LayerNorm(layer.size)\n",
        "\n",
        "    def forward(self, x: torch.Tensor, src_encoding: torch.Tensor, src_padding_mask: torch.Tensor,\n",
        "                tgt_mask: torch.Tensor, tgt_padding_mask: torch.Tensor):\n",
        "        \"\"\"\n",
        "        Full decoder forward pass.\n",
        "\n",
        "        Parameters\n",
        "        ----------\n",
        "        x : torch.Tensor\n",
        "            input Tensor (model's target sequence)\n",
        "        src_encoding : torch.Tensor\n",
        "            output of the encoder\n",
        "        src_padding_mask : torch.Tensor\n",
        "            boolean mask Tensor displaying locations of padding tokens in\n",
        "            the \"encoded input\" (src_encoding)\n",
        "        tgt_mask : torch.Tensor\n",
        "            boolean mask Tensor displaying locations of tokens in target to\n",
        "            mask attention to\n",
        "        tgt_padding_mask : torch.Tensor\n",
        "            boolean mask Tensor displaying locations of padding tokens in\n",
        "            the input (target sequence)\n",
        "\n",
        "        Returns\n",
        "        ----------\n",
        "        torch.Tensor\n",
        "            output of the forward pass\n",
        "        \"\"\"\n",
        "        #TODO: Implement the forward pass\n",
        "        for layer in self.layers:\n",
        "            x = layer(x, src_encoding, src_padding_mask, tgt_mask, tgt_padding_mask)\n",
        "\n",
        "        # Apply layer normalization to the final output\n",
        "        x = self.norm(x)\n",
        "\n",
        "        return x"
      ]
    },
    {
      "cell_type": "markdown",
      "metadata": {
        "id": "BSFSlHFH7ZMz"
      },
      "source": [
        "## Part 1c: Putting Everything Together\n",
        "\n",
        "Finally, we can implement the last few details. We've already taken care of mostly everything on here - recognize the multi-head attention, layer normalization, and feed-forward networks?\n",
        "\n",
        "![image](https://drive.google.com/uc?id=1Rr9ezcbbW8UAaTSfY-7snHeKrVJHAyoz)\n",
        "\n",
        "There's just a few more things to take care of. In the `ManualTransformer` class, you should put together your encoder and decoder and add token embeddings, positional encodings, and a final linear layer `out` to project from the embeddings to the target vocabulary. You can use these pieces to implement `encode` and `decode`, then call these two in `forward`. We have already defined the `TokenEmbedding` and `PositionalEncoding` classes for you, which you should look over to see how they work. **DO NOT EDIT THEM.** Here's some more info about them:\n",
        "\n",
        "* `TokenEmbedding`, basically a PyTorch [`nn.Embedding`](https://pytorch.org/docs/stable/generated/torch.nn.Embedding.html) module except it also multiplies the embeddings by $\\sqrt{d_{model}}$ as specified in Vaswani et al. 2017\n",
        "* `PositionalEncoding`, a PyTorch module whose forward pass adds positional encodings to the inputted embeddings\n",
        "\n",
        "You'll have to implement `get_tgt_mask` as well. This will get used in `decode` to apply masks to the inputted target data. When masking, we use a value of **0/False to keep the token** and **1/True to mask out the token**. We would like you to have boolean masks, you can either use the `.bool()` function or the kwarg `dtype=torch.bool` to convert int/float tensors to booleans. Also make sure that it is on `device`! (The variable `device` is defined in the setup code that you read through.) If you're having trouble figuring out the output shape, take a look at the expected sizes of arguments to `torch.nn.MultiheadAttention`."
      ]
    },
    {
      "cell_type": "code",
      "execution_count": 15,
      "metadata": {
        "id": "sx0rGgue8d54"
      },
      "outputs": [],
      "source": [
        "## DO NOT EDIT THIS CELL\n",
        "class TokenEmbedding(nn.Module):\n",
        "    ''' Embedding layer with weights defined by a vocabulary and an embedding size'''\n",
        "    def __init__(self, vocab_size: int, emb_size: int):\n",
        "        \"\"\"\n",
        "        Initializes a TokenEmbedding module\n",
        "\n",
        "        Parameters\n",
        "        ----------\n",
        "        vocab_size : int\n",
        "            size of the vocab that embeddings will be from\n",
        "        emb_size : int\n",
        "            embedding size\n",
        "        \"\"\"\n",
        "        super(TokenEmbedding, self).__init__()\n",
        "        self.embedding = nn.Embedding(vocab_size, emb_size)\n",
        "        self.emb_size = emb_size\n",
        "\n",
        "    def forward(self, tokens: torch.Tensor):\n",
        "        \"\"\"\n",
        "        Returns the embedding of the tokens multiplied by sqrt(emb_size)\n",
        "\n",
        "        Parameters\n",
        "        ----------\n",
        "        tokens : torch.Tensor\n",
        "            input Tensor in the form of batched tokenized sentences using\n",
        "            vocabulary indices\n",
        "\n",
        "        Returns\n",
        "        ----------\n",
        "        torch.Tensor\n",
        "            output of the embeddings\n",
        "        \"\"\"\n",
        "        return self.embedding(tokens.long()) * math.sqrt(self.emb_size)\n",
        "\n",
        "class PositionalEncoding(nn.Module):\n",
        "    ''' Positional encoding layer for the transformer. '''\n",
        "    def __init__(self, emb_size: int, dropout: float, maxlen: int = 5000):\n",
        "        \"\"\"\n",
        "        Initializes a PositionalEncoding module. The math here isn't important\n",
        "        to have a firm grasp of, but the transformer explanation\n",
        "        linked above does explain how this works visually. :)\n",
        "\n",
        "        Parameters\n",
        "        ----------\n",
        "        emb_size : int\n",
        "            embedding size from TokenEmbedding\n",
        "        dropout : float\n",
        "            dropout to be used after encoding all the inputs\n",
        "        maxlen : int\n",
        "            maximum length of the sentence\n",
        "        \"\"\"\n",
        "        super(PositionalEncoding, self).__init__()\n",
        "        den = torch.exp(- torch.arange(0, emb_size, 2)* math.log(10000) / emb_size)\n",
        "        pos = torch.arange(0, maxlen).reshape(maxlen, 1)\n",
        "        pos_embedding = torch.zeros((maxlen, emb_size))\n",
        "        pos_embedding[:, 0::2] = torch.sin(pos * den)\n",
        "        pos_embedding[:, 1::2] = torch.cos(pos * den)\n",
        "        pos_embedding = pos_embedding.unsqueeze(-2)\n",
        "\n",
        "        self.dropout = nn.Dropout(dropout)\n",
        "        self.register_buffer('pos_embedding', pos_embedding)\n",
        "\n",
        "    def forward(self, token_embedding: int):\n",
        "        \"\"\"\n",
        "        Returns the sum of the token embedding and the positional embedding.\n",
        "        Again, see the transformer visualization for more information.\n",
        "\n",
        "        Parameters\n",
        "        ----------\n",
        "        token_embedding : torch.Tensor\n",
        "            input Tensor from a TokenEmbedding layer\n",
        "\n",
        "        Returns\n",
        "        ----------\n",
        "        torch.Tensor\n",
        "            a positionally-encoded sentence representation\n",
        "        \"\"\"\n",
        "        return self.dropout(token_embedding + self.pos_embedding[:token_embedding.size(0), :])"
      ]
    },
    {
      "cell_type": "code",
      "execution_count": 16,
      "metadata": {
        "id": "ZrGd5YvA7ZM0"
      },
      "outputs": [],
      "source": [
        "class ManualTransformer(nn.Module):\n",
        "    def __init__(self, num_encoder_layers: int, num_decoder_layers: int, emb_size: int, nhead: int,\n",
        "                 src_vocab_size: int, tgt_vocab_size: int, dim_ff: int = 512, dropout: float = 0.1):\n",
        "        \"\"\"\n",
        "        Initializes a ManualTransformer module.\n",
        "\n",
        "        Parameters\n",
        "        ----------\n",
        "        num_encoder_layers : int\n",
        "            number of encoder layers in the transformer\n",
        "        num_decoder_layers : int\n",
        "            number of decoder layers in the transformer\n",
        "        emb_size : int\n",
        "            embedding size used for token embedding, positional encoding,\n",
        "            and encoding and decoding\n",
        "        nhead : int\n",
        "            number of heads to use for multi-head attention in the encoder and\n",
        "            decoder\n",
        "        src_vocab_size : int\n",
        "            vocab size of the input sentences of the transformer\n",
        "        tgt_vocab_size : int\n",
        "            vocab size of the target sentences of the transformer\n",
        "        dim_ff : int\n",
        "            hidden dimension of the feedforward layers\n",
        "        dropout : float\n",
        "            dropout to be used after encoding all the inputs\n",
        "        \"\"\"\n",
        "        super(ManualTransformer, self).__init__()\n",
        "\n",
        "        # TODO: Initialize the necessary pieces of the transformer\n",
        "        # Token Embeddings\n",
        "        self.src_embedding = TokenEmbedding(src_vocab_size, emb_size)\n",
        "        self.tgt_embedding = TokenEmbedding(tgt_vocab_size, emb_size)\n",
        "\n",
        "        # Positional Encoding\n",
        "        self.positional_encoding = PositionalEncoding(emb_size, dropout)\n",
        "\n",
        "        # Encoder and Decoder\n",
        "        self.encoder = ManualEncoder(ManualEncoderLayer(emb_size, dropout, nhead, dim_ff), num_encoder_layers)\n",
        "        self.decoder = ManualDecoder(ManualDecoderLayer(emb_size, dropout, nhead, dim_ff), num_decoder_layers)\n",
        "\n",
        "        # Final Linear Layer (Projection to Target Vocabulary)\n",
        "        self.out = nn.Linear(emb_size, tgt_vocab_size)\n",
        "\n",
        "        ### DO NOT EDIT ###\n",
        "        # Initialize parameters with Glorot / fan_avg.\n",
        "        for p in self.parameters():\n",
        "            if p.dim() > 1:\n",
        "                nn.init.xavier_uniform_(p)\n",
        "\n",
        "    def get_tgt_mask(self, tgt: torch.Tensor) -> torch.Tensor:\n",
        "        \"\"\"\n",
        "        Returns a mask of the target sequence to be used with attention\n",
        "        during decoding\n",
        "\n",
        "        Parameters\n",
        "        ----------\n",
        "        tgt : torch.Tensor\n",
        "            model's target sequence\n",
        "\n",
        "        Returns\n",
        "        ----------\n",
        "        torch.Tensor\n",
        "            boolean mask Tensor displaying locations of tokens in target to\n",
        "            mask attention to\n",
        "        \"\"\"\n",
        "        #TODO: Implement next word mask for the target, which masks out all subsequent words\n",
        "          # *hint* - torch.triu\n",
        "        # Get the length of the target sequence\n",
        "        size = tgt.size(0)\n",
        "        mask = (torch.triu(torch.ones((size, size), device=tgt.device)) == 1).transpose(0, 1)\n",
        "        # Fills elements of self tensor with value where mask is True.\n",
        "        mask = mask.bool().masked_fill(mask == 0, True).masked_fill(mask == 1, False)\n",
        "\n",
        "        return mask\n",
        "\n",
        "    def encode(self, src: torch.Tensor, src_padding_mask: torch.Tensor) -> torch.Tensor:\n",
        "        \"\"\"\n",
        "        Full encoding pass.\n",
        "\n",
        "        Parameters\n",
        "        ----------\n",
        "        src : torch.Tensor\n",
        "            model's input sequence (in form of input vocab indices)\n",
        "        src_padding_mask : torch.Tensor\n",
        "            boolean mask Tensor displaying locations of padding tokens in\n",
        "            the input sequence\n",
        "\n",
        "        Returns\n",
        "        ----------\n",
        "        torch.Tensor\n",
        "            output of the full encoder pass\n",
        "        \"\"\"\n",
        "        #TODO Implement the encode function\n",
        "        # Token Embedding\n",
        "        src_embedding = self.src_embedding(src)\n",
        "\n",
        "        # Positional Encoding\n",
        "        src_encoding = self.positional_encoding(src_embedding)\n",
        "\n",
        "        return self.encoder(src_encoding, src_padding_mask)\n",
        "\n",
        "    def decode(self, tgt: torch.Tensor, src_encoding:torch.Tensor,\n",
        "               src_padding_mask: torch.Tensor, tgt_padding_mask: torch.Tensor) -> torch.Tensor:\n",
        "        \"\"\"\n",
        "        Full decoding pass.\n",
        "\n",
        "        Parameters\n",
        "        ----------\n",
        "        tgt : torch.Tensor\n",
        "            model's target sequence\n",
        "        src_encoding : torch.Tensor\n",
        "            output of the encoder\n",
        "        src_padding_mask : torch.Tensor\n",
        "            boolean mask Tensor displaying locations of padding tokens in\n",
        "            the \"encoded input\" (src_encoding)\n",
        "        tgt_padding_mask : torch.Tensor\n",
        "            boolean mask Tensor displaying locations of padding tokens in\n",
        "            the input (target sequence)\n",
        "\n",
        "        Returns\n",
        "        ----------\n",
        "        torch.Tensor\n",
        "            output of the forward pass\n",
        "        \"\"\"\n",
        "        #TODO Implement the decode function\n",
        "        # Token Embedding\n",
        "        tgt_embedding = self.tgt_embedding(tgt)\n",
        "\n",
        "        # Positional Encoding\n",
        "        tgt_encoding = self.positional_encoding(tgt_embedding)\n",
        "        tgt_mask = self.get_tgt_mask(tgt)\n",
        "        # forward(self, x: torch.Tensor, src_encoding: torch.Tensor, src_padding_mask: torch.Tensor,\n",
        "        #     tgt_mask: torch.Tensor, tgt_padding_mask: torch.Tensor):\n",
        "        return self.decoder(tgt_encoding, src_encoding, src_padding_mask, tgt_mask, tgt_padding_mask)\n",
        "\n",
        "    def forward(self, src: torch.Tensor, tgt: torch.Tensor,\n",
        "                src_padding_mask: torch.Tensor, tgt_padding_mask: torch.Tensor) -> torch.Tensor:\n",
        "        \"\"\"\n",
        "        Full forward pass of the transformer.\n",
        "\n",
        "        Parameters\n",
        "        ----------\n",
        "        src : torch.Tensor\n",
        "            model's input sequence (in form of input vocab indices)\n",
        "        tgt : torch.Tensor\n",
        "            model's target sequence (in form of target vocab indices)\n",
        "        src_padding_mask : torch.Tensor\n",
        "            boolean mask Tensor displaying locations of padding tokens in\n",
        "            the input sequence\n",
        "        tgt_padding_mask : torch.Tensor\n",
        "            boolean mask Tensor displaying locations of padding tokens in\n",
        "            the target sequence\n",
        "\n",
        "        Returns\n",
        "        ----------\n",
        "        torch.Tensor\n",
        "            output of the forward pass\n",
        "        \"\"\"\n",
        "        #TODO Implement the forward pass\n",
        "        # Encoding and Decoding\n",
        "        src_encoding = self.encode(src, src_padding_mask)\n",
        "        tgt_output = self.decode(tgt, src_encoding, src_padding_mask, tgt_padding_mask)\n",
        "\n",
        "        # Projection to Target Vocabulary\n",
        "        return self.out(tgt_output)"
      ]
    },
    {
      "cell_type": "markdown",
      "metadata": {
        "id": "KOfU5d7t7ZM0"
      },
      "source": [
        "### Training the Model\n",
        "\n",
        "Here, we'll write the code to actually train and evaluate our `ManualTransformer`. First, you can sanity check and verify that your model is training properly by training for an epoch and making sure that the results look like this (it's okay if the epoch time is different, just make sure the losses are *about* the same):\n",
        "\n",
        "```\n",
        "Epoch 1, Train loss: 3.999, Val loss: 3.041, Epoch time = 46.511s\n",
        "```\n",
        "Once you're sure the model works, you can train it for 15 epochs and proceed to the next section."
      ]
    },
    {
      "cell_type": "code",
      "execution_count": 17,
      "metadata": {
        "id": "zGBPTMc-kf23"
      },
      "outputs": [],
      "source": [
        "def padding_mask(idx_tensor: torch.Tensor) -> torch.Tensor:\n",
        "    \"\"\"\n",
        "    Returns a boolean mask where True indicates that the token is a padding token.\n",
        "\n",
        "    Parameters\n",
        "    ----------\n",
        "    idx_tensor : torch.Tensor\n",
        "        tensor for which a padding mask should be generated\n",
        "\n",
        "    Returns\n",
        "    ----------\n",
        "    torch.Tensor\n",
        "        boolean mask of padding of input tensor\n",
        "    \"\"\"\n",
        "    return (idx_tensor == PAD_IDX).transpose(0, 1)"
      ]
    },
    {
      "cell_type": "code",
      "execution_count": 18,
      "metadata": {
        "id": "IlJd-5dQ7ZM0"
      },
      "outputs": [],
      "source": [
        "def train_epoch(model:nn.Module, train_dataloader: DataLoader,\n",
        "                loss_fn: nn.Module, optimizer:torch.optim.Optimizer) -> float:\n",
        "    \"\"\"\n",
        "    Trains the inputted model using the provided data, optimizer, and loss\n",
        "    function for one epoch. Returns the average loss of the epoch.\n",
        "\n",
        "    Parameters\n",
        "    ----------\n",
        "    model : nn.Module\n",
        "        model to train\n",
        "    optimizer : torch.optim.Optimizer\n",
        "        optimizer to use with training\n",
        "    train_dataloader : DataLoader\n",
        "        training data\n",
        "    loss_fn : nn.Module\n",
        "        loss function to use with training\n",
        "\n",
        "    Returns\n",
        "    ----------\n",
        "    float\n",
        "        epoch average loss\n",
        "    \"\"\"\n",
        "    model.train()\n",
        "    total_loss = 0\n",
        "\n",
        "    for src, tgt in train_dataloader:\n",
        "        src, tgt = src.to(device), tgt.to(device)\n",
        "        tgt_input = tgt[:-1, :]\n",
        "\n",
        "        src_padding_mask = padding_mask(src)\n",
        "        tgt_padding_mask = padding_mask(tgt_input)\n",
        "\n",
        "        logits = model(src, tgt_input, src_padding_mask, tgt_padding_mask)\n",
        "\n",
        "        optimizer.zero_grad()\n",
        "\n",
        "        tgt_out = tgt[1:, :]\n",
        "        loss = loss_fn(logits.reshape(-1, logits.shape[-1]), tgt_out.reshape(-1))\n",
        "        loss.backward()\n",
        "\n",
        "        optimizer.step()\n",
        "        total_loss += loss.item()\n",
        "\n",
        "    return total_loss / len(train_dataloader)\n",
        "\n",
        "def val(model: nn.Module, val_dataloader: DataLoader, loss_fn: nn.Module) -> float:\n",
        "    \"\"\"\n",
        "    Performs validation on the inputted model using the provided data and loss\n",
        "    function for one epoch. Returns the validation loss.\n",
        "\n",
        "    Parameters\n",
        "    ----------\n",
        "    model : nn.Module\n",
        "        model to train\n",
        "    val_dataloader : DataLoader\n",
        "        validation data\n",
        "    loss_fn : nn.Module\n",
        "        loss function to use to calculate validation loss\n",
        "\n",
        "    Returns\n",
        "    ----------\n",
        "    float\n",
        "        average validation loss\n",
        "    \"\"\"\n",
        "    model.eval()\n",
        "    losses = 0\n",
        "    for src, tgt in val_dataloader:\n",
        "        src, tgt = src.to(device), tgt.to(device)\n",
        "\n",
        "        tgt_input = tgt[:-1, :]\n",
        "\n",
        "        src_padding_mask = padding_mask(src)\n",
        "        tgt_padding_mask = padding_mask(tgt_input)\n",
        "\n",
        "        logits = model(src, tgt_input, src_padding_mask, tgt_padding_mask)\n",
        "\n",
        "        tgt_out = tgt[1:, :]\n",
        "        loss = loss_fn(logits.reshape(-1, logits.shape[-1]), tgt_out.reshape(-1))\n",
        "        losses += loss.item()\n",
        "\n",
        "    return losses / len(val_dataloader)"
      ]
    },
    {
      "cell_type": "code",
      "execution_count": 19,
      "metadata": {
        "id": "88pdxdz97ZM0"
      },
      "outputs": [],
      "source": [
        "def train(model: nn.Module, train_dataloader : DataLoader, loss_fn: nn.Module, optimizer: torch.optim.Optimizer, n_epochs:int=10):\n",
        "    \"\"\"\n",
        "    Trains the inputted model using the provided data, optimizer, and loss\n",
        "    function for n epochs. Prints the average loss of the training epoch\n",
        "    and the validation loss after each epoch.\n",
        "\n",
        "    Parameters\n",
        "    ----------\n",
        "    model : nn.Module\n",
        "        model to train\n",
        "    train_dataloader : DataLoader\n",
        "        training data\n",
        "    loss_fn : nn.Module\n",
        "        loss function to use with training\n",
        "    optimizer : torch.optim.Optimizer\n",
        "        optimizer to use with training\n",
        "    n_epochs : int\n",
        "        number of epochs to train for\n",
        "    \"\"\"\n",
        "\n",
        "    model = model.to(device)\n",
        "\n",
        "    for epoch in range(1, n_epochs+1):\n",
        "        print(f\"Epoch {epoch},\", end = \" \")\n",
        "        start_time = timer()\n",
        "        train_loss = train_epoch(model, train_dataloader, loss_fn, optimizer)\n",
        "        end_time = timer()\n",
        "        print(f\" Train loss: {train_loss:.3f}, Epoch time = {(end_time - start_time):.3f}s\", end = \" \")\n",
        "\n",
        "        val_loss = val(model, val_loader, loss_fn)\n",
        "        print(f\" Val loss: {val_loss:.3f}\")"
      ]
    },
    {
      "cell_type": "code",
      "execution_count": 20,
      "metadata": {
        "colab": {
          "base_uri": "https://localhost:8080/"
        },
        "id": "LOy8a8SD7ZM1",
        "outputId": "edcfa7e1-7c4a-409f-8243-46e6e35ad232"
      },
      "outputs": [
        {
          "output_type": "stream",
          "name": "stdout",
          "text": [
            "Epoch 1,  Train loss: 3.996, Epoch time = 48.721s  Val loss: 3.048\n",
            "Epoch 2,  Train loss: 2.812, Epoch time = 47.502s  Val loss: 2.497\n",
            "Epoch 3,  Train loss: 2.340, Epoch time = 46.774s  Val loss: 2.155\n",
            "Epoch 4,  Train loss: 2.035, Epoch time = 47.471s  Val loss: 1.977\n",
            "Epoch 5,  Train loss: 1.814, Epoch time = 47.234s  Val loss: 1.871\n",
            "Epoch 6,  Train loss: 1.644, Epoch time = 47.093s  Val loss: 1.798\n",
            "Epoch 7,  Train loss: 1.508, Epoch time = 46.997s  Val loss: 1.741\n",
            "Epoch 8,  Train loss: 1.390, Epoch time = 47.604s  Val loss: 1.726\n",
            "Epoch 9,  Train loss: 1.289, Epoch time = 47.034s  Val loss: 1.721\n",
            "Epoch 10,  Train loss: 1.201, Epoch time = 47.140s  Val loss: 1.706\n",
            "Epoch 11,  Train loss: 1.122, Epoch time = 50.795s  Val loss: 1.690\n",
            "Epoch 12,  Train loss: 1.051, Epoch time = 47.732s  Val loss: 1.700\n",
            "Epoch 13,  Train loss: 0.987, Epoch time = 47.379s  Val loss: 1.716\n",
            "Epoch 14,  Train loss: 0.927, Epoch time = 47.639s  Val loss: 1.724\n",
            "Epoch 15,  Train loss: 0.874, Epoch time = 47.754s  Val loss: 1.745\n"
          ]
        }
      ],
      "source": [
        "# initialize the Transformer Model\n",
        "manual_transformer = ManualTransformer(num_encoder_layers=3, num_decoder_layers=3, emb_size=512, nhead=8, src_vocab_size=len(de_vocab), tgt_vocab_size=len(en_vocab))\n",
        "\n",
        "# define our loss function and optimizer\n",
        "loss_fn = torch.nn.CrossEntropyLoss(ignore_index=PAD_IDX)\n",
        "optimizer = torch.optim.Adam(manual_transformer.parameters(), lr=0.0001, betas=(0.9, 0.98), eps=1e-9)\n",
        "\n",
        "# train the model, change n_epochs to 15 when you're ready!\n",
        "# train(manual_transformer, train_loader, loss_fn, optimizer, n_epochs=1)\n",
        "train(manual_transformer, train_loader, loss_fn, optimizer, n_epochs=15)"
      ]
    },
    {
      "cell_type": "markdown",
      "metadata": {
        "id": "v0ZXfiPs7ZM1"
      },
      "source": [
        "# Part 2: Evaluating our Transformer\n",
        "\n",
        "BLEU is a metric between zero and one that measures the quality of a machine translation against a set of high-quality \"ground truth\" reference translations. It is almost impossible to get a perfect score of 1, even for human translators, but it has been shown that BLEU scores correlate with human evaluations of quality. It's difficult to compare BLEU metrics across corpora, but a score of about 30% is generally considered decent.\n"
      ]
    },
    {
      "cell_type": "markdown",
      "metadata": {
        "id": "eLsYKgbu7ZM1"
      },
      "source": [
        "## Part 2a: Getting Translations Out of Our Model\n",
        "Before we can actually calculate BLEU though, we need to get our outputs from the model."
      ]
    },
    {
      "cell_type": "markdown",
      "metadata": {
        "id": "MiXYYMEN7ZM1"
      },
      "source": [
        "### [DO NOT EDIT] Greedy decoding to get outputs\n",
        "Here we've given you some code to get predictions from the trained model. Here's a description of the functions we've given you:\n",
        "- `tokenlist_to_strlist(tokens, vocab)`, which takes in a list of tokens and outputs a list of the strings that correspond to each token\n",
        "- `tokenlist_to_str(tokens, vocab, show_pad=False)`, which calls the function above and then turns the resulting list of strings into a single sentence. If `show_pad` is True, prints out the \\<pad\\> tokens.\n",
        "- `translate_tokens(model, src_tokens)`, which takes in a Transformer model and tokens for a German source sentence and outputs a list of tokens that are an English translation of the sentence\n",
        "- `translate(model, src_sentence)`, which takes in a Transformer model and a German source sentence as a string, and returns a string English translation.\n",
        "- `greedy_decode(model, src, max_len, start_symbol)` This takes in a model, input source token tensor, int max_len and start_symbol index. This function repeated calls the model to produce generated output from the model until the model produces an EOS token or the `max_len` is reached. The first decoder input id is the `start_symbol`. Importantly, this is a **greedy** decode of the model so we take the highest probability token at each sequence step. This returns the sequence of tokens generated by the model.\n",
        "\n",
        "**TODO**\n",
        "\n",
        "- `beam_search(model, src, max_len, start_symbol, num_beams)` For this method you'll have to implement beam search! This can be a very tricky algorithm to implement so **we recommmend adapting the `greedy_decode` method** so that it now uses beam search instead of a greedy search algorithm. We also recommend using `torch.topk` to find the next tokens of the highest probablity and `heapq.nlargest` to find the current best beams to continue searching down. **If you get stuck, move on and come back to it** - you can just use the `greedy_decode` algorithm instead to look at how your model performs!"
      ]
    },
    {
      "cell_type": "code",
      "execution_count": 21,
      "metadata": {
        "id": "12aKXWs67ZM1"
      },
      "outputs": [],
      "source": [
        "from torch.nn.functional import softmax\n",
        "import heapq\n",
        "\n",
        "def greedy_decode(model: nn.Module, src: torch.Tensor, max_len: int,\n",
        "                  start_symbol: int) -> tuple[torch.Tensor, float]:\n",
        "    \"\"\"\n",
        "    Function to generate a translation using a greedy decoding algorithm\n",
        "\n",
        "    Parameters\n",
        "    ----------\n",
        "    model : nn.Module\n",
        "        trained model to decode from\n",
        "    src : torch.Tensor\n",
        "        sequence inputted into model\n",
        "    max_len : int\n",
        "        maximum length to generate with decoding\n",
        "    optimizer : torch.optim.Optimizer\n",
        "        optimizer to use with training\n",
        "    start_symbol : int\n",
        "        vocabulary index to the start of sentence token\n",
        "\n",
        "    Returns\n",
        "    ----------\n",
        "    tuple[torch.Tensor, float]\n",
        "        a tuple of a tensor containing the sentence found using greedy\n",
        "        decode represented using vocabulary indices, and the probability\n",
        "        associated with that sentence\n",
        "    \"\"\"\n",
        "\n",
        "    src = src.to(device)\n",
        "    src_padding_mask = padding_mask(src)\n",
        "\n",
        "    total_prob = 1.0\n",
        "\n",
        "    src_encoding = model.encode(src, src_padding_mask).to(device)\n",
        "    seq = torch.ones((1, 1), dtype=torch.long, device=device).fill_(start_symbol)\n",
        "    for i in range(max_len-1):\n",
        "        tgt_padding_mask = padding_mask(seq)\n",
        "        out = model.decode(seq, src_encoding, src_padding_mask, tgt_padding_mask).to(device)\n",
        "        out = out.transpose(0, 1).to(device)\n",
        "        probs = softmax(model.out(out[:, -1]), dim=-1)\n",
        "        prob, next_word = torch.max(probs, dim=1)\n",
        "        total_prob *= prob.item()\n",
        "        next_word = next_word.item()\n",
        "\n",
        "        seq = torch.cat([seq, torch.ones(1, 1).type_as(src.data).fill_(next_word)], dim=0)\n",
        "\n",
        "        if next_word == EOS_IDX:\n",
        "            break\n",
        "    return seq.flatten(), total_prob\n",
        "\n",
        "def beam_search(model: nn.Module, src: torch.Tensor, max_len: int, start_symbol: int,\n",
        "                beam_size: int) -> tuple[torch.Tensor, float]:\n",
        "    \"\"\"\n",
        "    Function to generate a translation using a beam search algorithm\n",
        "\n",
        "    Parameters\n",
        "    ----------\n",
        "    model : nn.Module\n",
        "        trained model to decode from\n",
        "    src : torch.Tensor\n",
        "        sequence inputted into model\n",
        "    max_len : int\n",
        "        maximum length to generate with decoding\n",
        "    optimizer : torch.optim.Optimizer\n",
        "        optimizer to use with training\n",
        "    start_symbol : int\n",
        "        vocabulary index to the start of sentence token\n",
        "    beam_size : int\n",
        "        size of the beam using during the search\n",
        "\n",
        "    Returns\n",
        "    ----------\n",
        "    tuple[torch.Tensor, float]\n",
        "        a tuple of a tensor containing the sentence found using beam\n",
        "        search represented using vocabulary indices, and the probability\n",
        "        associated with that sentence\n",
        "    \"\"\"\n",
        "    # TODO: Implement beam search\n",
        "    # Initialize device and other parameters\n",
        "    src = src.to(device)\n",
        "    src_padding_mask = padding_mask(src)\n",
        "\n",
        "    total_prob = 1.0\n",
        "\n",
        "    src_encoding = model.encode(src, src_padding_mask).to(device)\n",
        "    seq = torch.ones((1, 1), dtype=torch.long, device=device).fill_(start_symbol)\n",
        "\n",
        "    # List to keep track of the current beams\n",
        "    beams = [(seq, total_prob)]\n",
        "\n",
        "    for i in range(max_len - 1):\n",
        "        new_beams = []\n",
        "\n",
        "        for seq, total_prob in beams:\n",
        "            # Special case when we reach the end of a possible sentence\n",
        "            if seq[-1].item() == EOS_IDX:\n",
        "                new_beams.append((seq, total_prob))\n",
        "                continue\n",
        "\n",
        "            tgt_padding_mask = padding_mask(seq)\n",
        "\n",
        "            out = model.decode(seq, src_encoding, src_padding_mask, tgt_padding_mask).to(device)\n",
        "            out = out.transpose(0, 1).to(device)\n",
        "            probs = softmax(model.out(out[:, -1]), dim=-1)\n",
        "\n",
        "            # Get the top k tokens and their probabilities\n",
        "            topk_probs, topk_tokens = torch.topk(probs, beam_size)\n",
        "\n",
        "            for j in range(beam_size):\n",
        "                next_token = topk_tokens[0, j].item()\n",
        "                next_prob = topk_probs[0, j].item()\n",
        "\n",
        "                if next_token == EOS_IDX:\n",
        "                    new_beams.append((seq, total_prob))  # End of a sentence, no change in probability\n",
        "                else:\n",
        "                    new_seq = torch.cat([seq, torch.ones(1, 1).type_as(src.data).fill_(next_token)], dim=0)\n",
        "                    new_beams.append((new_seq, total_prob * next_prob))  # Multiply by next token probability\n",
        "\n",
        "        # Select the top beam_size sequences with the highest probabilities\n",
        "        # heapq.nlargest(n, iterable, key=None)\n",
        "        # Return a list with the n largest elements from the dataset defined by iterable.\n",
        "        # key, if provided, specifies a function of one argument that is used to extract\n",
        "        # a comparison key from each element in iterable (for example, key=str.lower).\n",
        "        # Equivalent to: sorted(iterable, key=key, reverse=True)[:n].\n",
        "\n",
        "        # new_beams = sorted(new_beams, key=lambda x: x[1], reverse=True)\n",
        "        # beams = new_beams[:beam_size]\n",
        "\n",
        "        # Select the top beam_size sequences with the highest probabilities\n",
        "        beams = heapq.nlargest(beam_size, new_beams, key=lambda x: x[1])\n",
        "\n",
        "    # Retrieve the final sequence and total probability of the best beam\n",
        "    final_seq, total_prob = max(beams, key=lambda x: x[1])\n",
        "    return final_seq.flatten(), total_prob"
      ]
    },
    {
      "cell_type": "code",
      "execution_count": 22,
      "metadata": {
        "id": "Z0kWZaE1pXny"
      },
      "outputs": [],
      "source": [
        "def tokenlist_to_strlist(tokens: torch.Tensor, vocab: torchtext.vocab.Vocab) -> list[str]:\n",
        "    \"\"\"\n",
        "    Converts a tensor representation of a list of tokens to a list of strings.\n",
        "\n",
        "    Parameters\n",
        "    ----------\n",
        "    tokens : torch.Tensor\n",
        "        tensor representation of a list of tokens\n",
        "    vocab : torchtext.vocab.Vocab\n",
        "        vocabulary associated with the given tokens\n",
        "\n",
        "    Returns\n",
        "    ----------\n",
        "    list[str]\n",
        "        returns a representation of the tokens in the form of a list of word strings\n",
        "    \"\"\"\n",
        "    return vocab.lookup_tokens(list(tokens.cpu().numpy()))\n",
        "\n",
        "def tokenlist_to_str(tokens: torch.Tensor, vocab: torchtext.vocab.Vocab,\n",
        "                     show_pad: bool=False) -> str:\n",
        "    \"\"\"\n",
        "    Converts a tensor representation of a list of tokens to a string, ignoring start\n",
        "    and end of sentence tokens, and optionally ignoring padding tokens.\n",
        "\n",
        "    Parameters\n",
        "    ----------\n",
        "    tokens : torch.Tensor\n",
        "        tensor representation of a list of tokens\n",
        "    vocab : torchtext.vocab.Vocab\n",
        "        vocabulary associated with the given tokens\n",
        "    show_pad : bool\n",
        "        whether the outputted string should contain pad tokens or not\n",
        "\n",
        "    Returns\n",
        "    ----------\n",
        "    str\n",
        "        returns a representation of the tokens in the form of a string\n",
        "    \"\"\"\n",
        "    out = \" \".join(tokenlist_to_strlist(tokens, vocab)).replace(\"<bos>\", \"\").replace(\"<eos>\", \"\")\n",
        "    if show_pad:\n",
        "        return out\n",
        "    else:\n",
        "        return out.replace(\"<pad>\", \"\")\n",
        "\n",
        "def translate_tokens(model: nn.Module, src_tokens: torch.Tensor) -> tuple[torch.Tensor, float]:\n",
        "    \"\"\"\n",
        "    Takes a tensor of source tokens and \"translates\" them by inputting them into\n",
        "    the model and using either greedy decode or beam search to decode the output\n",
        "\n",
        "    Parameters\n",
        "    ----------\n",
        "    model : nn.Module\n",
        "        trained model to input tokens into\n",
        "    src_tokens : torch.Tensor\n",
        "        tensor representations of input sentences without start and end of\n",
        "        sentence indices\n",
        "\n",
        "    Returns\n",
        "    ----------\n",
        "    tuple[torch.Tensor, float]\n",
        "        a tuple of a tensor containing the sentence found using either greedy\n",
        "        decode or beam search represented using vocabulary indices, and the\n",
        "        probability associated with that sentence\n",
        "    \"\"\"\n",
        "    model.eval()\n",
        "    src_tokens = torch.cat([torch.tensor([BOS_IDX]), src_tokens, torch.tensor([EOS_IDX])], dim=0).view(-1, 1)\n",
        "    num_tokens = src_tokens.shape[0]\n",
        "\n",
        "    # TODO: uncomment the below line and comment out the greedy_decode line to run beam_search!\n",
        "\n",
        "    tgt_tokens, prob = beam_search(model, src_tokens, num_tokens + 5, BOS_IDX, 5)\n",
        "    # tgt_tokens, prob = greedy_decode(model, src_tokens, num_tokens + 5, BOS_IDX)\n",
        "    return tgt_tokens, prob\n",
        "\n",
        "def translate(model: nn.Module, src_sentence: str,\n",
        "              output_tokens: bool=False) -> tuple[str, torch.Tensor, torch.Tensor] | tuple[str, float]:\n",
        "    \"\"\"\n",
        "    Takes a sentence string and \"translates\" it\n",
        "\n",
        "    Parameters\n",
        "    ----------\n",
        "    model : nn.Module\n",
        "        trained model to input tokens into\n",
        "    src_sentence : str\n",
        "        string representation of input sentence\n",
        "    output_tokens : bool\n",
        "        whether the source and target tokens are also outputted\n",
        "\n",
        "    Returns\n",
        "    ----------\n",
        "    tuple[str, torch.Tensor, torch.Tensor]\n",
        "        a string representation of the translated sentence, the tensor\n",
        "        representation of the input, and the tensor representation of the\n",
        "        translated sentence. Used in analyze_sentence below\n",
        "    OR\n",
        "    tuple[str, float]\n",
        "        a string represention of the translated sentence and the\n",
        "        probability associated with that sentence\n",
        "    \"\"\"\n",
        "    model.eval()\n",
        "    src_tokens = torch.tensor(de_vocab(de_tokenizer(src_sentence)), dtype=torch.long)\n",
        "    tgt_tokens, prob = translate_tokens(model, src_tokens)\n",
        "    translation = tokenlist_to_str(tgt_tokens, en_vocab)\n",
        "    if output_tokens:\n",
        "      return translation, src_tokens, tgt_tokens\n",
        "    else:\n",
        "      return translation, prob"
      ]
    },
    {
      "cell_type": "markdown",
      "metadata": {
        "id": "3Ptnwy3l7ZM1"
      },
      "source": [
        "### Take a look at the outputs!\n",
        "In this cell, we encourage you to try some sentences in German to see how well the model does at translating them into English! You can even take some examples from `val_data` yourself to test on. `val_data` is a list of `(de_tokenlist, en_tokenlist)` tuples which you can convert to strings using one of the functions above.\n",
        "\n",
        "Try looking up the paper for the Multi30k dataset online, and see where our language data came from. Does that provide an explanation for why some sentences have better translations than others?\n",
        "\n",
        "You can also change around the number of epochs the model trains for and see how that impacts qualitative performance. Just make sure to change it back after before handing things in.\n"
      ]
    },
    {
      "cell_type": "code",
      "execution_count": 23,
      "metadata": {
        "colab": {
          "base_uri": "https://localhost:8080/"
        },
        "id": "HOW_m8j77ZM2",
        "outputId": "32dd55a8-4428-453d-c58e-3f0475c48d45"
      },
      "outputs": [
        {
          "output_type": "stream",
          "name": "stdout",
          "text": [
            " A man on a mound with a dog \n",
            " Probability: 0.005846826761514262\n",
            "\n",
            " Three children eating ice cream while a third looks on . \n",
            " Probability: 0.010119358193484806\n",
            "\n",
            " A woman on the beach taking pictures of the ocean . \n",
            " Probability: 0.03207923384670594\n",
            "\n",
            " A tractor moving dirt for the front of a wall . \n",
            " Probability: 2.6931248689993803e-05\n",
            "\n"
          ]
        }
      ],
      "source": [
        "def pretty_print(translation: str, prob: float):\n",
        "    \"\"\"\n",
        "    Prints a translation and its associated probability nicely\n",
        "\n",
        "    Parameters\n",
        "    ----------\n",
        "    translation : str\n",
        "        translation string\n",
        "    prob : float\n",
        "        probability associated with translation\n",
        "    \"\"\"\n",
        "    print(translation, f\"Probability: {prob}\")\n",
        "    print()\n",
        "\n",
        "pretty_print(*translate(manual_transformer, \"Ein Mann auf einem Maisfeld mit einem Hund\"))\n",
        "pretty_print(*translate(manual_transformer, \"Drei Kinder essen Eis, während ein Elternteil zuschaut\"))\n",
        "pretty_print(*translate(manual_transformer, \"Eine Frau am Strand fotografiert das Meer\"))\n",
        "pretty_print(*translate(manual_transformer, \"Ein Traktor bewegt Erde für den Bau einer Stützmauer.\"))"
      ]
    },
    {
      "cell_type": "markdown",
      "metadata": {
        "id": "_-CmxmPG7ZM2"
      },
      "source": [
        "## Part 2b: Evaluating Translations using BLEU"
      ]
    },
    {
      "cell_type": "markdown",
      "metadata": {
        "id": "u-n87QUg7ZM2"
      },
      "source": [
        "### Implement BLEU\n",
        "The overall formula for BLEU looks like this:\n",
        "$ \\text{BLEU} = \\min(1, \\text{exp}(1 - \\frac{\\text{reference length}}{\\text{output length}}))(\\prod\\limits_{i=1}^{n} precision_{i})^{1/n}$\n",
        "\n",
        "\n",
        "To break it down, you have\n",
        "- a **brevity penality** on the left:\n",
        "$\\min(1, \\text{exp}(1 - \\frac{\\text{reference length}}{\\text{output length}}))$\n",
        "- **n-gram precisions** for all of the sentences against the ground truth translations, which for us will be from unigrams to 4-grams. For $i$ from $1$ to $4$, we calculate $precision_i$, which you can find a formula for below.\n",
        "\n",
        "\n",
        "To calculate $precision_i$, follow the below formula,\n",
        "$precision_i = \\cfrac{\\sum{_{snt\\in candidates}}\\sum{_{igram\\in snt}}\\text{min}(m^i_{snt}, m^i_{ref})}{w_i}$\n",
        "\n",
        "where $w_i$ is the total count of $i$-grams in all of the candidate sentences, $m^i_{snt}$ is the count of a unique $i$-gram in $snt$ and $m^i_{ref}$ is the count of that $i$-gram in the corresponding reference sentence.\n",
        "\n",
        "Read more about how to calculate BLEU [here](https://cloud.google.com/translate/automl/docs/evaluate#bleu)."
      ]
    },
    {
      "cell_type": "code",
      "execution_count": 27,
      "metadata": {
        "id": "vLcFxAdhA244"
      },
      "outputs": [],
      "source": [
        "import math\n",
        "\n",
        "def my_corpus_bleu(list_reference: list, list_candidate: list, n: int=4):\n",
        "    \"\"\"\n",
        "    Calculates the BLEU score given a list of references and a list of candidates\n",
        "\n",
        "    Parameters\n",
        "    ----------\n",
        "    list_reference : list[list[int]]\n",
        "      list of reference sentences each in the form of a list of indices\n",
        "    list_candidate : list[list[int]]\n",
        "      list of candidate sentences each in the form of a list of indices\n",
        "\n",
        "    Returns\n",
        "    -------\n",
        "    float\n",
        "      the BLEU score given the list of references and candidates\n",
        "    \"\"\"\n",
        "    # Calculate brevity penalty (BP) to account for differences in sentence length\n",
        "    brevity_penalty = min(1, math.exp(1 - sum(len(sentence) for sentence in list_reference)\n",
        "                        / sum(len(sentence) for sentence in list_candidate)))\n",
        "\n",
        "    # Initialize a variable to store the product of n-gram precisions\n",
        "    precisions = 1.0\n",
        "\n",
        "    for i in range(1, n + 1):\n",
        "        precision = 0.0\n",
        "        ngrams_counter = 0\n",
        "\n",
        "        for reference, candidate in zip(list_reference, list_candidate):\n",
        "            reference_ngrams = [tuple(reference[j:j + i]) for j in range(len(reference) - i + 1)]\n",
        "            candidate_ngrams = [tuple(candidate[j:j + i]) for j in range(len(candidate) - i + 1)]\n",
        "            ngrams_counter += len(candidate_ngrams)\n",
        "\n",
        "            reference_ngram_counter = Counter(reference_ngrams)\n",
        "            candidate_ngram_counter = Counter(candidate_ngrams)\n",
        "\n",
        "            for ngram in candidate_ngram_counter:\n",
        "                precision += min(candidate_ngram_counter[ngram], reference_ngram_counter.get(ngram, 0))\n",
        "\n",
        "        if ngrams_counter > 0:\n",
        "            precision /= ngrams_counter\n",
        "\n",
        "        precisions *= precision\n",
        "\n",
        "    # Calculate the geometric mean of n-gram precisions (n-th root of the product)\n",
        "    precisions = math.pow(precisions, 1 / n)\n",
        "\n",
        "    # Calculate the final BLEU score by combining brevity penalty and geometric mean of precisions\n",
        "    bleu = brevity_penalty * precisions\n",
        "\n",
        "    return bleu"
      ]
    },
    {
      "cell_type": "markdown",
      "metadata": {
        "id": "kpnPYAglaZx5"
      },
      "source": [
        "### Check your implementation\n",
        "Here are some unit tests you can use to evaluate your implementation against the NLTK implementation (they should be almost the exact same value, within at least 4 decimal points)."
      ]
    },
    {
      "cell_type": "code",
      "execution_count": 28,
      "metadata": {
        "colab": {
          "base_uri": "https://localhost:8080/"
        },
        "id": "hYdVaQYsW1iF",
        "outputId": "513ff3e2-2dab-4931-f5fa-3e8375fde60d"
      },
      "outputs": [
        {
          "output_type": "stream",
          "name": "stdout",
          "text": [
            "Student: 0.27221791225495623\n",
            "NLTK: 0.27221791225495623\n",
            "\n",
            "Student: 0.3387551654364098\n",
            "NLTK: 0.33875516543640977\n"
          ]
        }
      ],
      "source": [
        "from nltk.translate.bleu_score import corpus_bleu\n",
        "\n",
        "toy_references = [\"The NASA Opportunity rover is battling a massive dust storm on Mars .\".split()]\n",
        "toy_hypothesis = [\"A NASA rover is fighting a massive storm on Mars .\".split()]\n",
        "\n",
        "toy_references2 = [\"The quick brown fox jumped over the lazy dog\".split(),\n",
        "                   \"holy crap today is fring friday\".split(),\n",
        "                   \"jesse we have to cook\". split()]\n",
        "toy_hypothesis2 = [\"The fast maroon fox jumped over the tired old dog\".split(),\n",
        "                   \"oh wow today is fring friday\".split(),\n",
        "                   \"jesse we need to cook\".split()]\n",
        "\n",
        "\n",
        "print(\"Student:\", my_corpus_bleu(toy_references, toy_hypothesis, 4))\n",
        "print(\"NLTK:\", corpus_bleu([[lst] for lst in toy_references], toy_hypothesis)) # labels must be a list of list of words for NLTK BLEU\n",
        "print()\n",
        "print(\"Student:\", my_corpus_bleu(toy_references2, toy_hypothesis2, 4))\n",
        "print(\"NLTK:\", corpus_bleu([[lst] for lst in toy_references2], toy_hypothesis2)) # labels must be a list of list of words for NLTK BLEU"
      ]
    },
    {
      "cell_type": "markdown",
      "metadata": {
        "id": "eJGMnniU7ZM2"
      },
      "source": [
        "### How does our model stack up?\n",
        "Here we use your BLEU metric to evaluate your model! If your `my_corpus_bleu` implementation is correct, your BLEU score should match the NLTK-implemented score. This might take a couple minutes to run."
      ]
    },
    {
      "cell_type": "code",
      "execution_count": 33,
      "metadata": {
        "colab": {
          "base_uri": "https://localhost:8080/",
          "height": 403
        },
        "id": "9FfiiehDVsF0",
        "outputId": "5999e07b-91cc-48c9-a697-761ecf37b427"
      },
      "outputs": [
        {
          "output_type": "error",
          "ename": "KeyboardInterrupt",
          "evalue": "ignored",
          "traceback": [
            "\u001b[0;31m---------------------------------------------------------------------------\u001b[0m",
            "\u001b[0;31mKeyboardInterrupt\u001b[0m                         Traceback (most recent call last)",
            "\u001b[0;32m<ipython-input-33-5bbcc9be7326>\u001b[0m in \u001b[0;36m<cell line: 4>\u001b[0;34m()\u001b[0m\n\u001b[1;32m      2\u001b[0m \u001b[0;34m\u001b[0m\u001b[0m\n\u001b[1;32m      3\u001b[0m \u001b[0;31m# remember manual_transformer, val_data, and translate_tokens?\u001b[0m\u001b[0;34m\u001b[0m\u001b[0;34m\u001b[0m\u001b[0m\n\u001b[0;32m----> 4\u001b[0;31m \u001b[0mpredictions\u001b[0m \u001b[0;34m=\u001b[0m \u001b[0;34m[\u001b[0m\u001b[0mtranslate_tokens\u001b[0m\u001b[0;34m(\u001b[0m\u001b[0mmanual_transformer\u001b[0m\u001b[0;34m,\u001b[0m \u001b[0mt\u001b[0m\u001b[0;34m[\u001b[0m\u001b[0;36m0\u001b[0m\u001b[0;34m]\u001b[0m\u001b[0;34m)\u001b[0m\u001b[0;34m[\u001b[0m\u001b[0;36m0\u001b[0m\u001b[0;34m]\u001b[0m\u001b[0;34m.\u001b[0m\u001b[0mtolist\u001b[0m\u001b[0;34m(\u001b[0m\u001b[0;34m)\u001b[0m\u001b[0;34m[\u001b[0m\u001b[0;36m1\u001b[0m\u001b[0;34m:\u001b[0m\u001b[0;34m-\u001b[0m\u001b[0;36m1\u001b[0m\u001b[0;34m]\u001b[0m \u001b[0;32mfor\u001b[0m \u001b[0mt\u001b[0m \u001b[0;32min\u001b[0m \u001b[0mval_data\u001b[0m\u001b[0;34m]\u001b[0m\u001b[0;34m\u001b[0m\u001b[0;34m\u001b[0m\u001b[0m\n\u001b[0m\u001b[1;32m      5\u001b[0m \u001b[0mstudent_labels\u001b[0m \u001b[0;34m=\u001b[0m \u001b[0;34m[\u001b[0m\u001b[0mt\u001b[0m\u001b[0;34m[\u001b[0m\u001b[0;36m1\u001b[0m\u001b[0;34m]\u001b[0m\u001b[0;34m.\u001b[0m\u001b[0mtolist\u001b[0m\u001b[0;34m(\u001b[0m\u001b[0;34m)\u001b[0m \u001b[0;32mfor\u001b[0m \u001b[0mt\u001b[0m \u001b[0;32min\u001b[0m \u001b[0mval_data\u001b[0m\u001b[0;34m]\u001b[0m \u001b[0;31m# labels is a list of words for student BLEU\u001b[0m\u001b[0;34m\u001b[0m\u001b[0;34m\u001b[0m\u001b[0m\n\u001b[1;32m      6\u001b[0m \u001b[0mnltk_labels\u001b[0m \u001b[0;34m=\u001b[0m \u001b[0;34m[\u001b[0m\u001b[0;34m[\u001b[0m\u001b[0mt\u001b[0m\u001b[0;34m[\u001b[0m\u001b[0;36m1\u001b[0m\u001b[0;34m]\u001b[0m\u001b[0;34m.\u001b[0m\u001b[0mtolist\u001b[0m\u001b[0;34m(\u001b[0m\u001b[0;34m)\u001b[0m\u001b[0;34m]\u001b[0m \u001b[0;32mfor\u001b[0m \u001b[0mt\u001b[0m \u001b[0;32min\u001b[0m \u001b[0mval_data\u001b[0m\u001b[0;34m]\u001b[0m \u001b[0;31m# labels must be a list of list of words for NLTK BLEU\u001b[0m\u001b[0;34m\u001b[0m\u001b[0;34m\u001b[0m\u001b[0m\n",
            "\u001b[0;32m<ipython-input-33-5bbcc9be7326>\u001b[0m in \u001b[0;36m<listcomp>\u001b[0;34m(.0)\u001b[0m\n\u001b[1;32m      2\u001b[0m \u001b[0;34m\u001b[0m\u001b[0m\n\u001b[1;32m      3\u001b[0m \u001b[0;31m# remember manual_transformer, val_data, and translate_tokens?\u001b[0m\u001b[0;34m\u001b[0m\u001b[0;34m\u001b[0m\u001b[0m\n\u001b[0;32m----> 4\u001b[0;31m \u001b[0mpredictions\u001b[0m \u001b[0;34m=\u001b[0m \u001b[0;34m[\u001b[0m\u001b[0mtranslate_tokens\u001b[0m\u001b[0;34m(\u001b[0m\u001b[0mmanual_transformer\u001b[0m\u001b[0;34m,\u001b[0m \u001b[0mt\u001b[0m\u001b[0;34m[\u001b[0m\u001b[0;36m0\u001b[0m\u001b[0;34m]\u001b[0m\u001b[0;34m)\u001b[0m\u001b[0;34m[\u001b[0m\u001b[0;36m0\u001b[0m\u001b[0;34m]\u001b[0m\u001b[0;34m.\u001b[0m\u001b[0mtolist\u001b[0m\u001b[0;34m(\u001b[0m\u001b[0;34m)\u001b[0m\u001b[0;34m[\u001b[0m\u001b[0;36m1\u001b[0m\u001b[0;34m:\u001b[0m\u001b[0;34m-\u001b[0m\u001b[0;36m1\u001b[0m\u001b[0;34m]\u001b[0m \u001b[0;32mfor\u001b[0m \u001b[0mt\u001b[0m \u001b[0;32min\u001b[0m \u001b[0mval_data\u001b[0m\u001b[0;34m]\u001b[0m\u001b[0;34m\u001b[0m\u001b[0;34m\u001b[0m\u001b[0m\n\u001b[0m\u001b[1;32m      5\u001b[0m \u001b[0mstudent_labels\u001b[0m \u001b[0;34m=\u001b[0m \u001b[0;34m[\u001b[0m\u001b[0mt\u001b[0m\u001b[0;34m[\u001b[0m\u001b[0;36m1\u001b[0m\u001b[0;34m]\u001b[0m\u001b[0;34m.\u001b[0m\u001b[0mtolist\u001b[0m\u001b[0;34m(\u001b[0m\u001b[0;34m)\u001b[0m \u001b[0;32mfor\u001b[0m \u001b[0mt\u001b[0m \u001b[0;32min\u001b[0m \u001b[0mval_data\u001b[0m\u001b[0;34m]\u001b[0m \u001b[0;31m# labels is a list of words for student BLEU\u001b[0m\u001b[0;34m\u001b[0m\u001b[0;34m\u001b[0m\u001b[0m\n\u001b[1;32m      6\u001b[0m \u001b[0mnltk_labels\u001b[0m \u001b[0;34m=\u001b[0m \u001b[0;34m[\u001b[0m\u001b[0;34m[\u001b[0m\u001b[0mt\u001b[0m\u001b[0;34m[\u001b[0m\u001b[0;36m1\u001b[0m\u001b[0;34m]\u001b[0m\u001b[0;34m.\u001b[0m\u001b[0mtolist\u001b[0m\u001b[0;34m(\u001b[0m\u001b[0;34m)\u001b[0m\u001b[0;34m]\u001b[0m \u001b[0;32mfor\u001b[0m \u001b[0mt\u001b[0m \u001b[0;32min\u001b[0m \u001b[0mval_data\u001b[0m\u001b[0;34m]\u001b[0m \u001b[0;31m# labels must be a list of list of words for NLTK BLEU\u001b[0m\u001b[0;34m\u001b[0m\u001b[0;34m\u001b[0m\u001b[0m\n",
            "\u001b[0;32m<ipython-input-22-436fb09916d0>\u001b[0m in \u001b[0;36mtranslate_tokens\u001b[0;34m(model, src_tokens)\u001b[0m\n\u001b[1;32m     69\u001b[0m     \u001b[0;31m# TODO: uncomment the below line and comment out the greedy_decode line to run beam_search!\u001b[0m\u001b[0;34m\u001b[0m\u001b[0;34m\u001b[0m\u001b[0m\n\u001b[1;32m     70\u001b[0m \u001b[0;34m\u001b[0m\u001b[0m\n\u001b[0;32m---> 71\u001b[0;31m     \u001b[0mtgt_tokens\u001b[0m\u001b[0;34m,\u001b[0m \u001b[0mprob\u001b[0m \u001b[0;34m=\u001b[0m \u001b[0mbeam_search\u001b[0m\u001b[0;34m(\u001b[0m\u001b[0mmodel\u001b[0m\u001b[0;34m,\u001b[0m \u001b[0msrc_tokens\u001b[0m\u001b[0;34m,\u001b[0m \u001b[0mnum_tokens\u001b[0m \u001b[0;34m+\u001b[0m \u001b[0;36m5\u001b[0m\u001b[0;34m,\u001b[0m \u001b[0mBOS_IDX\u001b[0m\u001b[0;34m,\u001b[0m \u001b[0;36m5\u001b[0m\u001b[0;34m)\u001b[0m\u001b[0;34m\u001b[0m\u001b[0;34m\u001b[0m\u001b[0m\n\u001b[0m\u001b[1;32m     72\u001b[0m     \u001b[0;31m# tgt_tokens, prob = greedy_decode(model, src_tokens, num_tokens + 5, BOS_IDX)\u001b[0m\u001b[0;34m\u001b[0m\u001b[0;34m\u001b[0m\u001b[0m\n\u001b[1;32m     73\u001b[0m     \u001b[0;32mreturn\u001b[0m \u001b[0mtgt_tokens\u001b[0m\u001b[0;34m,\u001b[0m \u001b[0mprob\u001b[0m\u001b[0;34m\u001b[0m\u001b[0;34m\u001b[0m\u001b[0m\n",
            "\u001b[0;32m<ipython-input-21-c59670825d7e>\u001b[0m in \u001b[0;36mbeam_search\u001b[0;34m(model, src, max_len, start_symbol, beam_size)\u001b[0m\n\u001b[1;32m    101\u001b[0m             \u001b[0mtgt_padding_mask\u001b[0m \u001b[0;34m=\u001b[0m \u001b[0mpadding_mask\u001b[0m\u001b[0;34m(\u001b[0m\u001b[0mseq\u001b[0m\u001b[0;34m)\u001b[0m\u001b[0;34m\u001b[0m\u001b[0;34m\u001b[0m\u001b[0m\n\u001b[1;32m    102\u001b[0m \u001b[0;34m\u001b[0m\u001b[0m\n\u001b[0;32m--> 103\u001b[0;31m             \u001b[0mout\u001b[0m \u001b[0;34m=\u001b[0m \u001b[0mmodel\u001b[0m\u001b[0;34m.\u001b[0m\u001b[0mdecode\u001b[0m\u001b[0;34m(\u001b[0m\u001b[0mseq\u001b[0m\u001b[0;34m,\u001b[0m \u001b[0msrc_encoding\u001b[0m\u001b[0;34m,\u001b[0m \u001b[0msrc_padding_mask\u001b[0m\u001b[0;34m,\u001b[0m \u001b[0mtgt_padding_mask\u001b[0m\u001b[0;34m)\u001b[0m\u001b[0;34m.\u001b[0m\u001b[0mto\u001b[0m\u001b[0;34m(\u001b[0m\u001b[0mdevice\u001b[0m\u001b[0;34m)\u001b[0m\u001b[0;34m\u001b[0m\u001b[0;34m\u001b[0m\u001b[0m\n\u001b[0m\u001b[1;32m    104\u001b[0m             \u001b[0mout\u001b[0m \u001b[0;34m=\u001b[0m \u001b[0mout\u001b[0m\u001b[0;34m.\u001b[0m\u001b[0mtranspose\u001b[0m\u001b[0;34m(\u001b[0m\u001b[0;36m0\u001b[0m\u001b[0;34m,\u001b[0m \u001b[0;36m1\u001b[0m\u001b[0;34m)\u001b[0m\u001b[0;34m.\u001b[0m\u001b[0mto\u001b[0m\u001b[0;34m(\u001b[0m\u001b[0mdevice\u001b[0m\u001b[0;34m)\u001b[0m\u001b[0;34m\u001b[0m\u001b[0;34m\u001b[0m\u001b[0m\n\u001b[1;32m    105\u001b[0m             \u001b[0mprobs\u001b[0m \u001b[0;34m=\u001b[0m \u001b[0msoftmax\u001b[0m\u001b[0;34m(\u001b[0m\u001b[0mmodel\u001b[0m\u001b[0;34m.\u001b[0m\u001b[0mout\u001b[0m\u001b[0;34m(\u001b[0m\u001b[0mout\u001b[0m\u001b[0;34m[\u001b[0m\u001b[0;34m:\u001b[0m\u001b[0;34m,\u001b[0m \u001b[0;34m-\u001b[0m\u001b[0;36m1\u001b[0m\u001b[0;34m]\u001b[0m\u001b[0;34m)\u001b[0m\u001b[0;34m,\u001b[0m \u001b[0mdim\u001b[0m\u001b[0;34m=\u001b[0m\u001b[0;34m-\u001b[0m\u001b[0;36m1\u001b[0m\u001b[0;34m)\u001b[0m\u001b[0;34m\u001b[0m\u001b[0;34m\u001b[0m\u001b[0m\n",
            "\u001b[0;32m<ipython-input-16-32342457f6a8>\u001b[0m in \u001b[0;36mdecode\u001b[0;34m(self, tgt, src_encoding, src_padding_mask, tgt_padding_mask)\u001b[0m\n\u001b[1;32m    133\u001b[0m         \u001b[0;31m# forward(self, x: torch.Tensor, src_encoding: torch.Tensor, src_padding_mask: torch.Tensor,\u001b[0m\u001b[0;34m\u001b[0m\u001b[0;34m\u001b[0m\u001b[0m\n\u001b[1;32m    134\u001b[0m         \u001b[0;31m#     tgt_mask: torch.Tensor, tgt_padding_mask: torch.Tensor):\u001b[0m\u001b[0;34m\u001b[0m\u001b[0;34m\u001b[0m\u001b[0m\n\u001b[0;32m--> 135\u001b[0;31m         \u001b[0;32mreturn\u001b[0m \u001b[0mself\u001b[0m\u001b[0;34m.\u001b[0m\u001b[0mdecoder\u001b[0m\u001b[0;34m(\u001b[0m\u001b[0mtgt_encoding\u001b[0m\u001b[0;34m,\u001b[0m \u001b[0msrc_encoding\u001b[0m\u001b[0;34m,\u001b[0m \u001b[0msrc_padding_mask\u001b[0m\u001b[0;34m,\u001b[0m \u001b[0mtgt_mask\u001b[0m\u001b[0;34m,\u001b[0m \u001b[0mtgt_padding_mask\u001b[0m\u001b[0;34m)\u001b[0m\u001b[0;34m\u001b[0m\u001b[0;34m\u001b[0m\u001b[0m\n\u001b[0m\u001b[1;32m    136\u001b[0m \u001b[0;34m\u001b[0m\u001b[0m\n\u001b[1;32m    137\u001b[0m     def forward(self, src: torch.Tensor, tgt: torch.Tensor,\n",
            "\u001b[0;32m/usr/local/lib/python3.10/dist-packages/torch/nn/modules/module.py\u001b[0m in \u001b[0;36m_call_impl\u001b[0;34m(self, *args, **kwargs)\u001b[0m\n\u001b[1;32m   1499\u001b[0m                 \u001b[0;32mor\u001b[0m \u001b[0m_global_backward_pre_hooks\u001b[0m \u001b[0;32mor\u001b[0m \u001b[0m_global_backward_hooks\u001b[0m\u001b[0;34m\u001b[0m\u001b[0;34m\u001b[0m\u001b[0m\n\u001b[1;32m   1500\u001b[0m                 or _global_forward_hooks or _global_forward_pre_hooks):\n\u001b[0;32m-> 1501\u001b[0;31m             \u001b[0;32mreturn\u001b[0m \u001b[0mforward_call\u001b[0m\u001b[0;34m(\u001b[0m\u001b[0;34m*\u001b[0m\u001b[0margs\u001b[0m\u001b[0;34m,\u001b[0m \u001b[0;34m**\u001b[0m\u001b[0mkwargs\u001b[0m\u001b[0;34m)\u001b[0m\u001b[0;34m\u001b[0m\u001b[0;34m\u001b[0m\u001b[0m\n\u001b[0m\u001b[1;32m   1502\u001b[0m         \u001b[0;31m# Do not call functions when jit is used\u001b[0m\u001b[0;34m\u001b[0m\u001b[0;34m\u001b[0m\u001b[0m\n\u001b[1;32m   1503\u001b[0m         \u001b[0mfull_backward_hooks\u001b[0m\u001b[0;34m,\u001b[0m \u001b[0mnon_full_backward_hooks\u001b[0m \u001b[0;34m=\u001b[0m \u001b[0;34m[\u001b[0m\u001b[0;34m]\u001b[0m\u001b[0;34m,\u001b[0m \u001b[0;34m[\u001b[0m\u001b[0;34m]\u001b[0m\u001b[0;34m\u001b[0m\u001b[0;34m\u001b[0m\u001b[0m\n",
            "\u001b[0;32m<ipython-input-14-f0676a4a9d42>\u001b[0m in \u001b[0;36mforward\u001b[0;34m(self, x, src_encoding, src_padding_mask, tgt_mask, tgt_padding_mask)\u001b[0m\n\u001b[1;32m     47\u001b[0m         \u001b[0;31m#TODO: Implement the forward pass\u001b[0m\u001b[0;34m\u001b[0m\u001b[0;34m\u001b[0m\u001b[0m\n\u001b[1;32m     48\u001b[0m         \u001b[0;32mfor\u001b[0m \u001b[0mlayer\u001b[0m \u001b[0;32min\u001b[0m \u001b[0mself\u001b[0m\u001b[0;34m.\u001b[0m\u001b[0mlayers\u001b[0m\u001b[0;34m:\u001b[0m\u001b[0;34m\u001b[0m\u001b[0;34m\u001b[0m\u001b[0m\n\u001b[0;32m---> 49\u001b[0;31m             \u001b[0mx\u001b[0m \u001b[0;34m=\u001b[0m \u001b[0mlayer\u001b[0m\u001b[0;34m(\u001b[0m\u001b[0mx\u001b[0m\u001b[0;34m,\u001b[0m \u001b[0msrc_encoding\u001b[0m\u001b[0;34m,\u001b[0m \u001b[0msrc_padding_mask\u001b[0m\u001b[0;34m,\u001b[0m \u001b[0mtgt_mask\u001b[0m\u001b[0;34m,\u001b[0m \u001b[0mtgt_padding_mask\u001b[0m\u001b[0;34m)\u001b[0m\u001b[0;34m\u001b[0m\u001b[0;34m\u001b[0m\u001b[0m\n\u001b[0m\u001b[1;32m     50\u001b[0m \u001b[0;34m\u001b[0m\u001b[0m\n\u001b[1;32m     51\u001b[0m         \u001b[0;31m# Apply layer normalization to the final output\u001b[0m\u001b[0;34m\u001b[0m\u001b[0;34m\u001b[0m\u001b[0m\n",
            "\u001b[0;32m/usr/local/lib/python3.10/dist-packages/torch/nn/modules/module.py\u001b[0m in \u001b[0;36m_call_impl\u001b[0;34m(self, *args, **kwargs)\u001b[0m\n\u001b[1;32m   1499\u001b[0m                 \u001b[0;32mor\u001b[0m \u001b[0m_global_backward_pre_hooks\u001b[0m \u001b[0;32mor\u001b[0m \u001b[0m_global_backward_hooks\u001b[0m\u001b[0;34m\u001b[0m\u001b[0;34m\u001b[0m\u001b[0m\n\u001b[1;32m   1500\u001b[0m                 or _global_forward_hooks or _global_forward_pre_hooks):\n\u001b[0;32m-> 1501\u001b[0;31m             \u001b[0;32mreturn\u001b[0m \u001b[0mforward_call\u001b[0m\u001b[0;34m(\u001b[0m\u001b[0;34m*\u001b[0m\u001b[0margs\u001b[0m\u001b[0;34m,\u001b[0m \u001b[0;34m**\u001b[0m\u001b[0mkwargs\u001b[0m\u001b[0;34m)\u001b[0m\u001b[0;34m\u001b[0m\u001b[0;34m\u001b[0m\u001b[0m\n\u001b[0m\u001b[1;32m   1502\u001b[0m         \u001b[0;31m# Do not call functions when jit is used\u001b[0m\u001b[0;34m\u001b[0m\u001b[0;34m\u001b[0m\u001b[0m\n\u001b[1;32m   1503\u001b[0m         \u001b[0mfull_backward_hooks\u001b[0m\u001b[0;34m,\u001b[0m \u001b[0mnon_full_backward_hooks\u001b[0m \u001b[0;34m=\u001b[0m \u001b[0;34m[\u001b[0m\u001b[0;34m]\u001b[0m\u001b[0;34m,\u001b[0m \u001b[0;34m[\u001b[0m\u001b[0;34m]\u001b[0m\u001b[0;34m\u001b[0m\u001b[0;34m\u001b[0m\u001b[0m\n",
            "\u001b[0;32m<ipython-input-13-28d2320dee55>\u001b[0m in \u001b[0;36mforward\u001b[0;34m(self, x, src_encoding, src_padding_mask, tgt_mask, tgt_padding_mask)\u001b[0m\n\u001b[1;32m     69\u001b[0m         \u001b[0;31m# cross_output, self.attn_weights = self.cross_attention(x, src_encoding, src_encoding, key_padding_mask=src_padding_mask)\u001b[0m\u001b[0;34m\u001b[0m\u001b[0;34m\u001b[0m\u001b[0m\n\u001b[1;32m     70\u001b[0m         \u001b[0;31m# x = self.sublayer_connection[1](x, lambda x: cross_output)\u001b[0m\u001b[0;34m\u001b[0m\u001b[0;34m\u001b[0m\u001b[0m\n\u001b[0;32m---> 71\u001b[0;31m         \u001b[0mx\u001b[0m \u001b[0;34m=\u001b[0m \u001b[0mself\u001b[0m\u001b[0;34m.\u001b[0m\u001b[0msublayer_connection\u001b[0m\u001b[0;34m[\u001b[0m\u001b[0;36m1\u001b[0m\u001b[0;34m]\u001b[0m\u001b[0;34m(\u001b[0m\u001b[0mx\u001b[0m\u001b[0;34m,\u001b[0m \u001b[0;32mlambda\u001b[0m \u001b[0mx\u001b[0m\u001b[0;34m:\u001b[0m \u001b[0mself\u001b[0m\u001b[0;34m.\u001b[0m\u001b[0mcross_attention\u001b[0m\u001b[0;34m(\u001b[0m\u001b[0mx\u001b[0m\u001b[0;34m,\u001b[0m \u001b[0msrc_encoding\u001b[0m\u001b[0;34m,\u001b[0m \u001b[0msrc_encoding\u001b[0m\u001b[0;34m,\u001b[0m \u001b[0mkey_padding_mask\u001b[0m\u001b[0;34m=\u001b[0m\u001b[0msrc_padding_mask\u001b[0m\u001b[0;34m)\u001b[0m\u001b[0;34m[\u001b[0m\u001b[0;36m0\u001b[0m\u001b[0;34m]\u001b[0m\u001b[0;34m)\u001b[0m\u001b[0;34m\u001b[0m\u001b[0;34m\u001b[0m\u001b[0m\n\u001b[0m\u001b[1;32m     72\u001b[0m         \u001b[0mself\u001b[0m\u001b[0;34m.\u001b[0m\u001b[0mattn_weights\u001b[0m \u001b[0;34m=\u001b[0m \u001b[0mself\u001b[0m\u001b[0;34m.\u001b[0m\u001b[0mcross_attention\u001b[0m\u001b[0;34m(\u001b[0m\u001b[0mx\u001b[0m\u001b[0;34m,\u001b[0m \u001b[0msrc_encoding\u001b[0m\u001b[0;34m,\u001b[0m \u001b[0msrc_encoding\u001b[0m\u001b[0;34m,\u001b[0m \u001b[0mkey_padding_mask\u001b[0m\u001b[0;34m=\u001b[0m\u001b[0msrc_padding_mask\u001b[0m\u001b[0;34m)\u001b[0m\u001b[0;34m[\u001b[0m\u001b[0;36m1\u001b[0m\u001b[0;34m]\u001b[0m\u001b[0;34m\u001b[0m\u001b[0;34m\u001b[0m\u001b[0m\n\u001b[1;32m     73\u001b[0m \u001b[0;34m\u001b[0m\u001b[0m\n",
            "\u001b[0;32m/usr/local/lib/python3.10/dist-packages/torch/nn/modules/module.py\u001b[0m in \u001b[0;36m_call_impl\u001b[0;34m(self, *args, **kwargs)\u001b[0m\n\u001b[1;32m   1499\u001b[0m                 \u001b[0;32mor\u001b[0m \u001b[0m_global_backward_pre_hooks\u001b[0m \u001b[0;32mor\u001b[0m \u001b[0m_global_backward_hooks\u001b[0m\u001b[0;34m\u001b[0m\u001b[0;34m\u001b[0m\u001b[0m\n\u001b[1;32m   1500\u001b[0m                 or _global_forward_hooks or _global_forward_pre_hooks):\n\u001b[0;32m-> 1501\u001b[0;31m             \u001b[0;32mreturn\u001b[0m \u001b[0mforward_call\u001b[0m\u001b[0;34m(\u001b[0m\u001b[0;34m*\u001b[0m\u001b[0margs\u001b[0m\u001b[0;34m,\u001b[0m \u001b[0;34m**\u001b[0m\u001b[0mkwargs\u001b[0m\u001b[0;34m)\u001b[0m\u001b[0;34m\u001b[0m\u001b[0;34m\u001b[0m\u001b[0m\n\u001b[0m\u001b[1;32m   1502\u001b[0m         \u001b[0;31m# Do not call functions when jit is used\u001b[0m\u001b[0;34m\u001b[0m\u001b[0;34m\u001b[0m\u001b[0m\n\u001b[1;32m   1503\u001b[0m         \u001b[0mfull_backward_hooks\u001b[0m\u001b[0;34m,\u001b[0m \u001b[0mnon_full_backward_hooks\u001b[0m \u001b[0;34m=\u001b[0m \u001b[0;34m[\u001b[0m\u001b[0;34m]\u001b[0m\u001b[0;34m,\u001b[0m \u001b[0;34m[\u001b[0m\u001b[0;34m]\u001b[0m\u001b[0;34m\u001b[0m\u001b[0;34m\u001b[0m\u001b[0m\n",
            "\u001b[0;32m<ipython-input-10-3bb8305fd58a>\u001b[0m in \u001b[0;36mforward\u001b[0;34m(self, x, sublayer)\u001b[0m\n\u001b[1;32m     33\u001b[0m             \u001b[0moutput\u001b[0m \u001b[0mof\u001b[0m \u001b[0mthe\u001b[0m \u001b[0mforward\u001b[0m \u001b[0;32mpass\u001b[0m\u001b[0;34m\u001b[0m\u001b[0;34m\u001b[0m\u001b[0m\n\u001b[1;32m     34\u001b[0m         \"\"\"\n\u001b[0;32m---> 35\u001b[0;31m         \u001b[0;32mreturn\u001b[0m \u001b[0mx\u001b[0m \u001b[0;34m+\u001b[0m \u001b[0mself\u001b[0m\u001b[0;34m.\u001b[0m\u001b[0mdropout\u001b[0m\u001b[0;34m(\u001b[0m\u001b[0msublayer\u001b[0m\u001b[0;34m(\u001b[0m\u001b[0mself\u001b[0m\u001b[0;34m.\u001b[0m\u001b[0mnorm\u001b[0m\u001b[0;34m(\u001b[0m\u001b[0mx\u001b[0m\u001b[0;34m)\u001b[0m\u001b[0;34m)\u001b[0m\u001b[0;34m)\u001b[0m\u001b[0;34m\u001b[0m\u001b[0;34m\u001b[0m\u001b[0m\n\u001b[0m\u001b[1;32m     36\u001b[0m \u001b[0;34m\u001b[0m\u001b[0m\n\u001b[1;32m     37\u001b[0m \u001b[0;34m\u001b[0m\u001b[0m\n",
            "\u001b[0;31mKeyboardInterrupt\u001b[0m: "
          ]
        }
      ],
      "source": [
        "from nltk.translate.bleu_score import corpus_bleu\n",
        "\n",
        "# remember manual_transformer, val_data, and translate_tokens?\n",
        "predictions = [translate_tokens(manual_transformer, t[0])[0].tolist()[1:-1] for t in val_data]\n",
        "student_labels = [t[1].tolist() for t in val_data] # labels is a list of words for student BLEU\n",
        "nltk_labels = [[t[1].tolist()] for t in val_data] # labels must be a list of list of words for NLTK BLEU\n",
        "\n",
        "print(\"Student BLEU:\", my_corpus_bleu(student_labels, predictions))\n",
        "print(\"NLTK BLEU:\", corpus_bleu(nltk_labels, predictions))"
      ]
    },
    {
      "cell_type": "markdown",
      "metadata": {
        "id": "YBI-puNL7ZM3"
      },
      "source": [
        "# Part 3: Analysis and Conceptual Questions\n",
        "\n",
        "In this section, we've given you a function that takes the cross-attention weights you saved in the `ManualDecoderLayer` forward pass and visualizes them. Call `analyze_sentence` and input a German sentence as a string to get a heatmap of the last layer of the decoder in the cross-attention sublayer."
      ]
    },
    {
      "cell_type": "code",
      "execution_count": 31,
      "metadata": {
        "id": "LzNuyRA87ZM3"
      },
      "outputs": [],
      "source": [
        "import matplotlib.pyplot as plt\n",
        "def plot_attention(src_tokens : torch.Tensor, tgt_tokens : torch.Tensor,\n",
        "                   attn_weights : torch.Tensor):\n",
        "    \"\"\"\n",
        "    Plots the attention visualizations for the model's translation of a given\n",
        "    sentence, given the tensor representation of the source and translation\n",
        "    as well as the attention weights\n",
        "\n",
        "    Parameters\n",
        "    ----------\n",
        "    src_tokens : torch.Tensor\n",
        "        tensor representation of the input to the model\n",
        "    tgt_tokens : torch.Tensor\n",
        "        tensor representation of the output of the model\n",
        "    attn_weights : torch.Tensor\n",
        "        weights of the attention between the encoder and decoder\n",
        "    \"\"\"\n",
        "    fig = plt.figure()\n",
        "    attn_weights = attn_weights.cpu()\n",
        "    cax = plt.matshow(attn_weights.detach().numpy(), cmap='bone')\n",
        "\n",
        "    src_labels = ['<bos>'] + de_vocab.lookup_tokens(list(src_tokens.cpu().numpy())) + ['<eos>']\n",
        "    tgt_labels = en_vocab.lookup_tokens(list(tgt_tokens.cpu().numpy()))[1:]\n",
        "\n",
        "    plt.xticks(range(len(src_labels)), src_labels, rotation=80)\n",
        "    plt.yticks(range(len(tgt_labels)), tgt_labels)\n",
        "\n",
        "    plt.show()\n",
        "\n",
        "def analyze_sentence(sentence: str):\n",
        "    \"\"\"\n",
        "    Plots attention visualizations for the model's translation of a given\n",
        "    sentence\n",
        "\n",
        "    Parameters\n",
        "    ----------\n",
        "    sentence : str\n",
        "        the sentence to be analyzed\n",
        "    \"\"\"\n",
        "    translation, src_tokens, tgt_tokens = translate(manual_transformer, sentence, output_tokens=True)\n",
        "    attn_weights = manual_transformer.decoder.layers[-1].attn_weights.squeeze()\n",
        "\n",
        "    plot_attention(src_tokens, tgt_tokens, attn_weights)"
      ]
    },
    {
      "cell_type": "code",
      "execution_count": 32,
      "metadata": {
        "id": "z0glwiB17ZM3",
        "colab": {
          "base_uri": "https://localhost:8080/",
          "height": 1000
        },
        "outputId": "c8d748db-4c89-4ae0-c20a-ece9b4c11645"
      },
      "outputs": [
        {
          "output_type": "display_data",
          "data": {
            "text/plain": [
              "<Figure size 640x480 with 0 Axes>"
            ]
          },
          "metadata": {}
        },
        {
          "output_type": "display_data",
          "data": {
            "text/plain": [
              "<Figure size 406.154x480 with 1 Axes>"
            ],
            "image/png": "[encoded data removed]"
          },
          "metadata": {}
        },
        {
          "output_type": "display_data",
          "data": {
            "text/plain": [
              "<Figure size 640x480 with 0 Axes>"
            ]
          },
          "metadata": {}
        },
        {
          "output_type": "display_data",
          "data": {
            "text/plain": [
              "<Figure size 400x533.333 with 1 Axes>"
            ],
            "image/png": "[encoded data removed]"
          },
          "metadata": {}
        }
      ],
      "source": [
        "# try out different sentences here!\n",
        "analyze_sentence(\"Drei Kinder essen Eis, während ein Elternteil zuschaut\")\n",
        "analyze_sentence(\"Ich essen gerne Eis mit meinen Kindern\")"
      ]
    },
    {
      "cell_type": "markdown",
      "metadata": {
        "id": "NN4MS8ZB7ZM4"
      },
      "source": [
        "## Conceptual Questions\n",
        "- Translate the sentence \"*Drei Kinder essen Eis, während ein Elternteil zuschaut*\" into English and look at the attention map. In English, this sentence means \"Three kids eat ice cream, while a parent watches.\"\n",
        "- Translate the sentence \"*Ich essen gerne Eis mit meinen Kindern*\" into English and look at the attention map. In English, this sentence means \"I like to eat ice cream with my children.\"\n",
        "\n",
        "1. Compare the quality of the translations of these sentences, using the attention maps as an aid, and try translating other German sentences as well. What is the difference between the attention maps for correct and less correct translations?\n",
        "\n",
        "The first sentence translates to: Three children eating ice cream while a third looks on. The second sentences translates to: I be eating ice cream cones with beautiful children.\n",
        "\n",
        "The translation quality of the first sentence is quite good. It only misinterprets the object word \"parent\" as \"third,\" but otherwise closely resembles the ground truth translation. However, the second sentence's translation is less coherent. It fails to capture the meanings of \"like to\" and \"my children,\" and there are notable differences in their attention maps.\n",
        "\n",
        "The attention map for the first sentence displays a clear, white diagonal line between the original German words and their corresponding English translations. This suggests that each word in the German sentence aligns closely with its translated English counterpart. This implies that the model struggled to establish a correspondence between the German and English words, which cause translation errors.\n",
        "\n",
        "Similar patterns can be observed in the attention maps for other German sentences. Accurately translated sentences generally exhibit a pronounced diagonal pattern in the attention maps, while less accurately translated sentences tend to have scattered attention patterns.\n",
        "\n",
        "**Type your answer here...**\n",
        "\n",
        "2. Try looking up the paper for the Multi30k dataset online, and see where our language data came from. Does that provide an explanation for why some sentences have better translations than others? Would this model work very well for translating something like a text conversation?\n",
        "\n",
        "\n",
        "The Multi30k dataset is an extension of the Flickr30k dataset, containing approximately 31,000 images gathered from Flickr, each accompanied by English and German captions. Despite offering a degree of diversity, it primarily consists of sentences, vocabulary, and grammar suitable for image captions. These image captions are typically short and succinct, making them unsuitable for handling longer sentences with more intricate structures.\n",
        "\n",
        "When we evaluated our model's performance on sentences extracted from certain German tourist guides, we observed significant shortcomings. These sentences tend to be lengthy and describe various locations in Germany. However, the model's vocabulary does not include the names of these places. It's reasonable to assume that the model would struggle with more complex sentence structures and vocabulary, making it less suitable for tasks involving text conversion and comprehension of advanced language constructs.\n",
        "\n",
        "**Type your answer here...**"
      ]
    },
    {
      "cell_type": "code",
      "execution_count": 38,
      "metadata": {
        "id": "LsjSyP277ZM4",
        "colab": {
          "base_uri": "https://localhost:8080/",
          "height": 1000
        },
        "outputId": "bd2651e0-30ba-4f1e-8b29-59dd6d6d0343"
      },
      "outputs": [
        {
          "output_type": "stream",
          "name": "stdout",
          "text": [
            "Great translation\n"
          ]
        },
        {
          "output_type": "display_data",
          "data": {
            "text/plain": [
              "<Figure size 640x480 with 0 Axes>"
            ]
          },
          "metadata": {}
        },
        {
          "output_type": "display_data",
          "data": {
            "text/plain": [
              "<Figure size 406.154x480 with 1 Axes>"
            ],
            "image/png": "[encoded data removed]"
          },
          "metadata": {}
        },
        {
          "output_type": "stream",
          "name": "stdout",
          "text": [
            "Poor translation\n"
          ]
        },
        {
          "output_type": "display_data",
          "data": {
            "text/plain": [
              "<Figure size 640x480 with 0 Axes>"
            ]
          },
          "metadata": {}
        },
        {
          "output_type": "display_data",
          "data": {
            "text/plain": [
              "<Figure size 400x533.333 with 1 Axes>"
            ],
            "image/png": "[encoded data removed]"
          },
          "metadata": {}
        },
        {
          "output_type": "display_data",
          "data": {
            "text/plain": [
              "<Figure size 640x480 with 0 Axes>"
            ]
          },
          "metadata": {}
        },
        {
          "output_type": "display_data",
          "data": {
            "text/plain": [
              "<Figure size 400x514.286 with 1 Axes>"
            ],
            "image/png": "[encoded data removed]"
          },
          "metadata": {}
        },
        {
          "output_type": "display_data",
          "data": {
            "text/plain": [
              "<Figure size 640x480 with 0 Axes>"
            ]
          },
          "metadata": {}
        },
        {
          "output_type": "display_data",
          "data": {
            "text/plain": [
              "<Figure size 400x514.286 with 1 Axes>"
            ],
            "image/png": "[encoded data removed]"
          },
          "metadata": {}
        }
      ],
      "source": [
        "print(\"Great translation\")\n",
        "analyze_sentence(\"Drei Kinder essen Eis, während ein Elternteil zuschaut\")\n",
        "\n",
        "print(\"Poor translation\")\n",
        "analyze_sentence(\"Ich essen gerne Eis mit meinen Kindern\")\n",
        "analyze_sentence(\"Die Mehrheit der Deutschen kauft ihre Lebensmittel in kleinen, speziellen Geschäften\")\n",
        "analyze_sentence(\"Das stimmt auch nicht: Die Deutschen trinken mehr Kaffee als Bier\")"
      ]
    },
    {
      "cell_type": "code",
      "source": [],
      "metadata": {
        "id": "WvWFIhDxL9rI"
      },
      "execution_count": null,
      "outputs": []
    }
  ],
  "metadata": {
    "accelerator": "GPU",
    "colab": {
      "provenance": [],
      "gpuType": "T4"
    },
    "kernelspec": {
      "display_name": "Python 3",
      "name": "python3"
    },
    "language_info": {
      "codemirror_mode": {
        "name": "ipython",
        "version": 3
      },
      "file_extension": ".py",
      "mimetype": "text/x-python",
      "name": "python",
      "nbconvert_exporter": "python",
      "pygments_lexer": "ipython3",
      "version": "3.11.5"
    }
  },
  "nbformat": 4,
  "nbformat_minor": 0
}