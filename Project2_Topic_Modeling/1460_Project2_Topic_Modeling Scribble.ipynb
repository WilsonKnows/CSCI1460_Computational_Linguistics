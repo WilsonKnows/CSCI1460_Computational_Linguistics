{
  "cells": [
    {
      "cell_type": "markdown",
      "metadata": {
        "id": "InwI9ewBDT6C"
      },
      "source": [
        "\n",
        "# Introduction"
      ]
    },
    {
      "cell_type": "markdown",
      "metadata": {
        "id": "jQ_upwLe9AEt"
      },
      "source": [
        "In this project you will leverage skills that you have learnt in the past few weeks, such as Topic Modeling, Latent Dirichlet Allocation to build a small model analyzing the content of news articles from different sources around the US.\n",
        "\n",
        "The main learning objectives for this assignment are:\n",
        "1. Use LDA topic modeling to find patterns in a realistic, noisy, unlabeled text corpus\n",
        "2. Understand how topic modeling results are influenced by preprocessing and hyperparemters\n",
        "3. Use dimensionality reduction and clustering algorithms to create effective visualizations of large text data\n",
        "\n",
        "Note: At some points in the assignment, we'll format some parts of instructions in all-caps. We're not yelling! We just think they're very important details that you must take note of.  "
      ]
    },
    {
      "cell_type": "markdown",
      "metadata": {
        "id": "YATqvj0RNfvD"
      },
      "source": [
        "# Installation and Imports"
      ]
    },
    {
      "cell_type": "code",
      "execution_count": null,
      "metadata": {
        "id": "_H7fWGJBxnzd"
      },
      "outputs": [],
      "source": [
        "# Mount the drive to be able to read and write files from your drive\n",
        "from google.colab import drive\n",
        "drive.mount('/content/drive')"
      ]
    },
    {
      "cell_type": "code",
      "execution_count": null,
      "metadata": {
        "id": "AgHtG8BlJlAF"
      },
      "outputs": [],
      "source": [
        "# Python Import Statements\n",
        "import re\n",
        "from typing import *\n",
        "import collections\n",
        "import sys\n",
        "import math\n",
        "import numpy as np\n",
        "import csv\n",
        "import spacy\n",
        "from tqdm import tqdm\n",
        "from os.path import exists\n",
        "import pickle\n",
        "from sklearn.model_selection import train_test_split\n",
        "import matplotlib.pyplot as plt"
      ]
    },
    {
      "cell_type": "markdown",
      "metadata": {
        "id": "PgxhsFaJP2JT"
      },
      "source": [
        "# Part 1: Basic Topic Model"
      ]
    },
    {
      "cell_type": "markdown",
      "metadata": {
        "id": "vXhnIPY1F-u3"
      },
      "source": [
        "First, let's train a basic topic model and see what happens! We'll do very basic text preprocessing (tokenization and lower casing) to start, and we'll use LSA for the topic model.\n",
        "\n",
        "You can download the dataset [here](https://drive.google.com/file/d/1146a1rhJ95NEySuMS000KDRPcat-itPh/view?usp=sharing) - we've handled loading it below.\n",
        "\n",
        "**Warning**: Loading the data could take as much as 10 minutes when running for the first time. After that, the parsed documents are cached in a pickle file..."
      ]
    },
    {
      "cell_type": "code",
      "execution_count": null,
      "metadata": {
        "colab": {
          "background_save": true,
          "base_uri": "https://localhost:8080/"
        },
        "id": "tKoA3r_DHurt",
        "outputId": "fdcfd407-6c75-4de5-cccd-b27ff452a806"
      },
      "outputs": [
        {
          "name": "stderr",
          "output_type": "stream",
          "text": [
            "\r0it [00:00, ?it/s]"
          ]
        },
        {
          "name": "stdout",
          "output_type": "stream",
          "text": [
            "Processing row 0\n"
          ]
        },
        {
          "name": "stderr",
          "output_type": "stream",
          "text": [
            "501it [01:03,  8.50it/s]"
          ]
        },
        {
          "name": "stdout",
          "output_type": "stream",
          "text": [
            "Processing row 500\n"
          ]
        },
        {
          "name": "stderr",
          "output_type": "stream",
          "text": [
            "1001it [02:01,  9.95it/s]"
          ]
        },
        {
          "name": "stdout",
          "output_type": "stream",
          "text": [
            "Processing row 1000\n"
          ]
        },
        {
          "name": "stderr",
          "output_type": "stream",
          "text": [
            "1502it [02:59, 12.76it/s]"
          ]
        },
        {
          "name": "stdout",
          "output_type": "stream",
          "text": [
            "Processing row 1500\n"
          ]
        },
        {
          "name": "stderr",
          "output_type": "stream",
          "text": [
            "2000it [03:54, 14.73it/s]"
          ]
        },
        {
          "name": "stdout",
          "output_type": "stream",
          "text": [
            "Processing row 2000\n"
          ]
        },
        {
          "name": "stderr",
          "output_type": "stream",
          "text": [
            "2501it [04:44,  7.37it/s]"
          ]
        },
        {
          "name": "stdout",
          "output_type": "stream",
          "text": [
            "Processing row 2500\n"
          ]
        },
        {
          "name": "stderr",
          "output_type": "stream",
          "text": [
            "3001it [05:32, 15.45it/s]"
          ]
        },
        {
          "name": "stdout",
          "output_type": "stream",
          "text": [
            "Processing row 3000\n"
          ]
        },
        {
          "name": "stderr",
          "output_type": "stream",
          "text": [
            "3502it [06:25, 12.83it/s]"
          ]
        },
        {
          "name": "stdout",
          "output_type": "stream",
          "text": [
            "Processing row 3500\n"
          ]
        },
        {
          "name": "stderr",
          "output_type": "stream",
          "text": [
            "4000it [07:14,  8.33it/s]"
          ]
        },
        {
          "name": "stdout",
          "output_type": "stream",
          "text": [
            "Processing row 4000\n"
          ]
        },
        {
          "name": "stderr",
          "output_type": "stream",
          "text": [
            "4501it [08:04,  7.71it/s]"
          ]
        },
        {
          "name": "stdout",
          "output_type": "stream",
          "text": [
            "Processing row 4500\n"
          ]
        },
        {
          "name": "stderr",
          "output_type": "stream",
          "text": [
            "5000it [08:58,  9.28it/s]\n"
          ]
        }
      ],
      "source": [
        "######################\n",
        "#     LOAD DATA      #\n",
        "#############################################################################################################################\n",
        "# This cell block will load in the dataset into                                                                             #\n",
        "#   * spacy_processed_docs - A list of Spacy Documents that we can use as data to train our Topic Model                     #\n",
        "#   * doc_locations - A list of States where each Document was sourced from (This will be used in Part 3: Visualization)    #\n",
        "#############################################################################################################################\n",
        "\n",
        "num_documents = 5000 # INFO: Feel free to change this to load in less documents for debugging but otherwise keep it at 5000 to train the Topic Model\n",
        "# FILEPATH = \"path/to/dataset\" # TODO: Update this to the filepath of your copy of the assignment, e.g. /content/drive/MyDrive/Topic Modeling/\n",
        "FILEPATH = \"\"\n",
        "\n",
        "nlp = spacy.load('en_core_web_sm')\n",
        "\n",
        "doc_locations = []\n",
        "spacy_processed_docs = []\n",
        "\n",
        "if exists(f\"{FILEPATH}spacy_processed_docs_{num_documents}.pkl\"):\n",
        "  with open(f\"{FILEPATH}spacy_processed_docs_{num_documents}.pkl\", 'rb') as f:\n",
        "    spacy_processed_docs, doc_locations = pickle.load(f)\n",
        "    f.close()\n",
        "else:\n",
        "  with open(f'{FILEPATH}articles_sampled_data.csv', 'r', encoding='utf-8') as f:\n",
        "    for i, row in tqdm(enumerate(csv.DictReader(f, delimiter=','))):\n",
        "      if i == num_documents:\n",
        "        break\n",
        "      if i % 500 == 0:\n",
        "        print(\"Processing row %d\"%i)\n",
        "      try:\n",
        "        parsed = nlp(row[\"content\"])\n",
        "        source_name = row[\"location\"]\n",
        "      except ValueError:\n",
        "        continue\n",
        "      spacy_processed_docs.append(parsed)\n",
        "      doc_locations.append(source_name)\n",
        "    f.close()\n",
        "\n",
        "  with open(f\"{FILEPATH}spacy_processed_docs_{num_documents}.pkl\", 'wb') as f:\n",
        "    pickle.dump((spacy_processed_docs, doc_locations), f)\n",
        "    f.close()"
      ]
    },
    {
      "cell_type": "code",
      "execution_count": null,
      "metadata": {
        "colab": {
          "background_save": true
        },
        "id": "WooUMNPEBzi3",
        "outputId": "9bf57844-b38e-4c3b-872e-3a9728686597"
      },
      "outputs": [
        {
          "name": "stdout",
          "output_type": "stream",
          "text": [
            "PROCESSED\n",
            "By Special to the Advance\n",
            "\n",
            "Spain Park’s Sarah Ashlee Barker is the Alabama Sports Writers Association 33rd Miss Basketball and first from Spain Park.\n",
            "\n",
            "The Georgia signee is also the Gatorade state Player of the Year, the MaxPreps state Player of the Year, the AL.com Player of the Year and the AL.com Birmingham Region Player of the Year.\n",
            "\n",
            "She has been selected to the Alabama Sports Writers Association All-State team each of the past three seasons and is the two-time Class 7A Player of the Year.\n",
            "\n",
            "Barker led the Jaguars to their second Class 7A state championship in the past three seasons, averaging 23.3 points, 10.9 rebounds and 2.7 assists this season for coach Mike Chase.\n",
            "\n",
            "She earned Class 7A tournament MVP this season and was also named all-tournament on Spain Park’s 2018 championship team and 2017 finalist squad.\n",
            "\n",
            "Number of documents: 5000\n"
          ]
        }
      ],
      "source": [
        "# Run this to make sure that the data is loaded in correctly, there should be 5000 documents\n",
        "print(\"PROCESSED\")\n",
        "print(spacy_processed_docs[0])\n",
        "print(f\"\\nNumber of documents: {len(spacy_processed_docs)}\")"
      ]
    },
    {
      "cell_type": "markdown",
      "metadata": {
        "id": "Dj4JoyFoZqdl"
      },
      "source": [
        "To start, let's build the following components for topic modeling:\n",
        "\n",
        "1.  **M**:\n",
        "    A binary term-document matrix of shape (num_documents, vocab_size)\n",
        "\n",
        "2.  **word2idx**: A dictionary which maps each word to its rank in the vocabulary (e.g. the most frequent word should have rank 0, the second most frequent word rank 1, etc).\n",
        "\n",
        "3.  **idx2word**: The inverse of the above (i.e., mapping from index to word)\n",
        "\n",
        "You will use **M** to train the topic model directly, and you will use the other two lookup tables in order to analyze the actual topics produced. You should use spacy to ***TOKENIZE*** and ***LOWERCASE*** the raw text, but not do any additional preprocessing.\n",
        "When lowercasing, please use `token.lemma_.lower()`"
      ]
    },
    {
      "cell_type": "code",
      "execution_count": 1,
      "metadata": {
        "colab": {
          "base_uri": "https://localhost:8080/",
          "height": 256
        },
        "id": "4SNQ0gICChRd",
        "outputId": "45f1229f-5e14-42cc-c956-831c5d8fd0f6"
      },
      "outputs": [
        {
          "output_type": "error",
          "ename": "NameError",
          "evalue": "ignored",
          "traceback": [
            "\u001b[0;31m---------------------------------------------------------------------------\u001b[0m",
            "\u001b[0;31mNameError\u001b[0m                                 Traceback (most recent call last)",
            "\u001b[0;32m<ipython-input-1-87e253679585>\u001b[0m in \u001b[0;36m<cell line: 1>\u001b[0;34m()\u001b[0m\n\u001b[0;32m----> 1\u001b[0;31m \u001b[0;32mdef\u001b[0m \u001b[0mbinary_term_doc_matrix\u001b[0m\u001b[0;34m(\u001b[0m\u001b[0mdocs\u001b[0m \u001b[0;34m:\u001b[0m \u001b[0mList\u001b[0m\u001b[0;34m[\u001b[0m\u001b[0mspacy\u001b[0m\u001b[0;34m.\u001b[0m\u001b[0mtokens\u001b[0m\u001b[0;34m.\u001b[0m\u001b[0mDoc\u001b[0m\u001b[0;34m]\u001b[0m\u001b[0;34m)\u001b[0m \u001b[0;34m->\u001b[0m \u001b[0mTuple\u001b[0m\u001b[0;34m[\u001b[0m\u001b[0mnp\u001b[0m\u001b[0;34m.\u001b[0m\u001b[0mndarray\u001b[0m\u001b[0;34m[\u001b[0m\u001b[0mnp\u001b[0m\u001b[0;34m.\u001b[0m\u001b[0mfloat64\u001b[0m\u001b[0;34m]\u001b[0m\u001b[0;34m,\u001b[0m \u001b[0mDict\u001b[0m\u001b[0;34m[\u001b[0m\u001b[0mint\u001b[0m\u001b[0;34m,\u001b[0m \u001b[0mstr\u001b[0m\u001b[0;34m]\u001b[0m\u001b[0;34m]\u001b[0m\u001b[0;34m:\u001b[0m\u001b[0;34m\u001b[0m\u001b[0;34m\u001b[0m\u001b[0m\n\u001b[0m\u001b[1;32m      2\u001b[0m   \"\"\"\n\u001b[1;32m      3\u001b[0m   \u001b[0mPreprocess\u001b[0m \u001b[0;32mand\u001b[0m \u001b[0mtransform\u001b[0m \u001b[0mdocs\u001b[0m \u001b[0mto\u001b[0m \u001b[0mcreate\u001b[0m \u001b[0mour\u001b[0m \u001b[0mbinary\u001b[0m \u001b[0mterm\u001b[0m\u001b[0;34m-\u001b[0m\u001b[0mdocument\u001b[0m \u001b[0mmatrix\u001b[0m \u001b[0;32mand\u001b[0m \u001b[0mdictionaries\u001b[0m \u001b[0;32mas\u001b[0m \u001b[0mdescribed\u001b[0m \u001b[0mabove\u001b[0m\u001b[0;34m\u001b[0m\u001b[0;34m\u001b[0m\u001b[0m\n\u001b[1;32m      4\u001b[0m   \u001b[0mTODO\u001b[0m\u001b[0;34m:\u001b[0m \u001b[0mYou\u001b[0m \u001b[0mwill\u001b[0m \u001b[0mneed\u001b[0m \u001b[0mto\u001b[0m \u001b[0mfill\u001b[0m \u001b[0;32min\u001b[0m \u001b[0mword2idx\u001b[0m \u001b[0;32mand\u001b[0m \u001b[0midx2word\u001b[0m\u001b[0;34m,\u001b[0m \u001b[0;32mand\u001b[0m \u001b[0mthen\u001b[0m \u001b[0mM\u001b[0m\u001b[0;34m\u001b[0m\u001b[0;34m\u001b[0m\u001b[0m\n\u001b[1;32m      5\u001b[0m   \u001b[0mHINT\u001b[0m\u001b[0;34m:\u001b[0m \u001b[0mMake\u001b[0m \u001b[0msure\u001b[0m \u001b[0mto\u001b[0m \u001b[0muse\u001b[0m \u001b[0mtoken\u001b[0m\u001b[0;34m.\u001b[0m\u001b[0mlemma_\u001b[0m\u001b[0;34m.\u001b[0m\u001b[0mlower\u001b[0m\u001b[0;34m(\u001b[0m\u001b[0;34m)\u001b[0m \u001b[0mto\u001b[0m \u001b[0mlowercase\u001b[0m \u001b[0mtext\u001b[0m \u001b[0mrather\u001b[0m \u001b[0mthan\u001b[0m \u001b[0mtoken\u001b[0m\u001b[0;34m.\u001b[0m\u001b[0mtext\u001b[0m\u001b[0;34m.\u001b[0m\u001b[0mlower\u001b[0m\u001b[0;34m(\u001b[0m\u001b[0;34m)\u001b[0m\u001b[0;34m\u001b[0m\u001b[0;34m\u001b[0m\u001b[0m\n",
            "\u001b[0;31mNameError\u001b[0m: name 'List' is not defined"
          ]
        }
      ],
      "source": [
        "def binary_term_doc_matrix(docs : List[spacy.tokens.Doc]) -> Tuple[np.ndarray[np.float64], Dict[int, str]]:\n",
        "  \"\"\"\n",
        "  Preprocess and transform docs to create our binary term-document matrix and dictionaries as described above\n",
        "  TODO: You will need to fill in word2idx and idx2word, and then M\n",
        "  HINT: Make sure to use token.lemma_.lower() to lowercase text rather than token.text.lower()\n",
        "\n",
        "  Parameters\n",
        "  ----------\n",
        "  docs : List[Doc]\n",
        "    A list of spacy processed documents (i.e. each item is the output of nlp(article))\n",
        "\n",
        "  Returns\n",
        "  -------\n",
        "  M : np.ndarray[float]\n",
        "    The binary term-document matrix, each value in M should be either 0 or 1\n",
        "  idx2word : Dict[int, str]\n",
        "    The dictionary that maps each index/rank to each word in the vocabulary\n",
        "  \"\"\"\n",
        "\n",
        "  # # Create a vocabulary by iterating through all documents\n",
        "  # vocab = {}\n",
        "  # for doc in docs:\n",
        "  #   for token in doc:\n",
        "  #     word = token.lemma_.lower()\n",
        "  #     if word not in vocab:\n",
        "  #       vocab[word] = 1\n",
        "  #     else:\n",
        "  #       vocab[word] += 1\n",
        "\n",
        "  # # Sort the vocabulary by word frequency in descending order\n",
        "  # sorted_vocab = sorted(vocab.items(), key=lambda word: word[1], reverse=True)\n",
        "\n",
        "  # # Create word-to-index and index-to-word dictionaries\n",
        "  # word2idx = {word: index for index, (word, _) in enumerate(sorted_vocab)}\n",
        "  # idx2word = {index: word for word, index in word2idx.items()}\n",
        "\n",
        "  # # Initialize the binary term-document matrix M\n",
        "  # M = np.zeros((len(docs), len(vocab)))\n",
        "\n",
        "  # # Fill in the binary term-document matrix\n",
        "  # for doc_idx, doc in enumerate(docs):\n",
        "  #   for token in doc:\n",
        "  #     word = token.lemma_.lower()\n",
        "  #     if word in word2idx:\n",
        "  #       word_idx = word2idx[word]\n",
        "  #       M[doc_idx, word_idx] = 1\n",
        "\n",
        "  # return M, idx2word\n",
        "\n",
        "  # Create a vocabulary of unique lemmatized and lowercase words\n",
        "  vocabulary = set()\n",
        "\n",
        "  for doc in docs:\n",
        "      for token in doc:\n",
        "          vocabulary.add(token.lemma_.lower())\n",
        "\n",
        "  # Create word2idx and idx2word dictionaries\n",
        "  word2idx = {word: idx for idx, word in enumerate(sorted(vocabulary))}\n",
        "  idx2word = {idx: word for word, idx in word2idx.items()}\n",
        "\n",
        "  # Initialize the binary term-document matrix M\n",
        "  M = np.zeros((len(docs), len(vocabulary)))\n",
        "\n",
        "  # Fill in the binary term-document matrix M\n",
        "  for doc_idx, doc in enumerate(docs):\n",
        "      for token in doc:\n",
        "          word = token.lemma_.lower()\n",
        "          word_idx = word2idx[word]\n",
        "          M[doc_idx, word_idx] = 1\n",
        "\n",
        "  return M, idx2word\n"
      ]
    },
    {
      "cell_type": "code",
      "execution_count": null,
      "metadata": {
        "colab": {
          "background_save": true
        },
        "id": "YmP2t3MVFmQi",
        "outputId": "c92e5f55-6a73-4d4e-bfdb-21042804daa5"
      },
      "outputs": [
        {
          "name": "stdout",
          "output_type": "stream",
          "text": [
            "(5000, 59205)\n"
          ]
        }
      ],
      "source": [
        "# Run the function you just wrote, the shape should be (5000, 59205)\n",
        "###############################################\n",
        "M,idx2word = binary_term_doc_matrix(spacy_processed_docs)\n",
        "print(M.shape)\n",
        "###############################################"
      ]
    },
    {
      "cell_type": "code",
      "execution_count": null,
      "metadata": {
        "colab": {
          "background_save": true
        },
        "id": "ZuYpoZvL0BYM"
      },
      "outputs": [],
      "source": [
        "from sklearn.decomposition import LatentDirichletAllocation\n",
        "\n",
        "def train_topic_model(term_doc_mat : np.ndarray[np.float64], n_topics : int = 10, random_state = 42) -> LatentDirichletAllocation:\n",
        "  \"\"\"\n",
        "  Train a n_topics topic model on M using Latent Dirichlet Allocation\n",
        "  TODO: Use LDA to fit a model with n_topics, then return the model\n",
        "  NOTE: You MUST use the given random state when intialzing your LDA model.\n",
        "\n",
        "  Parameters\n",
        "  ----------\n",
        "  term_doc_mat : np.ndarray[float]\n",
        "    The term-document matrix to train the LDA model on\n",
        "  n_topics : int\n",
        "    The number of topics in the topic model (Defaulted to 10)\n",
        "  random_state : int\n",
        "    The random state of the LDA Model (Defaulted to 42)\n",
        "\n",
        "  Returns\n",
        "  -------\n",
        "  lda : LatentDirichletAllocation\n",
        "    The trained LDA model\n",
        "  \"\"\"\n",
        "  # Create an instance of the LDA model\n",
        "  lda = LatentDirichletAllocation(n_components=n_topics, random_state=random_state)\n",
        "\n",
        "  # Fit the LDA model to the term-document matrix\n",
        "  lda.fit(term_doc_mat)\n",
        "\n",
        "  return lda"
      ]
    },
    {
      "cell_type": "code",
      "execution_count": null,
      "metadata": {
        "colab": {
          "background_save": true
        },
        "id": "LRaN2fLrKPlt"
      },
      "outputs": [],
      "source": [
        "def preview_topics(topic_model: LatentDirichletAllocation, idx2word: Dict[int, str]) -> List[List[str]]:\n",
        "  \"\"\"\n",
        "  TODO: Print out/return the top 10 words associated with each topic\n",
        "  HINT: You will need to use idx2word and will likely find numpy's argsort to be helpful here\n",
        "        Make sure you check the sklearn documentation to get each topic from the model\n",
        "\n",
        "  Parameters\n",
        "  ----------\n",
        "  topic_model : LatentDirichletAllocation\n",
        "    The trained LDA Topic Model\n",
        "  idx2word : Dict[int, str]\n",
        "    The dictionary that maps each index/rank to each word in the vocabulary\n",
        "\n",
        "  Returns\n",
        "  -------\n",
        "  topics : List[List[str]]\n",
        "    A list of the 10 words associated with each topic\n",
        "  \"\"\"\n",
        "  topics = []\n",
        "\n",
        "  # Loop through each topic in the model\n",
        "  for topic_idx, topic in enumerate(topic_model.components_):\n",
        "      # Get the indices that would sort the topic words by their weights in descending order\n",
        "      sorted_word_indices = topic.argsort()[::-1]\n",
        "\n",
        "      # Get the top 10 words associated with this topic\n",
        "      top_words = [idx2word[word_idx] for word_idx in sorted_word_indices[:10]]\n",
        "\n",
        "      # Append the top words for this topic\n",
        "      topics.append(top_words)\n",
        "\n",
        "  return topics"
      ]
    },
    {
      "cell_type": "code",
      "execution_count": null,
      "metadata": {
        "colab": {
          "background_save": true
        },
        "id": "DWwYytS4NvcK",
        "outputId": "16526da0-cb4c-412a-d22b-f21a6894204c"
      },
      "outputs": [
        {
          "data": {
            "text/plain": [
              "[['the', '.', ',', 'in', 'and', 'of', 'to', '-', 'for', 'be'],\n",
              " ['the', 'to', ',', 'in', 'be', 'of', '.', 'and', 'for', 'a'],\n",
              " ['en', 'del', 'por', 'para', 'según', 'una', 'un', 'que', 'y', 'con'],\n",
              " [',', '.', 'be', 'of', 'at', 'in', 'funeral', 'and', 'bear', 'service'],\n",
              " ['robles',\n",
              "  'atkins',\n",
              "  'grand',\n",
              "  '120',\n",
              "  'king',\n",
              "  'zunino',\n",
              "  'machine',\n",
              "  'david',\n",
              "  'labs',\n",
              "  'john'],\n",
              " ['the', 'and', 'be', '.', ',', 'of', 'to', 'a', '\\n\\n', 'in'],\n",
              " ['i', 'do', 'it', 'can', 'you', 'not', 'that', 'we', 'what', 'but'],\n",
              " ['the', '.', ',', 'a', 'of', 'and', 'be', 'in', 'on', 'to'],\n",
              " ['.', 'the', 'to', ',', 'be', '\\n\\n', 'a', 'of', 'and', 'in'],\n",
              " ['.', 'the', ',', 'be', 'to', 'and', 'in', '\\n\\n', 'a', 'of']]"
            ]
          },
          "execution_count": 9,
          "metadata": {},
          "output_type": "execute_result"
        }
      ],
      "source": [
        "# Now run it and let's look at the output!\n",
        "###############################################\n",
        "topic_model = train_topic_model(M, n_topics=10)\n",
        "preview_topics(topic_model, idx2word)\n",
        "\n",
        "#1m29s to run\n",
        "###############################################"
      ]
    },
    {
      "cell_type": "markdown",
      "metadata": {
        "id": "NnemfJRULgEm"
      },
      "source": [
        "# Part 2: Improved Topic Model"
      ]
    },
    {
      "cell_type": "markdown",
      "metadata": {
        "id": "wj0mvEkoLjdU"
      },
      "source": [
        "Now let's try to improve the quality of the topics by improving the features our model can use (as opposed to binary features).\n",
        "\n",
        "1. First, we'll write a helper function to preprocess a spacy document. This is similar to what you did in project 1. Here, we only want you to ***LOWERCASE, REMOVE NEWLINES*** `(token.pos_=='SPACE')`, ***REMOVE PUNCTUATION***, and ***REMOVE STOPWORDS***.\n",
        "\n",
        "\n",
        "2.  Then, you will implement TFIDF\n",
        "\n",
        "\n",
        "TFIDF is the product of two statistics:\n",
        "\n",
        "1. **Term Frequency (tf)**: The relative frequency of a term $w$ in a document $d$. We will use the following formula:\n",
        "  \n",
        "$$\n",
        "    tf = 0.5 + \\left(0.5 \\cdot \\frac{f_w}{\\max\\{f_w' : w' \\in d\\}}\\right)\n",
        "$$\n",
        "  &nbsp;&nbsp;&nbsp;&nbsp;&nbsp;&nbsp;&nbsp;&nbsp;&nbsp;&nbsp;&nbsp;where $f_w$ is the frequency $w$ in document $d$.\n",
        "  \n",
        "  &nbsp;&nbsp;&nbsp;&nbsp;&nbsp;&nbsp;&nbsp;&nbsp;&nbsp;&nbsp;&nbsp;For each document, each word in that document has a tf value. For words not in that document ***the tf value should be 0 NOT 0.5***\n",
        "\n",
        "  \n",
        "\n",
        "2. **Inverse Document Frequency (idf)**:  For the whole corpus of documents $D$, how many of the documents does the term $w$ appear?        \n",
        "\n",
        "  Intuitively, this is how much information a word provides if it appears in a document.\n",
        "  We will use the following formula:\n",
        "\n",
        "$$\n",
        "    idf = log(\\frac{|D|}{|d\\ \\in D: w\\ \\in d|})\n",
        "$$\n",
        "\n",
        "  &nbsp;&nbsp;&nbsp;&nbsp;&nbsp;&nbsp;&nbsp;&nbsp;&nbsp;&nbsp;&nbsp;where the denominator indicates the number of documents that a term $w$ appears in.\n",
        "  \n",
        "  &nbsp;&nbsp;&nbsp;&nbsp;&nbsp;&nbsp;&nbsp;&nbsp;&nbsp;&nbsp;&nbsp;Note that there is one idf value for each word in the vocab.\n",
        "  \n",
        "  &nbsp;&nbsp;&nbsp;&nbsp;&nbsp;&nbsp;&nbsp;&nbsp;&nbsp;&nbsp; Hint: You will have to iterate over all of the documents to calculate idf prior to remaking your matrix M\n",
        "\n",
        "Finally, the TFIDF score is calculated by multiplying these two values together:\n",
        "$$\n",
        "    TFIDF = tf * idf\n",
        "$$\n",
        "\n",
        "With this in mind, Let's reconstruct **M**, **word2idx**, and **idx2word**.\n",
        "This time, let's make the following changes:\n",
        "1. Filter out ***STOPWORDS***, ***PUNCTUATION***, ***NEWLINES*** and make everything ***LOWERCASE*** using spacy\n",
        "2. Filter the vocabulary to only the ***MOST FREQUENT*** 5000 words\n",
        "3. Use TFIDF values instead of binary count to remake **M**\n",
        "\n",
        "Hint: although it's a little less efficient, it might be easier to iterate through the list of documents multiple times"
      ]
    },
    {
      "cell_type": "code",
      "execution_count": null,
      "metadata": {
        "id": "dv_-YgOjGPO8"
      },
      "outputs": [],
      "source": [
        "from collections import Counter # HINT: you may find this useful\n",
        "import math\n",
        "\n",
        "def preprocess_doc(doc : spacy.tokens.Doc) -> List[str]:\n",
        "  \"\"\"\n",
        "  TODO: Write a helper function that filters out STOPWORDS, PUNCTUATION, and NEWLINES from the spacy processed doc.\n",
        "        Also LOWERCASE the tokens as well.\n",
        "  HINT: Make sure to use token.lemma_.lower() to lowercase text rather than token.text.lower()\n",
        "\n",
        "  Parameters\n",
        "  ----------\n",
        "  doc : Doc\n",
        "    The spacy preprocessed document\n",
        "\n",
        "  Returns\n",
        "  -------\n",
        "  preprocessed : List[Str]\n",
        "    A list of the preprocessed strings\n",
        "  \"\"\"\n",
        "  proc_doc = []\n",
        "  for token in doc:\n",
        "      # Check if the token is not a newline, not punctuation, and not a stop word\n",
        "      if token.pos_!='SPACE' and not token.is_space and not token.is_punct and not token.is_stop:\n",
        "          proc_doc.append(token.lemma_.lower())\n",
        "  return proc_doc\n",
        "\n",
        "def create_vocab(proc_docs : List[List[str]], vocab_cutoff : int = 5000) -> List[str]:\n",
        "  \"\"\"\n",
        "  Aggregates and collects the text of the most common tokens in docs, cutoff by the vocab_cutoff.\n",
        "  Hint: You may find Counter() useful here\n",
        "\n",
        "  Parameters\n",
        "  ----------\n",
        "  proc_docs : List[List[str]]\n",
        "    A list of preprocessed documents using preprocess_doc\n",
        "  vocab_cutoff : int\n",
        "    The cutoff of the MOST FREQUENT vocabulary\n",
        "\n",
        "  Returns\n",
        "  -------\n",
        "  vocab : List[Str]\n",
        "    A list of the top {vocab_cutoff} most common token texts in docs\n",
        "  \"\"\"\n",
        "  # Flatten the list of preprocessed documents\n",
        "  all_words = [word for doc in proc_docs for word in doc]\n",
        "\n",
        "  # Use Counter to count the frequency of each word\n",
        "  word_counts = Counter(all_words)\n",
        "\n",
        "  # Get the top 5000 most common words\n",
        "  vocab = [word for word, count in word_counts.most_common(vocab_cutoff)]\n",
        "\n",
        "  return vocab\n",
        "\n",
        "def idf_matrix(proc_docs : List[List[str]], word2idx : Dict[str, int],  vocab : List[str]) -> np.ndarray[np.float64]:\n",
        "  \"\"\"\n",
        "  Calculate the Inverse Document Frequency (IDF) Matrix using the equation above for each word\n",
        "  Equation: idf(w) = log(|D| / |d in D : w in d|)\n",
        "\n",
        "  Parameters\n",
        "  ----------\n",
        "  proc_docs : List[List[str]]\n",
        "    A list of preprocessed documents using preprocess_doc\n",
        "  word2idx : Dict[Str, Int]\n",
        "    A dictionary that matches each word in the vocabulary to it's rank\n",
        "  vocab : List[Str]\n",
        "    The actual vocab of all the docs (thresholded by vocab_cutoff)\n",
        "\n",
        "  Returns\n",
        "  -------\n",
        "  idf : np.array[Float]\n",
        "    The IDF array as defined by the equation in the description\n",
        "  \"\"\"\n",
        "  idf = np.zeros(len(vocab))\n",
        "\n",
        "  # Count the number of documents in which each word appears\n",
        "  doc_word_count = np.zeros(len(vocab))\n",
        "\n",
        "  # HINT: It may be useful to start by counting the number of documents a word shows up in for each word\n",
        "  for doc in proc_docs:\n",
        "    # Track unique words within a document\n",
        "    unique_words_in_doc = set(doc)\n",
        "    for word in unique_words_in_doc:\n",
        "      if word in word2idx:\n",
        "        word_idx = word2idx[word]\n",
        "        doc_word_count[word_idx] += 1\n",
        "\n",
        "  # Calculate IDF for each word in the vocabulary\n",
        "  for word_idx, word in enumerate(vocab):\n",
        "    if doc_word_count[word_idx] > 0:\n",
        "      idf[word_idx] = np.log(len(proc_docs) / doc_word_count[word_idx])\n",
        "\n",
        "  return idf\n",
        "\n",
        "def tf_matrix(proc_docs : List[List[str]], word2idx : Dict[str, int], vocab : List[str]) -> np.ndarray[np.float64]:\n",
        "  \"\"\"\n",
        "  Calculate the Term Frequency (TF) Matrix using the equation above for each word\n",
        "  Equation: tf(w, d) = 0.5 + 0.5 * (freq_w_in_d / freq_wmax_in_d)\n",
        "  NOTE: For words not in the document the TF value should be 0 and NOT 0.5\n",
        "\n",
        "  Parameters\n",
        "  ----------\n",
        "  proc_docs : List[List[str]]\n",
        "    A list of preprocessed documents using preprocess_doc\n",
        "  word2idx : Dict[Str, Int]\n",
        "    A dictionary that matches each word in the vocabulary to it's rank\n",
        "  vocab : List[Str]\n",
        "    The actual vocab of all the docs (thresholded by vocab_cutoff)\n",
        "\n",
        "  Returns\n",
        "  -------\n",
        "  tf : np.array[Float]\n",
        "    The TF array as defined by the equation in the description\n",
        "  \"\"\"\n",
        "  tf = np.zeros((len(proc_docs), len(vocab)))\n",
        "\n",
        "  for doc_idx, doc in enumerate(proc_docs):\n",
        "    doc_word_counts = {}  # Store word frequencies in the document\n",
        "    freq_wmax_in_d = 0  # Find the maximum word frequency in the document\n",
        "\n",
        "    # Count word frequencies in the document, find the maximum frequency\n",
        "    for word in doc:\n",
        "      if word in word2idx:\n",
        "        word_idx = word2idx[word]\n",
        "        if word_idx in doc_word_counts:\n",
        "          doc_word_counts[word_idx] += 1\n",
        "        else:\n",
        "          doc_word_counts[word_idx] = 1\n",
        "        freq_wmax_in_d = max(freq_wmax_in_d, doc_word_counts[word_idx])\n",
        "\n",
        "    # Calculate TF values for each word in the vocab\n",
        "    for word_idx, word in enumerate(vocab):\n",
        "      if word_idx in doc_word_counts:\n",
        "        if freq_wmax_in_d != 0:  # Check for division by zero\n",
        "          tf_value = 0.5 + 0.5 * (doc_word_counts[word_idx] / freq_wmax_in_d)\n",
        "          tf[doc_idx, word_idx] = tf_value\n",
        "        else:\n",
        "          tf[doc_idx, word_idx] = 0.0  # Handle division by zero case\n",
        "\n",
        "  return tf\n",
        "\n",
        "\n",
        "def tfidf_term_doc_matrix(docs : List[spacy.tokens.Doc], vocab_cutoff : int = 5000) -> Tuple[np.ndarray[np.float64], Dict[int, str]]:\n",
        "  \"\"\"\n",
        "  There are multiple steps in this function:\n",
        "  TODO:\n",
        "    1. Create the vocab\n",
        "    2. Threshold it by vocab_cutoff and compute IDF\n",
        "    3. Compute TF for each word in the document\n",
        "    4. Use TF and IDF to calculate TFIDF for each entry in M\n",
        "\n",
        "  Parameters\n",
        "  ----------\n",
        "  docs : List[Doc]\n",
        "    A list of spacy preprocessed documents\n",
        "  vocab_cutoff : int\n",
        "    The cutoff of the MOST FREQUENT vocabulary\n",
        "\n",
        "  Returns\n",
        "  -------\n",
        "  M : np.ndarray[float]\n",
        "    The TFIDF term document Matrix\n",
        "  idx2word : Dict[int, str]\n",
        "    The dictionary that maps each index/rank to each word in the vocabulary\n",
        "  \"\"\"\n",
        "\n",
        "  word2idx = {}\n",
        "  idx2word = {}\n",
        "  proc_docs = [] # A list of preprocessed docs\n",
        "\n",
        "  # TODO: Preprocess each document and compute your thresholded vocab\n",
        "  for doc in docs:\n",
        "    proc_doc = preprocess_doc(doc)\n",
        "    proc_docs.append(proc_doc)\n",
        "\n",
        "  # Sort the vocabulary by word frequency in descending order\n",
        "  vocab = create_vocab(proc_docs, vocab_cutoff)\n",
        "  M = np.zeros((len(proc_docs), len(vocab)))\n",
        "  # TODO: Fill in word2idx and idx2word\n",
        "  # Create word-to-index and index-to-word dictionaries\n",
        "  word2idx = {word: index for index, word in enumerate(vocab)}\n",
        "  idx2word = {index: word for word, index in word2idx.items()}\n",
        "\n",
        "  # TODO: Calculate the IDF array\n",
        "  idf = idf_matrix(proc_docs, word2idx, vocab)\n",
        "\n",
        "  # TODO: Calculate the TF array\n",
        "  tf = tf_matrix(proc_docs, word2idx, vocab)\n",
        "\n",
        "  # TODO: Combine the TF and IDF array to make the TFIDF array (M)\n",
        "  M = tf * idf # tf @ idf\n",
        "\n",
        "  #Do not modify the return statement\n",
        "  return M, idx2word"
      ]
    },
    {
      "cell_type": "code",
      "execution_count": null,
      "metadata": {
        "colab": {
          "base_uri": "https://localhost:8080/"
        },
        "id": "7nBA_poNLsdl",
        "outputId": "205940af-e7ea-49d5-a274-b02832adebc9"
      },
      "outputs": [
        {
          "data": {
            "text/plain": [
              "[['event',\n",
              "  'thing',\n",
              "  'life',\n",
              "  'learn',\n",
              "  'live',\n",
              "  'like',\n",
              "  'experience',\n",
              "  'way',\n",
              "  'want',\n",
              "  'offer'],\n",
              " ['pitch',\n",
              "  'inning',\n",
              "  'baseball',\n",
              "  'bat',\n",
              "  'hit',\n",
              "  'pitcher',\n",
              "  'game',\n",
              "  'homer',\n",
              "  'rbi',\n",
              "  'innings'],\n",
              " ['water',\n",
              "  'weather',\n",
              "  'company',\n",
              "  'area',\n",
              "  'mile',\n",
              "  'wind',\n",
              "  'storm',\n",
              "  'near',\n",
              "  'gas',\n",
              "  'damage'],\n",
              " ['click',\n",
              "  'subscription',\n",
              "  'subscriber',\n",
              "  'content',\n",
              "  'login',\n",
              "  'access',\n",
              "  'register',\n",
              "  'log',\n",
              "  'premium',\n",
              "  'site'],\n",
              " ['$',\n",
              "  'fund',\n",
              "  'board',\n",
              "  'meeting',\n",
              "  'council',\n",
              "  'approve',\n",
              "  'district',\n",
              "  'business',\n",
              "  'tax',\n",
              "  'money'],\n",
              " ['church',\n",
              "  'daughter',\n",
              "  'son',\n",
              "  'wife',\n",
              "  'funeral',\n",
              "  'sister',\n",
              "  'brother',\n",
              "  'husband',\n",
              "  'bear',\n",
              "  'family'],\n",
              " ['health',\n",
              "  'virus',\n",
              "  'test',\n",
              "  'covid-19',\n",
              "  'case',\n",
              "  'patient',\n",
              "  'coronavirus',\n",
              "  'disease',\n",
              "  'positive',\n",
              "  'hospital'],\n",
              " ['trump',\n",
              "  'election',\n",
              "  'president',\n",
              "  'biden',\n",
              "  'political',\n",
              "  'republican',\n",
              "  'democratic',\n",
              "  'donald',\n",
              "  'protest',\n",
              "  'campaign'],\n",
              " ['police',\n",
              "  'arrest',\n",
              "  'charge',\n",
              "  'officer',\n",
              "  'sheriff',\n",
              "  'court',\n",
              "  'vehicle',\n",
              "  'man',\n",
              "  'p.m.',\n",
              "  'attorney'],\n",
              " ['game',\n",
              "  'coach',\n",
              "  'team',\n",
              "  'season',\n",
              "  'player',\n",
              "  'play',\n",
              "  'win',\n",
              "  'football',\n",
              "  'championship',\n",
              "  'score']]"
            ]
          },
          "execution_count": 13,
          "metadata": {},
          "output_type": "execute_result"
        }
      ],
      "source": [
        "# Now try see what happens when you train a topic model with preprocessed text and tfidf features!\n",
        "###############################################################\n",
        "M, idx2word = tfidf_term_doc_matrix(spacy_processed_docs)\n",
        "\n",
        "topic_model = train_topic_model(M, n_topics=10)\n",
        "preview_topics(topic_model, idx2word)\n",
        "###############################################################"
      ]
    },
    {
      "cell_type": "markdown",
      "metadata": {
        "id": "g_wDw1pYZqdm"
      },
      "source": [
        "Now let's tune the number of topics in order to determine the \"right\" number of topics.\n",
        "\n",
        "To do this, we'll choose the number of topics that minimizes perplexity on held-out data. Specifically, you will need to do the following:\n",
        "1. Split your data into 80% train and 20% dev\n",
        "2. Using the training data, train 5 topic models, one for each of the following numbers of topics: [1, 5, 10, 15, 20]\n",
        "3. For each trained model, compute the perplexity on the dev set, and plot the result"
      ]
    },
    {
      "cell_type": "code",
      "execution_count": null,
      "metadata": {
        "id": "NrE03TJPLifF"
      },
      "outputs": [],
      "source": [
        "def test_models(M : np.ndarray[np.float64], ks : List[int], dev_split : int = 0.2):\n",
        "  \"\"\"\n",
        "  Tests out your models on multiple different values of k, where k is the number of topics for your model\n",
        "  Then it returns a perplexity list for each value of k\n",
        "\n",
        "  Parameters\n",
        "  ----------\n",
        "  M : np.ndarray[float]\n",
        "    The input term document Matrix\n",
        "  ks : List[int]\n",
        "    A list of different k-values (numbers of topics) to test on\n",
        "  dev_split : int\n",
        "    How much you want to split your data for testing. In our case dev_split should be 0.2 so that we split\n",
        "    our data into 80% train and 20% dev.\n",
        "\n",
        "  Returns\n",
        "  -------\n",
        "  train_scores : List[float]\n",
        "    The perplexity scores of each model in training\n",
        "  dev_scores : List[float]\n",
        "    The perplexity scores of each model in dev\n",
        "  \"\"\"\n",
        "  train_data, dev_data = train_test_split(M, test_size=dev_split)\n",
        "\n",
        "  train_scores = []\n",
        "  dev_scores = []\n",
        "  for k in ks:\n",
        "    print(\"Training LDA model with %d topics...\"%k)\n",
        "    model = train_topic_model(M, k)\n",
        "    train_scores.append(model.perplexity(train_data))\n",
        "    dev_scores.append(model.perplexity(dev_data))\n",
        "\n",
        "  return train_scores, dev_scores"
      ]
    },
    {
      "cell_type": "code",
      "execution_count": null,
      "metadata": {
        "colab": {
          "base_uri": "https://localhost:8080/",
          "height": 520
        },
        "id": "amY4EZkFuAz-",
        "outputId": "8ff120fb-aca8-4f09-9278-18b44ec5bd0c"
      },
      "outputs": [
        {
          "name": "stdout",
          "output_type": "stream",
          "text": [
            "Training LDA model with 1 topics...\n",
            "Training LDA model with 5 topics...\n",
            "Training LDA model with 10 topics...\n",
            "Training LDA model with 15 topics...\n",
            "Training LDA model with 20 topics...\n"
          ]
        },
        {
          "data": {
            "image/png": "[encoded data removed]",
            "text/plain": [
              "<Figure size 640x480 with 1 Axes>"
            ]
          },
          "metadata": {},
          "output_type": "display_data"
        }
      ],
      "source": [
        "# Plot the perplexity of each topic model\n",
        "ks = [1, 5, 10, 15, 20]\n",
        "train_scores, dev_scores = test_models(M, ks)\n",
        "plt.plot(np.arange(len(train_scores)), train_scores, label=\"Train\")\n",
        "plt.plot(np.arange(len(dev_scores)), dev_scores, label=\"Dev\")\n",
        "plt.xticks(np.arange(len(ks)), ['%d'%k for k in ks])\n",
        "plt.legend()\n",
        "plt.show()"
      ]
    },
    {
      "cell_type": "markdown",
      "metadata": {
        "id": "ZxNzeBZ0gxmj"
      },
      "source": [
        "# Part 3: Visualization"
      ]
    },
    {
      "cell_type": "markdown",
      "metadata": {
        "id": "kQjnCFsVXCSI"
      },
      "source": [
        "Now, for the exciting part! Let's use the topic model you just trained to inspect the data visually.\n",
        "\n",
        "First, Let's train the model with the amount of topics that minimized perplexity above..."
      ]
    },
    {
      "cell_type": "code",
      "execution_count": null,
      "metadata": {
        "id": "zt-e8ua9jFhB"
      },
      "outputs": [],
      "source": [
        "# TODO: Train the model on the full data using the number of topics you chose above (i.e., the value of k that minimized perplexity on dev).\n",
        "\n",
        "best_k = 20 # ??? # The number of Topics that got the best perplexity\n",
        "topic_model = train_topic_model(M, best_k) # ??? # Train the topic model with best_k topics\n",
        "topics = preview_topics(topic_model, idx2word)"
      ]
    },
    {
      "cell_type": "markdown",
      "metadata": {
        "id": "wns43Z6Jv5yW"
      },
      "source": [
        "To start, we want to visualize our Term Document Matrix, but that can be difficult to visualize because each document is represented by a 5000 component vector. Thus in order to visualize our Matrix, we will want to use **dimensionality reduction** to reduce the number of components to 2 so that we can plot each Document on a 2D grid.  \n",
        "\n",
        "In the cell below, we'll make use of PCA (Principle Component Analysis), a process that uses SVD (Singular Value Decomposition) to extract out the 2 most important Principal Components of our data which we can use to visualize our Matrix. You will NOT need to code this process from scratch, instead we'll make use of `sklearn.decomposition.PCA` to do it for you.\n",
        "\n",
        "- The output of `PCA.fit_transform()` is a matrix of shape `(n_samples, n_components)`, where `n_samples = #documents`, and `n_components = 2`, in our case. We will treat each row `i` of the output as 2D coordinates for document `i`.\n",
        "- Check out the PCA documentation [here](https://scikit-learn.org/stable/modules/generated/sklearn.decomposition.PCA.html)."
      ]
    },
    {
      "cell_type": "code",
      "execution_count": null,
      "metadata": {
        "id": "3UAbckGOCp2s"
      },
      "outputs": [],
      "source": [
        "import plotly.express as px\n",
        "import pandas as pd\n",
        "from sklearn.decomposition import PCA\n",
        "\n",
        "# NOTE: This code initialized our PCA model to project our matrix M into 2 dimensions\n",
        "def pca_projection(M : np.ndarray[np.float64], n_components : int = 2) -> np.ndarray[np.float64]:\n",
        "  \"\"\"\n",
        "  Use PCA to project M into n_components.\n",
        "  Note: You do NOT need to code this function.\n",
        "\n",
        "  Parameters\n",
        "  ----------\n",
        "  M : np.ndarray[float]\n",
        "    The input Term Document Matrix\n",
        "  n_components : int\n",
        "    The number of components/dimensions that you want to reduce to\n",
        "\n",
        "  Returns\n",
        "  -------\n",
        "  proj : np.ndarray[float]\n",
        "    The projected matrix (M projected to n_components)\n",
        "  \"\"\"\n",
        "  pca = PCA(n_components) # PCA model with n_components = 2\n",
        "  proj = pca.fit_transform(M) # Projections: An np.array of shape (n_samples, n_components)\n",
        "  return proj\n"
      ]
    },
    {
      "cell_type": "markdown",
      "metadata": {
        "id": "FT5d2sr3Zqdn"
      },
      "source": [
        "With this projection we can now plot all of the documents on a 2d plane, but ideally we want each point to be colored by their \"most prominent Topic\" and contain some more identifying data about the document.\n",
        "\n",
        "TODO: In order to achieve this, for each point lets create a function to build a dataframe **df** such that\n",
        "1. Each row corresponds to one of the documents\n",
        "2. The **topic** column maps each Document to it's \"Most Prominent Topic\"\n",
        "3. The **text** column maps each Document to the a quick text snippet from the Document (the first 100 characters of the Document's raw text)\n",
        "4. The **x** and **y** columns map to the (x, y) coordinates of the 2d projection\n",
        "\n",
        "To help you start we have created an empty dataframe with the columns defined in but with no data. Please fill in this dataframe with information from **docs**.\n"
      ]
    },
    {
      "cell_type": "code",
      "execution_count": null,
      "metadata": {
        "id": "Xq-Dz-c7Zqdn"
      },
      "outputs": [],
      "source": [
        "def generate_datapoints(docs : List[spacy.tokens.Doc], proj: np.ndarray[np.float64], M : np.ndarray[np.float64], topic_model: LatentDirichletAllocation) -> pd.DataFrame:\n",
        "  \"\"\"\n",
        "  Generates a Pandas Dataframe where each row corresponds to the data point (document). Specifically:\n",
        "    1. The (x, y) coordinates of the projected document\n",
        "    2. The text of the document (capped at 100 characters)\n",
        "    3. The most prominent topic of the document (As a string of the topic number e.g. \"2\")\n",
        "  An empty Dataframe with the required columns is already set up for you. Please fill it in and return it.\n",
        "  To help, the related topic_scores and projections for each document are already calculated for you!\n",
        "\n",
        "  Parameters\n",
        "  ----------\n",
        "  docs : List[Doc]\n",
        "    A list of spacy preprocessed documents\n",
        "  M : np.ndarray[float]\n",
        "    The input Term Document Matrix\n",
        "  proj: np.ndarray[float]\n",
        "    The projection matrix which is M projected to 2d space using our previously defined pca_projection function\n",
        "  topic_model: LatentDirichletAllocation\n",
        "    The trained topic model\n",
        "\n",
        "  Returns\n",
        "  -------\n",
        "  df : DataFrame\n",
        "    The filled out Dataframe\n",
        "  \"\"\"\n",
        "  df = pd.DataFrame(columns = ['topic', 'text', 'x', 'y'])\n",
        "\n",
        "  # HINT: To help you find the \"Most Prominent Topic\" for each document, we can use our topic model to transform M so that\n",
        "  #       we get a matrix of shape (num_documents, num_topic), where each entry is the \"Prominence\" score of that topic for that document.\n",
        "  # Calculate the most prominent topic for each document\n",
        "  topic_scores = topic_model.transform(M)\n",
        "  most_prominent_topics = np.argmax(topic_scores, axis=1)\n",
        "  # Create a list of dictionaries to store data for each document\n",
        "  doc_data_list = []\n",
        "\n",
        "  # TODO: Fill out the dataframe with all of the columns filled out for each document (row).\n",
        "  #       You're free to implement this however you wish (please see https://pandas.pydata.org/docs/reference/api/pandas.DataFrame.html)\n",
        "  #       However it might be easiest to first create a list of dictionaries and then call the pd.DataFrame constructor on the list\n",
        "  for index, doc in enumerate(docs):\n",
        "      # Extract the (x, y) coordinates from the projection matrix\n",
        "      x, y = proj[index]\n",
        "\n",
        "      # Get the most prominent topic as a string\n",
        "      most_prominent_topic = str(most_prominent_topics[index])\n",
        "\n",
        "      # Extract the first 100 characters of the document's raw text as text snippet\n",
        "      text = doc.text[:100]\n",
        "\n",
        "      # Create a dictionary for the current document and append it to the DataFrame\n",
        "      doc_data = {'topic': most_prominent_topic, 'text': text, 'x': x, 'y': y}\n",
        "      # Append the document data to the list\n",
        "      doc_data_list.append(doc_data)\n",
        "\n",
        "  # Concatenate the list of dictionaries into a DataFrame\n",
        "  df = pd.concat([df, pd.DataFrame(doc_data_list)], ignore_index=True)\n",
        "\n",
        "  return df"
      ]
    },
    {
      "cell_type": "markdown",
      "metadata": {
        "id": "UAjy1ABiwHeV"
      },
      "source": [
        "Now, run the following cell to plot the PCA projection of our documents onto 2D! Each point corresponds to a document, which you can hover over and view some of the contents of!"
      ]
    },
    {
      "cell_type": "code",
      "execution_count": null,
      "metadata": {
        "id": "biI7bKE4YNGr"
      },
      "outputs": [],
      "source": [
        "# This plots the plot_data list built in the previous cell, nothing to do here\n",
        "df = generate_datapoints(spacy_processed_docs, pca_projection(M, 2), M, topic_model)\n",
        "fig = px.scatter(df, x=\"x\", y=\"y\", color=\"topic\", hover_data=['text'])\n",
        "fig.show()"
      ]
    },
    {
      "cell_type": "markdown",
      "metadata": {
        "id": "m7X2t8rXbc96"
      },
      "source": [
        "## Geographical Visualization"
      ]
    },
    {
      "cell_type": "markdown",
      "metadata": {
        "id": "SSmckDyRwUmN"
      },
      "source": [
        "Now, we'd like you to visualize the most popular topics based on geographical location!\n",
        "\n",
        "We'll start with a simple bar graph showing the popularity of topics by state, where the height of each bar is the proportion of documents from each location that correspond to a particular topic.\n",
        "\n",
        "As a warning, these counts of documents are unnormalized... Because of this, states that have a lot of documents may more regularly appear at the front of the bar charts. These charts don't indicate which topics are proportionally popular by state, despite it being more intuitive."
      ]
    },
    {
      "cell_type": "markdown",
      "metadata": {
        "id": "PO3kVDI5Zqdn"
      },
      "source": [
        "To visualize the most popular counts by location and topic we first need to group and count the number of documents that have that \"most prominent topic\" and who originate from that location.\n",
        "\n",
        "TODO: Please fill in the `generate_location_data` function which takes in a list of locations and documents and creates a Dictionary that maps each topic to a Dictionary of {Location : Count}"
      ]
    },
    {
      "cell_type": "code",
      "execution_count": null,
      "metadata": {
        "id": "52SDPvZqZqdn"
      },
      "outputs": [],
      "source": [
        "def generate_location_data(docs : List[spacy.tokens.Doc], M : np.ndarray[np.float64], locations : List[str], topic_model: LatentDirichletAllocation) -> Dict[int, Dict[str, int]]:\n",
        "  \"\"\"\n",
        "  Aggregates the Documents that all share the same \"Most Prominent Topic\" and retains a count of the number of Documents at each location\n",
        "  for each Document. This will be used to generate a Bar Chart visualization and Map Visualization of where each Topic is most popular.\n",
        "\n",
        "  Parameters\n",
        "  ----------\n",
        "  docs : List[Doc]\n",
        "    A list of spacy preprocessed documents\n",
        "  M : np.ndarray[float]\n",
        "    The input Term Document Matrix\n",
        "  locations : List[str]\n",
        "    A list that records the location of each document. Thus, the location of i-th document is doc_locations[i]\n",
        "  topic_model: LatentDirichletAllocation\n",
        "    The trained topic model\n",
        "\n",
        "  Returns\n",
        "  -------\n",
        "  location_count : Dict[int, Dict[str, int]]\n",
        "    A dictionary that maps each topic (int) to a Dictionary mapping Location (str) to Counts (int) for that topic.\n",
        "    This is designed so that\n",
        "      * location_count[topic][state] is the count of documents for that state and topic\n",
        "  \"\"\"\n",
        "  location_count = {}\n",
        "\n",
        "  # HINT: To help you find the \"Most Prominent Topic\" for each document, we can use our topic model to transform M so that\n",
        "  #       we get a matrix of shape (num_documents, num_topic), where each entry is the \"Prominence\" score of that topic for that document.\n",
        "  topic_scores = topic_model.transform(M)\n",
        "\n",
        "  # Hint: It may be helpful to first create a dictionary mapping Topics (int) to a List of Locations\n",
        "  #       of the documents who have the Topic as it's \"Most Prominent Topic\"\n",
        "  # Loop through each document\n",
        "  for i, doc in enumerate(docs):\n",
        "      # Get the most prominent topic for this document\n",
        "      most_prominent_topic = np.argmax(topic_scores[i])\n",
        "\n",
        "      # Get the location for this document\n",
        "      location = locations[i]\n",
        "\n",
        "      # Create the location_count dictionary if it doesn't exist for this topic\n",
        "      if most_prominent_topic not in location_count:\n",
        "          location_count[most_prominent_topic] = {}\n",
        "\n",
        "      # Update the count for this location and topic\n",
        "      if location in location_count[most_prominent_topic]:\n",
        "          location_count[most_prominent_topic][location] += 1\n",
        "      else:\n",
        "          location_count[most_prominent_topic][location] = 1\n",
        "\n",
        "  return location_count\n"
      ]
    },
    {
      "cell_type": "markdown",
      "metadata": {
        "id": "rakO67joZqdo"
      },
      "source": [
        "With this, we can use the `generate_location_data` function to aggregate the number of locations for each topic and then generate our Bar Graphs. Nothing more needs to be done here."
      ]
    },
    {
      "cell_type": "code",
      "execution_count": null,
      "metadata": {
        "id": "XLTWo6wjZaOr"
      },
      "outputs": [],
      "source": [
        "from collections import Counter\n",
        "\n",
        "state_count = generate_location_data(spacy_processed_docs, M, doc_locations, topic_model)\n",
        "\n",
        "# This code makes a bar graph displaying the popularity (as a proportion) per state...\n",
        "for k in range(best_k):\n",
        "  fig = plt.figure(figsize=(20,4))\n",
        "\n",
        "  threshold = 30\n",
        "\n",
        "  total_doc_counts = dict(Counter(doc_locations).items())\n",
        "  normalized_state_count = {loc : 100 * state_count[k][loc] / total_doc_counts[loc] for loc in state_count[k] if total_doc_counts[loc] > threshold}\n",
        "  state_items = sorted(normalized_state_count.items(), key = lambda item: item[1], reverse = True)\n",
        "  state_names = [item[0] for item in state_items]\n",
        "  count = np.array([item[1] for item in state_items])\n",
        "\n",
        "  plt.bar(state_names, count, color ='blue', width = .8)\n",
        "  plt.ylim([0, 100])\n",
        "  plt.xticks(rotation=90)\n",
        "  plt.xlabel(\"States\")\n",
        "  plt.ylabel(\"Percentage of headlines from this location\")\n",
        "  plt.title(f\"Topic {k}: {', '.join(topics[k])}\")\n",
        "  plt.show()"
      ]
    },
    {
      "cell_type": "markdown",
      "metadata": {
        "id": "pk4O1XMdwdDP"
      },
      "source": [
        "Now, we'll use a library to plot the number of documents of each topic on a map, because it's much more visually intuitive than a bar graph!"
      ]
    },
    {
      "cell_type": "code",
      "execution_count": null,
      "metadata": {
        "id": "3_zToLg4hPC0"
      },
      "outputs": [],
      "source": [
        "from geopy.geocoders import Nominatim\n",
        "import plotly.graph_objects as go\n",
        "\n",
        "# Our geolocation service\n",
        "geolocator = Nominatim(user_agent='myapplication')\n",
        "for k in range(best_k):\n",
        "  lon, lat = [], []\n",
        "\n",
        "  threshold = 30\n",
        "\n",
        "  total_doc_counts = dict(Counter(doc_locations).items())\n",
        "  normalized_state_count = {loc : 100 * state_count[k][loc] / total_doc_counts[loc] for loc in state_count[k] if total_doc_counts[loc] > threshold}\n",
        "  state_items = sorted(normalized_state_count.items(), key = lambda item: item[1], reverse = True)\n",
        "  state_names = [item[0] for item in state_items]\n",
        "  count = np.array([item[1] for item in state_items])\n",
        "\n",
        "  labels = []\n",
        "  # Assign each state a geographical location\n",
        "  for state, c in zip(state_names, count):\n",
        "    location = geolocator.geocode(state)\n",
        "    lat.append(location.latitude)\n",
        "    lon.append(location.longitude)\n",
        "    labels.append(f\"{state} : {c}% of all {state} headlines have this topic\")\n",
        "\n",
        "  marker = dict(color=\"blue\", size=count)\n",
        "  fig = go.Figure(data=go.Scattergeo(lon=lon, lat=lat, text=labels, mode='markers', marker=marker))\n",
        "  fig.update_layout(title = f\"Topic {k}: {', '.join(topics[k])}\" ,geo_scope='usa')\n",
        "  fig.show()"
      ]
    },
    {
      "cell_type": "markdown",
      "metadata": {
        "id": "hwahJdZIuSdk"
      },
      "source": [
        "## 4. Conceptual Questions"
      ]
    },
    {
      "cell_type": "markdown",
      "metadata": {
        "id": "jZnl7hUauXoh"
      },
      "source": [
        "In this section, you may need to write more code to answer the conceptual questions—much of which will draw from code you've already written above. Do *not* change any code you've already written above; make duplicates in this section to edit, if necessary. Create markdown cells for written responses."
      ]
    },
    {
      "cell_type": "markdown",
      "metadata": {
        "id": "0McCQzd3ueUh"
      },
      "source": [
        "### Question 1: Threshold?\n",
        "When we plotted the bar graphs and geographical graphs, we included a line `threshold=30` to exclude some states.\n",
        "Create code cell(s) below to re-create the bar graphs with the same topic model without excluding any states. Which topics now have different top states? Using one of these topics and its new top state as an example, why was the threshold necessary?"
      ]
    },
    {
      "cell_type": "code",
      "execution_count": null,
      "metadata": {
        "id": "qA7vHL-Sufj8"
      },
      "outputs": [],
      "source": [
        "from collections import Counter\n",
        "\n",
        "state_count = generate_location_data(spacy_processed_docs, M, doc_locations, topic_model)\n",
        "for k in range(best_k):\n",
        "  fig = plt.figure(figsize=(20,4))\n",
        "\n",
        "  threshold = ???\n",
        "  total_doc_counts = dict(Counter(doc_locations).items())\n",
        "  normalized_state_count = {loc : 100 * state_count[k][loc] / total_doc_counts[loc] for loc in state_count[k] if total_doc_counts[loc] > threshold}\n",
        "  state_items = sorted(normalized_state_count.items(), key = lambda item: item[1], reverse = True)\n",
        "  state_names = [item[0] for item in state_items]\n",
        "  count = np.array([item[1] for item in state_items])\n",
        "\n",
        "  plt.bar(state_names, count, color ='blue', width = .8)\n",
        "  plt.ylim([0, 100])\n",
        "  plt.xticks(rotation=90)\n",
        "  plt.xlabel(\"States\")\n",
        "  plt.ylabel(\"Percentage of headlines from this location\")\n",
        "  plt.title(f\"Topic {k}: {', '.join(topics[k])}\")\n",
        "  plt.show()"
      ]
    },
    {
      "cell_type": "markdown",
      "metadata": {
        "id": "MWbJJioSuttg"
      },
      "source": [
        "ANSWER: [TODO]"
      ]
    },
    {
      "cell_type": "markdown",
      "metadata": {
        "id": "qwnXpXL2vUND"
      },
      "source": [
        "### Question 2: Perplexed on Perplexity\n",
        "We asked you to plot a perplexity graph to choose the number of topics that minimizes perplexity on held-out data. Please answer the following questions:\n",
        "- What is perplexity in the context of our topic model?\n",
        "- Why does perplexity not necessarily decrease by increasing the number of topics?"
      ]
    },
    {
      "cell_type": "markdown",
      "metadata": {
        "id": "B4rVMcaevWIY"
      },
      "source": [
        "ANSWER: [TODO]"
      ]
    },
    {
      "cell_type": "markdown",
      "metadata": {
        "id": "5YEINVNw5-W8"
      },
      "source": [
        "# Submission Instructions\n",
        "Please submit this Colab as **two** files to Gradescope:\n",
        "1.   A `.py` file: Click File > Download > Download .py\n",
        "2.   A `.ipynb` file ***WITH OUTPUTS***: Click Runtime > Run All, and then after all outputs are complete, click File > Download > Download .ipynb\n",
        "\n",
        "Please ensure that the `.ipynb` contains actual function outputs (and not leftover print statements, for instance). We will run your `.ipynb` file; if our outputs don't match the outputs in your submitted file (within reason), you will receive a 0 on this assignment.\n",
        "\n",
        "Please also keep any helper functions that you create for your implementation on the same cell and keep the cells to the function definition and print statements that we provided ONLY for best Autograder results. Thank you!"
      ]
    }
  ],
  "metadata": {
    "colab": {
      "provenance": []
    },
    "gpuClass": "standard",
    "kernelspec": {
      "display_name": "Python 3",
      "name": "python3"
    },
    "language_info": {
      "codemirror_mode": {
        "name": "ipython",
        "version": 3
      },
      "file_extension": ".py",
      "mimetype": "text/x-python",
      "name": "python",
      "nbconvert_exporter": "python",
      "pygments_lexer": "ipython3",
      "version": "3.9.1"
    }
  },
  "nbformat": 4,
  "nbformat_minor": 0
}