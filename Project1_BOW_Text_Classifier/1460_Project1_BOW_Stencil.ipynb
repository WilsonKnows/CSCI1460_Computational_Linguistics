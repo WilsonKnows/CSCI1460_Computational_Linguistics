{
  "cells": [
    {
      "cell_type": "markdown",
      "metadata": {
        "id": "PXr-P33boqMu"
      },
      "source": [
        "# Before you start\n"
      ]
    },
    {
      "cell_type": "markdown",
      "metadata": {
        "id": "xQHTrl-FoyZ5"
      },
      "source": [
        "In this class, we will be using Google Colab notebooks for assignments instead of regular Python files. Colab provides more efficient Google GPU and is easier for setting up. Colab is also a very powerful platform and it functions very similarly to a Jupyter notebook. We'll provide a few tips on how to use Colab below; make sure you read them carefully!\n"
      ]
    },
    {
      "cell_type": "markdown",
      "metadata": {
        "id": "C3xfjKH5l-yX"
      },
      "source": [
        "☝ **Quick Colab Tips:**\n",
        "\n",
        "- Make sure you **create a copy** of the Colab before you start coding!!! (File->Save a copy in Drive). If you don't do this, you will lose everything when you close the page and we DON'T want that to happen to you!\n",
        "- Make sure you hit every play button that you need in previous cells, so that every function and variable you need is defined.\n",
        "- If you don't want to click everything individually, you can click Runtime and you will find \"Run Before\", \"Run After\", or \"Run All\".\n",
        "- When you reload the page, the runtime restarts and all variables in the environment are cleared, so you will need to re-run cells.\n",
        "- If you make changes to a definition in an earlier cell, remember to run the cell to actually update the definition. Then remember to re-run the cells after, or else they will still be using the previous value.\n",
        "- For more tips on getting started, please take a look at this [video](https://www.youtube.com/watch?v=inN8seMm7UI&ab_channel=TensorFlow).\n"
      ]
    },
    {
      "cell_type": "markdown",
      "metadata": {
        "id": "OWW6ckHBfm2D"
      },
      "source": [
        "**Collaboration policy form:**\n",
        "\n",
        "Before you start coding, make sure to fill out the [collaboration policy form](https://docs.google.com/forms/d/e/1FAIpQLSeQ4mw2BUb8j0zY20UiWSenWRrkHsKOaUx-VXm1i3h3FTQQxg/viewform?usp=sf_link).\n"
      ]
    },
    {
      "cell_type": "markdown",
      "metadata": {
        "id": "CtgQAyEeci3U"
      },
      "source": [
        "# Introduction\n"
      ]
    },
    {
      "cell_type": "markdown",
      "metadata": {
        "id": "KVB34I9mWS0n"
      },
      "source": [
        "Welcome to your first assignment! In this assignment, you will be implementing your very first NLP model (Woohoo!) -- a Bag of Words (BOW) model for sentiment classification. In this assignment, you will be using a very useful NLP libary (spaCy), and a popular machine learning library (scikit-learn, or sklearn) to help you with preprocessing the data and building the BOW model. In later lectures and assignments, you will learn to implement many of these NLP and ML functions yourself, but in \"the real world\" it is often more practical to use existing libraries like those provided by spacy and sklearn than to implement these algorithms from scratch. So, in this assignment, we want you to learn how to use these libraries in a practical setting, and we'll later learn about how they work \"under the hood\".\n",
        "\n",
        "The main learning objectives for this assignment are:\n",
        "\n",
        "1. Use sklearn to implement a standard ML workflow (featurization, designing train-test splits, training a model, and evaluating the model).\n",
        "2. Use spaCy for standard NLP preprocessing steps (tokenization, lemmatization, tagging).\n",
        "3. Understand and implement common featurization approaches for text classifiers (ngrams, weighting schemas, tagging).\n"
      ]
    },
    {
      "cell_type": "markdown",
      "metadata": {
        "id": "itqsAfAOelQ_"
      },
      "source": [
        "The basic workflow for an NLP model contains the following steps:\n",
        "\n",
        "1. Load and Explore Data\n",
        "2. Preprocess Data\n",
        "3. Extract Features\n",
        "4. Train the Model\n",
        "5. Evaluate the Model\n",
        "6. Analyze Model Behavior\n",
        "\n",
        "You will implement this full workflow in Part 1. In Part 2, you will experiment with improvements to step 2 (preprocessing). In Part 3, you will experiment with improvements to step 3 (featurization).\n"
      ]
    },
    {
      "cell_type": "markdown",
      "metadata": {
        "id": "XnKGrey8cZp2"
      },
      "source": [
        "### Installation and Imports\n"
      ]
    },
    {
      "cell_type": "markdown",
      "metadata": {
        "id": "WGA9Y8Rycvbs"
      },
      "source": [
        "☝ **Quick Tip:** You can add \"**!**\" in front a Linux command and it can run on Colab!\n"
      ]
    },
    {
      "cell_type": "code",
      "execution_count": 14,
      "metadata": {
        "id": "rXyZnyPJc2Ze",
        "colab": {
          "base_uri": "https://localhost:8080/"
        },
        "outputId": "3880c08a-d792-41ef-8cbc-4c947fdf8697"
      },
      "outputs": [
        {
          "output_type": "stream",
          "name": "stdout",
          "text": [
            "Requirement already satisfied: spacy in /usr/local/lib/python3.10/dist-packages (3.6.1)\n",
            "Requirement already satisfied: spacy-legacy<3.1.0,>=3.0.11 in /usr/local/lib/python3.10/dist-packages (from spacy) (3.0.12)\n",
            "Requirement already satisfied: spacy-loggers<2.0.0,>=1.0.0 in /usr/local/lib/python3.10/dist-packages (from spacy) (1.0.4)\n",
            "Requirement already satisfied: murmurhash<1.1.0,>=0.28.0 in /usr/local/lib/python3.10/dist-packages (from spacy) (1.0.9)\n",
            "Requirement already satisfied: cymem<2.1.0,>=2.0.2 in /usr/local/lib/python3.10/dist-packages (from spacy) (2.0.7)\n",
            "Requirement already satisfied: preshed<3.1.0,>=3.0.2 in /usr/local/lib/python3.10/dist-packages (from spacy) (3.0.8)\n",
            "Requirement already satisfied: thinc<8.2.0,>=8.1.8 in /usr/local/lib/python3.10/dist-packages (from spacy) (8.1.12)\n",
            "Requirement already satisfied: wasabi<1.2.0,>=0.9.1 in /usr/local/lib/python3.10/dist-packages (from spacy) (1.1.2)\n",
            "Requirement already satisfied: srsly<3.0.0,>=2.4.3 in /usr/local/lib/python3.10/dist-packages (from spacy) (2.4.7)\n",
            "Requirement already satisfied: catalogue<2.1.0,>=2.0.6 in /usr/local/lib/python3.10/dist-packages (from spacy) (2.0.9)\n",
            "Requirement already satisfied: typer<0.10.0,>=0.3.0 in /usr/local/lib/python3.10/dist-packages (from spacy) (0.9.0)\n",
            "Requirement already satisfied: pathy>=0.10.0 in /usr/local/lib/python3.10/dist-packages (from spacy) (0.10.2)\n",
            "Requirement already satisfied: smart-open<7.0.0,>=5.2.1 in /usr/local/lib/python3.10/dist-packages (from spacy) (6.4.0)\n",
            "Requirement already satisfied: tqdm<5.0.0,>=4.38.0 in /usr/local/lib/python3.10/dist-packages (from spacy) (4.66.1)\n",
            "Requirement already satisfied: numpy>=1.15.0 in /usr/local/lib/python3.10/dist-packages (from spacy) (1.23.5)\n",
            "Requirement already satisfied: requests<3.0.0,>=2.13.0 in /usr/local/lib/python3.10/dist-packages (from spacy) (2.31.0)\n",
            "Requirement already satisfied: pydantic!=1.8,!=1.8.1,<3.0.0,>=1.7.4 in /usr/local/lib/python3.10/dist-packages (from spacy) (1.10.12)\n",
            "Requirement already satisfied: jinja2 in /usr/local/lib/python3.10/dist-packages (from spacy) (3.1.2)\n",
            "Requirement already satisfied: setuptools in /usr/local/lib/python3.10/dist-packages (from spacy) (67.7.2)\n",
            "Requirement already satisfied: packaging>=20.0 in /usr/local/lib/python3.10/dist-packages (from spacy) (23.1)\n",
            "Requirement already satisfied: langcodes<4.0.0,>=3.2.0 in /usr/local/lib/python3.10/dist-packages (from spacy) (3.3.0)\n",
            "Requirement already satisfied: typing-extensions>=4.2.0 in /usr/local/lib/python3.10/dist-packages (from pydantic!=1.8,!=1.8.1,<3.0.0,>=1.7.4->spacy) (4.5.0)\n",
            "Requirement already satisfied: charset-normalizer<4,>=2 in /usr/local/lib/python3.10/dist-packages (from requests<3.0.0,>=2.13.0->spacy) (3.2.0)\n",
            "Requirement already satisfied: idna<4,>=2.5 in /usr/local/lib/python3.10/dist-packages (from requests<3.0.0,>=2.13.0->spacy) (3.4)\n",
            "Requirement already satisfied: urllib3<3,>=1.21.1 in /usr/local/lib/python3.10/dist-packages (from requests<3.0.0,>=2.13.0->spacy) (2.0.4)\n",
            "Requirement already satisfied: certifi>=2017.4.17 in /usr/local/lib/python3.10/dist-packages (from requests<3.0.0,>=2.13.0->spacy) (2023.7.22)\n",
            "Requirement already satisfied: blis<0.8.0,>=0.7.8 in /usr/local/lib/python3.10/dist-packages (from thinc<8.2.0,>=8.1.8->spacy) (0.7.10)\n",
            "Requirement already satisfied: confection<1.0.0,>=0.0.1 in /usr/local/lib/python3.10/dist-packages (from thinc<8.2.0,>=8.1.8->spacy) (0.1.2)\n",
            "Requirement already satisfied: click<9.0.0,>=7.1.1 in /usr/local/lib/python3.10/dist-packages (from typer<0.10.0,>=0.3.0->spacy) (8.1.7)\n",
            "Requirement already satisfied: MarkupSafe>=2.0 in /usr/local/lib/python3.10/dist-packages (from jinja2->spacy) (2.1.3)\n",
            "Collecting sklearn\n",
            "  Using cached sklearn-0.0.post9.tar.gz (3.6 kB)\n",
            "  \u001b[1;31merror\u001b[0m: \u001b[1msubprocess-exited-with-error\u001b[0m\n",
            "  \n",
            "  \u001b[31m×\u001b[0m \u001b[32mpython setup.py egg_info\u001b[0m did not run successfully.\n",
            "  \u001b[31m│\u001b[0m exit code: \u001b[1;36m1\u001b[0m\n",
            "  \u001b[31m╰─>\u001b[0m See above for output.\n",
            "  \n",
            "  \u001b[1;35mnote\u001b[0m: This error originates from a subprocess, and is likely not a problem with pip.\n",
            "  Preparing metadata (setup.py) ... \u001b[?25l\u001b[?25herror\n",
            "\u001b[1;31merror\u001b[0m: \u001b[1mmetadata-generation-failed\u001b[0m\n",
            "\n",
            "\u001b[31m×\u001b[0m Encountered error while generating package metadata.\n",
            "\u001b[31m╰─>\u001b[0m See above for output.\n",
            "\n",
            "\u001b[1;35mnote\u001b[0m: This is an issue with the package mentioned above, not pip.\n",
            "\u001b[1;36mhint\u001b[0m: See above for details.\n",
            "Mounted at /content/drive\n"
          ]
        }
      ],
      "source": [
        "!pip install spacy\n",
        "!pip install sklearn\n",
        "\n",
        "import os\n",
        "import spacy\n",
        "\n",
        "from google.colab import drive\n",
        "\n",
        "import numpy as np\n",
        "import pandas as pd\n",
        "import pickle\n",
        "from typing import List, Tuple, TypeAlias\n",
        "\n",
        "drive.mount(\"/content/drive\", force_remount=True)"
      ]
    },
    {
      "cell_type": "markdown",
      "metadata": {
        "id": "uqRWYkCy5j_H"
      },
      "source": [
        "# Part 1: BOW Workflow\n"
      ]
    },
    {
      "cell_type": "markdown",
      "metadata": {
        "id": "-LFmmfC40yvK"
      },
      "source": [
        "### Step 1: Load the raw data from disk and explore the data\n"
      ]
    },
    {
      "cell_type": "markdown",
      "metadata": {
        "id": "SgkVdcg-g_A2"
      },
      "source": [
        "In this assignment, we will use a Twitter dataset with social media text. Mount the path to your copied handout folder in the cell below, so that you can access it from this notebook.\n",
        "\n",
        "In the dataset, the tweets are rated for three categories of sentiment: positive, negative and neutral. We will use the tweets in the `text` column and the sentiments in the `sentiment` column. Read the pandas documentation [here](https://pandas.pydata.org/docs/reference/api/pandas.read_csv.html) if you are unfamiliar with dataframes.\n"
      ]
    },
    {
      "cell_type": "code",
      "execution_count": 4,
      "metadata": {
        "id": "ruKcSLB7qmV1",
        "colab": {
          "base_uri": "https://localhost:8080/",
          "height": 423
        },
        "outputId": "80f4e117-9919-4a82-e467-fe60da7d4dd9"
      },
      "outputs": [
        {
          "output_type": "execute_result",
          "data": {
            "text/plain": [
              "                                                   text sentiment\n",
              "0                   I`d have responded, if I were going   neutral\n",
              "1         Sooo SAD I will miss you here in San Diego!!!  negative\n",
              "2                             my boss is bullying me...  negative\n",
              "3                        what interview! leave me alone  negative\n",
              "4      Sons of ****, why couldn`t they put them on t...  negative\n",
              "...                                                 ...       ...\n",
              "4995   look like i can only quick post from the dash...   neutral\n",
              "4996   Thanks Elaine. I`m clipping reviews for her s...  positive\n",
              "4997  K now that, that fiasco is all wrapped and goo...  positive\n",
              "4998                  No. I won`t be back until the 7th   neutral\n",
              "4999  Sooo tired and have a headache-all self inflic...   neutral\n",
              "\n",
              "[5000 rows x 2 columns]"
            ],
            "text/html": [
              "\n",
              "  <div id=\"df-08552397-1bff-468b-8bcd-eb8a300947ba\" class=\"colab-df-container\">\n",
              "    <div>\n",
              "<style scoped>\n",
              "    .dataframe tbody tr th:only-of-type {\n",
              "        vertical-align: middle;\n",
              "    }\n",
              "\n",
              "    .dataframe tbody tr th {\n",
              "        vertical-align: top;\n",
              "    }\n",
              "\n",
              "    .dataframe thead th {\n",
              "        text-align: right;\n",
              "    }\n",
              "</style>\n",
              "<table border=\"1\" class=\"dataframe\">\n",
              "  <thead>\n",
              "    <tr style=\"text-align: right;\">\n",
              "      <th></th>\n",
              "      <th>text</th>\n",
              "      <th>sentiment</th>\n",
              "    </tr>\n",
              "  </thead>\n",
              "  <tbody>\n",
              "    <tr>\n",
              "      <th>0</th>\n",
              "      <td>I`d have responded, if I were going</td>\n",
              "      <td>neutral</td>\n",
              "    </tr>\n",
              "    <tr>\n",
              "      <th>1</th>\n",
              "      <td>Sooo SAD I will miss you here in San Diego!!!</td>\n",
              "      <td>negative</td>\n",
              "    </tr>\n",
              "    <tr>\n",
              "      <th>2</th>\n",
              "      <td>my boss is bullying me...</td>\n",
              "      <td>negative</td>\n",
              "    </tr>\n",
              "    <tr>\n",
              "      <th>3</th>\n",
              "      <td>what interview! leave me alone</td>\n",
              "      <td>negative</td>\n",
              "    </tr>\n",
              "    <tr>\n",
              "      <th>4</th>\n",
              "      <td>Sons of ****, why couldn`t they put them on t...</td>\n",
              "      <td>negative</td>\n",
              "    </tr>\n",
              "    <tr>\n",
              "      <th>...</th>\n",
              "      <td>...</td>\n",
              "      <td>...</td>\n",
              "    </tr>\n",
              "    <tr>\n",
              "      <th>4995</th>\n",
              "      <td>look like i can only quick post from the dash...</td>\n",
              "      <td>neutral</td>\n",
              "    </tr>\n",
              "    <tr>\n",
              "      <th>4996</th>\n",
              "      <td>Thanks Elaine. I`m clipping reviews for her s...</td>\n",
              "      <td>positive</td>\n",
              "    </tr>\n",
              "    <tr>\n",
              "      <th>4997</th>\n",
              "      <td>K now that, that fiasco is all wrapped and goo...</td>\n",
              "      <td>positive</td>\n",
              "    </tr>\n",
              "    <tr>\n",
              "      <th>4998</th>\n",
              "      <td>No. I won`t be back until the 7th</td>\n",
              "      <td>neutral</td>\n",
              "    </tr>\n",
              "    <tr>\n",
              "      <th>4999</th>\n",
              "      <td>Sooo tired and have a headache-all self inflic...</td>\n",
              "      <td>neutral</td>\n",
              "    </tr>\n",
              "  </tbody>\n",
              "</table>\n",
              "<p>5000 rows × 2 columns</p>\n",
              "</div>\n",
              "    <div class=\"colab-df-buttons\">\n",
              "\n",
              "  <div class=\"colab-df-container\">\n",
              "    <button class=\"colab-df-convert\" onclick=\"convertToInteractive('df-08552397-1bff-468b-8bcd-eb8a300947ba')\"\n",
              "            title=\"Convert this dataframe to an interactive table.\"\n",
              "            style=\"display:none;\">\n",
              "\n",
              "  <svg xmlns=\"http://www.w3.org/2000/svg\" height=\"24px\" viewBox=\"0 -960 960 960\">\n",
              "    <path d=\"M120-120v-720h720v720H120Zm60-500h600v-160H180v160Zm220 220h160v-160H400v160Zm0 220h160v-160H400v160ZM180-400h160v-160H180v160Zm440 0h160v-160H620v160ZM180-180h160v-160H180v160Zm440 0h160v-160H620v160Z\"/>\n",
              "  </svg>\n",
              "    </button>\n",
              "\n",
              "  <style>\n",
              "    .colab-df-container {\n",
              "      display:flex;\n",
              "      gap: 12px;\n",
              "    }\n",
              "\n",
              "    .colab-df-convert {\n",
              "      background-color: #E8F0FE;\n",
              "      border: none;\n",
              "      border-radius: 50%;\n",
              "      cursor: pointer;\n",
              "      display: none;\n",
              "      fill: #1967D2;\n",
              "      height: 32px;\n",
              "      padding: 0 0 0 0;\n",
              "      width: 32px;\n",
              "    }\n",
              "\n",
              "    .colab-df-convert:hover {\n",
              "      background-color: #E2EBFA;\n",
              "      box-shadow: 0px 1px 2px rgba(60, 64, 67, 0.3), 0px 1px 3px 1px rgba(60, 64, 67, 0.15);\n",
              "      fill: #174EA6;\n",
              "    }\n",
              "\n",
              "    .colab-df-buttons div {\n",
              "      margin-bottom: 4px;\n",
              "    }\n",
              "\n",
              "    [theme=dark] .colab-df-convert {\n",
              "      background-color: #3B4455;\n",
              "      fill: #D2E3FC;\n",
              "    }\n",
              "\n",
              "    [theme=dark] .colab-df-convert:hover {\n",
              "      background-color: #434B5C;\n",
              "      box-shadow: 0px 1px 3px 1px rgba(0, 0, 0, 0.15);\n",
              "      filter: drop-shadow(0px 1px 2px rgba(0, 0, 0, 0.3));\n",
              "      fill: #FFFFFF;\n",
              "    }\n",
              "  </style>\n",
              "\n",
              "    <script>\n",
              "      const buttonEl =\n",
              "        document.querySelector('#df-08552397-1bff-468b-8bcd-eb8a300947ba button.colab-df-convert');\n",
              "      buttonEl.style.display =\n",
              "        google.colab.kernel.accessAllowed ? 'block' : 'none';\n",
              "\n",
              "      async function convertToInteractive(key) {\n",
              "        const element = document.querySelector('#df-08552397-1bff-468b-8bcd-eb8a300947ba');\n",
              "        const dataTable =\n",
              "          await google.colab.kernel.invokeFunction('convertToInteractive',\n",
              "                                                    [key], {});\n",
              "        if (!dataTable) return;\n",
              "\n",
              "        const docLinkHtml = 'Like what you see? Visit the ' +\n",
              "          '<a target=\"_blank\" href=https://colab.research.google.com/notebooks/data_table.ipynb>data table notebook</a>'\n",
              "          + ' to learn more about interactive tables.';\n",
              "        element.innerHTML = '';\n",
              "        dataTable['output_type'] = 'display_data';\n",
              "        await google.colab.output.renderOutput(dataTable, element);\n",
              "        const docLink = document.createElement('div');\n",
              "        docLink.innerHTML = docLinkHtml;\n",
              "        element.appendChild(docLink);\n",
              "      }\n",
              "    </script>\n",
              "  </div>\n",
              "\n",
              "\n",
              "<div id=\"df-e90229c1-5d21-4aea-95e0-7b755edf0646\">\n",
              "  <button class=\"colab-df-quickchart\" onclick=\"quickchart('df-e90229c1-5d21-4aea-95e0-7b755edf0646')\"\n",
              "            title=\"Suggest charts.\"\n",
              "            style=\"display:none;\">\n",
              "\n",
              "<svg xmlns=\"http://www.w3.org/2000/svg\" height=\"24px\"viewBox=\"0 0 24 24\"\n",
              "     width=\"24px\">\n",
              "    <g>\n",
              "        <path d=\"M19 3H5c-1.1 0-2 .9-2 2v14c0 1.1.9 2 2 2h14c1.1 0 2-.9 2-2V5c0-1.1-.9-2-2-2zM9 17H7v-7h2v7zm4 0h-2V7h2v10zm4 0h-2v-4h2v4z\"/>\n",
              "    </g>\n",
              "</svg>\n",
              "  </button>\n",
              "\n",
              "<style>\n",
              "  .colab-df-quickchart {\n",
              "      --bg-color: #E8F0FE;\n",
              "      --fill-color: #1967D2;\n",
              "      --hover-bg-color: #E2EBFA;\n",
              "      --hover-fill-color: #174EA6;\n",
              "      --disabled-fill-color: #AAA;\n",
              "      --disabled-bg-color: #DDD;\n",
              "  }\n",
              "\n",
              "  [theme=dark] .colab-df-quickchart {\n",
              "      --bg-color: #3B4455;\n",
              "      --fill-color: #D2E3FC;\n",
              "      --hover-bg-color: #434B5C;\n",
              "      --hover-fill-color: #FFFFFF;\n",
              "      --disabled-bg-color: #3B4455;\n",
              "      --disabled-fill-color: #666;\n",
              "  }\n",
              "\n",
              "  .colab-df-quickchart {\n",
              "    background-color: var(--bg-color);\n",
              "    border: none;\n",
              "    border-radius: 50%;\n",
              "    cursor: pointer;\n",
              "    display: none;\n",
              "    fill: var(--fill-color);\n",
              "    height: 32px;\n",
              "    padding: 0;\n",
              "    width: 32px;\n",
              "  }\n",
              "\n",
              "  .colab-df-quickchart:hover {\n",
              "    background-color: var(--hover-bg-color);\n",
              "    box-shadow: 0 1px 2px rgba(60, 64, 67, 0.3), 0 1px 3px 1px rgba(60, 64, 67, 0.15);\n",
              "    fill: var(--button-hover-fill-color);\n",
              "  }\n",
              "\n",
              "  .colab-df-quickchart-complete:disabled,\n",
              "  .colab-df-quickchart-complete:disabled:hover {\n",
              "    background-color: var(--disabled-bg-color);\n",
              "    fill: var(--disabled-fill-color);\n",
              "    box-shadow: none;\n",
              "  }\n",
              "\n",
              "  .colab-df-spinner {\n",
              "    border: 2px solid var(--fill-color);\n",
              "    border-color: transparent;\n",
              "    border-bottom-color: var(--fill-color);\n",
              "    animation:\n",
              "      spin 1s steps(1) infinite;\n",
              "  }\n",
              "\n",
              "  @keyframes spin {\n",
              "    0% {\n",
              "      border-color: transparent;\n",
              "      border-bottom-color: var(--fill-color);\n",
              "      border-left-color: var(--fill-color);\n",
              "    }\n",
              "    20% {\n",
              "      border-color: transparent;\n",
              "      border-left-color: var(--fill-color);\n",
              "      border-top-color: var(--fill-color);\n",
              "    }\n",
              "    30% {\n",
              "      border-color: transparent;\n",
              "      border-left-color: var(--fill-color);\n",
              "      border-top-color: var(--fill-color);\n",
              "      border-right-color: var(--fill-color);\n",
              "    }\n",
              "    40% {\n",
              "      border-color: transparent;\n",
              "      border-right-color: var(--fill-color);\n",
              "      border-top-color: var(--fill-color);\n",
              "    }\n",
              "    60% {\n",
              "      border-color: transparent;\n",
              "      border-right-color: var(--fill-color);\n",
              "    }\n",
              "    80% {\n",
              "      border-color: transparent;\n",
              "      border-right-color: var(--fill-color);\n",
              "      border-bottom-color: var(--fill-color);\n",
              "    }\n",
              "    90% {\n",
              "      border-color: transparent;\n",
              "      border-bottom-color: var(--fill-color);\n",
              "    }\n",
              "  }\n",
              "</style>\n",
              "\n",
              "  <script>\n",
              "    async function quickchart(key) {\n",
              "      const quickchartButtonEl =\n",
              "        document.querySelector('#' + key + ' button');\n",
              "      quickchartButtonEl.disabled = true;  // To prevent multiple clicks.\n",
              "      quickchartButtonEl.classList.add('colab-df-spinner');\n",
              "      try {\n",
              "        const charts = await google.colab.kernel.invokeFunction(\n",
              "            'suggestCharts', [key], {});\n",
              "      } catch (error) {\n",
              "        console.error('Error during call to suggestCharts:', error);\n",
              "      }\n",
              "      quickchartButtonEl.classList.remove('colab-df-spinner');\n",
              "      quickchartButtonEl.classList.add('colab-df-quickchart-complete');\n",
              "    }\n",
              "    (() => {\n",
              "      let quickchartButtonEl =\n",
              "        document.querySelector('#df-e90229c1-5d21-4aea-95e0-7b755edf0646 button');\n",
              "      quickchartButtonEl.style.display =\n",
              "        google.colab.kernel.accessAllowed ? 'block' : 'none';\n",
              "    })();\n",
              "  </script>\n",
              "</div>\n",
              "    </div>\n",
              "  </div>\n"
            ]
          },
          "metadata": {},
          "execution_count": 4
        }
      ],
      "source": [
        "# Change this folder if you've placed the .csv elsewhere in your drive.\n",
        "# FOLDER = \"/content/drive/My Drive\"  # Extend this string to point to the directory with your copy of Tweets_5K.csv\n",
        "# FILEPATH = f\"{FOLDER}/Tweets_5K.csv\"\n",
        "FILEPATH = f\"Tweets_5K.csv\"\n",
        "pd.read_csv(\n",
        "    FILEPATH,\n",
        "    usecols=[1, 2],\n",
        ")"
      ]
    },
    {
      "cell_type": "code",
      "execution_count": 5,
      "metadata": {
        "id": "szjiUpBdl1Ub"
      },
      "outputs": [],
      "source": [
        "def load_data() -> Tuple[List[str], List[int]]:\n",
        "    \"\"\"\n",
        "    Loads Twitter data into two lists.\n",
        "\n",
        "    Returns\n",
        "    -------\n",
        "    raw_tweets : List[str]\n",
        "        A list of all Tweets in the dataset\n",
        "    labels : List[int]\n",
        "        A list of the sentiments corresponding to each raw tweet encoded as integers,\n",
        "        -1 meaning negative, 0 meaning neutral, and 1 meaning positive\n",
        "    \"\"\"\n",
        "    # TODO: Load data from the csv file using the FILEPATH variable\n",
        "    # Remember to map positive tweets to 1, neutral tweets to 0, and negative tweets to -1.\n",
        "\n",
        "    # Initialize two return lists\n",
        "    raw_tweets = []\n",
        "    labels = []\n",
        "\n",
        "    # Extract tweet texts and sentiments from datafile\n",
        "    data = pd.read_csv(FILEPATH, usecols=[1, 2])\n",
        "    raw_tweets = data['text'].tolist()\n",
        "    sentiments = data['sentiment']\n",
        "\n",
        "    # Set sentiments into corresponding integers\n",
        "    for sentiment in sentiments:\n",
        "        if sentiment == \"positive\":\n",
        "            labels.append(1)\n",
        "        elif sentiment == \"neutral\":\n",
        "            labels.append(0)\n",
        "        elif sentiment == \"negative\":\n",
        "            labels.append(-1)\n",
        "\n",
        "    return raw_tweets, labels"
      ]
    },
    {
      "cell_type": "markdown",
      "metadata": {
        "id": "79FM4wqYFDUn"
      },
      "source": [
        "Before you start to preprocess data, you should always take a look at the dataset and get a sense of the data you're handling.\n"
      ]
    },
    {
      "cell_type": "code",
      "execution_count": 6,
      "metadata": {
        "id": "RuXYtIARFZ_I",
        "colab": {
          "base_uri": "https://localhost:8080/"
        },
        "outputId": "7cb29139-4354-4e4a-f956-3d92d30b7548"
      },
      "outputs": [
        {
          "output_type": "stream",
          "name": "stdout",
          "text": [
            "0:\t I`d have responded, if I were going\n",
            "\n",
            "-1:\t Sooo SAD I will miss you here in San Diego!!!\n",
            "\n",
            "-1:\tmy boss is bullying me...\n",
            "\n",
            "-1:\t what interview! leave me alone\n",
            "\n",
            "-1:\t Sons of ****, why couldn`t they put them on the releases we already bought\n",
            "\n",
            "0:\thttp://www.dothebouncy.com/smf - some shameless plugging for the best Rangers forum on earth\n",
            "\n",
            "1:\t2am feedings for the baby are fun when he is all smiles and coos\n",
            "\n",
            "0:\tSoooo high\n",
            "\n",
            "0:\t Both of you\n",
            "\n",
            "1:\t Journey!? Wow... u just became cooler.  hehe... (is that possible!?)\n",
            "\n"
          ]
        }
      ],
      "source": [
        "raw_tweets, labels = load_data()\n",
        "for p, label in zip(raw_tweets[:10], labels[:10]):\n",
        "    print(f\"{label}:\\t{p}\\n\")"
      ]
    },
    {
      "cell_type": "markdown",
      "metadata": {
        "id": "EznlXSqYRwUd"
      },
      "source": [
        "We can use matplotlib to see the ratio between positive, negative and neutral sentiments.\n"
      ]
    },
    {
      "cell_type": "code",
      "execution_count": 7,
      "metadata": {
        "id": "TbL8lmGqR4W1",
        "colab": {
          "base_uri": "https://localhost:8080/",
          "height": 471
        },
        "outputId": "c18b463c-d840-47f6-8a16-c9df4d120d20"
      },
      "outputs": [
        {
          "output_type": "display_data",
          "data": {
            "text/plain": [
              "<Figure size 640x480 with 1 Axes>"
            ],
            "image/png": "[encoded data removed]"
          },
          "metadata": {}
        }
      ],
      "source": [
        "import matplotlib.pyplot as plt\n",
        "\n",
        "plt.figure()\n",
        "pd.value_counts(labels).plot.bar(title=\"Sentiment Distribution in Tweets\")\n",
        "plt.xlabel(\"Sentiment\")\n",
        "plt.ylabel(\"Number of Tweets\")\n",
        "plt.show()"
      ]
    },
    {
      "cell_type": "markdown",
      "metadata": {
        "id": "bHTnM_KmhSX4"
      },
      "source": [
        "### Step 2: Preprocess the data\n"
      ]
    },
    {
      "cell_type": "markdown",
      "metadata": {
        "id": "LpaUKiGIR0O9"
      },
      "source": [
        "For now, all you need to do for preprocessing is split the tweets by whitespace.\n"
      ]
    },
    {
      "cell_type": "code",
      "execution_count": 8,
      "metadata": {
        "id": "IS_vaKZYhW8p"
      },
      "outputs": [],
      "source": [
        "def preprocess(raw_X: List[str]) -> List[List[str]]:\n",
        "    \"\"\"\n",
        "    Performs splitting on whitespace on all raw strings in a list.\n",
        "\n",
        "    Parameters\n",
        "    ----------\n",
        "    raw_X : List[str]\n",
        "        A list of raw strings (tweets)\n",
        "\n",
        "    Returns\n",
        "    -------\n",
        "    List[List[str]]\n",
        "        A list of preprocessed tweets (which are now lists of words)\n",
        "    \"\"\"\n",
        "    # TODO: Basic tokenization just based on whitespace, with no other preprocessing\n",
        "\n",
        "    # Initialzie the return list\n",
        "    prep_X = []\n",
        "\n",
        "    for raw_text in raw_X:\n",
        "        # Preprocess the raw strings by splitting them on whitespace\n",
        "        words = raw_text.split()\n",
        "        prep_X.append(words)\n",
        "\n",
        "    return prep_X"
      ]
    },
    {
      "cell_type": "markdown",
      "metadata": {
        "id": "y2hYek_ZiEG8"
      },
      "source": [
        "### Step 3: Define the Model\n"
      ]
    },
    {
      "cell_type": "code",
      "execution_count": 9,
      "metadata": {
        "id": "R0hIpa31iFcV"
      },
      "outputs": [],
      "source": [
        "from scipy.sparse import csr_matrix\n",
        "from sklearn.feature_extraction import DictVectorizer\n",
        "from sklearn.linear_model import LogisticRegression\n",
        "\n",
        "\n",
        "class BOW_Classifier:\n",
        "    \"\"\"\n",
        "    Attributes\n",
        "    ----------\n",
        "    clf : LogisticRegression\n",
        "        A logistic regression classifier\n",
        "    dv : DictVectorizer\n",
        "        A dictionary vectorizer for turning dictionaries into matrices\n",
        "    \"\"\"\n",
        "\n",
        "    def __init__(self):\n",
        "        # TODO: Initialize class attributes\n",
        "        # HINT: Use max_iter=150 when initializing your LogisticRegression classifier to get expected performance!\n",
        "        # You are allowed to not use the dv attribute as well as add more to the init method if you wish\n",
        "        self.clf = LogisticRegression(max_iter=150) # ...\n",
        "        self.dv = DictVectorizer() # ...\n",
        "\n",
        "    def featurize(\n",
        "        self, preproc_X: np.ndarray[List[str]], is_test: bool = False\n",
        "    ) -> csr_matrix:\n",
        "        \"\"\"\n",
        "        Turns a list of preprocessed tweets into a binary bag of words\n",
        "        matrix.\n",
        "\n",
        "        Parameters\n",
        "        ----------\n",
        "        preproc_X : np.ndarray[List[str]]\n",
        "            A list of preprocessed tweets\n",
        "        is_test: bool, default=False\n",
        "            Whether featurization should be done using features learned during training (is_test=True)\n",
        "            or whether it should be done with features extracted from scratch using preproc_X (is_test=False)\n",
        "\n",
        "        Returns\n",
        "        -------\n",
        "        csr_matrix\n",
        "            A matrix with rows corresponding to tweets and columns corresponding to words\n",
        "        \"\"\"\n",
        "        # TODO: Implement a binary bag of words for unigrams\n",
        "\n",
        "        vocab = []\n",
        "        # Loop through each tweet and create a feature vector\n",
        "        for tweet in preproc_X:\n",
        "            word_presence = {word: 1 for word in tweet}\n",
        "            vocab.append(word_presence)\n",
        "\n",
        "        # Check if the featurize data is for testing or not\n",
        "        if not is_test:\n",
        "            matrix = self.dv.fit_transform(vocab)\n",
        "        else:\n",
        "            matrix = self.dv.transform(vocab)\n",
        "\n",
        "        return matrix\n",
        "\n",
        "    def train(self, X_train: np.ndarray[List[str]], y_train: np.ndarray[int]):\n",
        "        \"\"\"\n",
        "        Trains the BOW classifier on the given training data.\n",
        "\n",
        "        Parameters\n",
        "        ----------\n",
        "        X_train : np.ndarray[List[str]]\n",
        "            Preprocessed tweets for training\n",
        "        y_train : np.ndarray[int]\n",
        "            Sentiments corresponding to the tweets in X_train\n",
        "        \"\"\"\n",
        "        # TODO\n",
        "\n",
        "        # Featurize the training data\n",
        "        X_train_feats = self.featurize(X_train, is_test=False)\n",
        "\n",
        "        # Train the logistic regression classifier\n",
        "        self.clf.fit(X_train_feats, y_train)\n",
        "\n",
        "    def test(self, X_test: np.ndarray[List[str]]) -> np.ndarray[int]:\n",
        "        \"\"\"\n",
        "        Classifies the given test data and returns predicted sentiments.\n",
        "\n",
        "        Parameters\n",
        "        ----------\n",
        "        X_test : np.ndarray[List[str]]\n",
        "            Preprocessed tweets for testing\n",
        "\n",
        "        Returns\n",
        "        -------\n",
        "        y_pred : np.ndarray[int]\n",
        "            Predicted sentiments for the tweets in X_test\n",
        "        \"\"\"\n",
        "        # TODO\n",
        "\n",
        "        # Featurize the testing data\n",
        "        X_test_feats = self.featurize(X_test, is_test=True)\n",
        "\n",
        "        # Predict sentiments for the tweets\n",
        "        y_pred = self.clf.predict(X_test_feats)\n",
        "\n",
        "        return y_pred"
      ]
    },
    {
      "cell_type": "markdown",
      "metadata": {
        "id": "D0WMMAoGjlFT"
      },
      "source": [
        "### Step 4: Evaluate the model\n"
      ]
    },
    {
      "cell_type": "markdown",
      "metadata": {
        "id": "vgqYc0tqjpkr"
      },
      "source": [
        "To evaluate the model, we need to simulate the \"real world\" setting in which we have trained on our model on the data we have, but now we are using it to assign labels to data we have never seen before. We will do this using stratified k-fold cross validation.\n",
        "\n",
        "Cross-validation is a resampling procedure used to evaluate machine learning models on a limited data sample. The procedure has a single parameter called `k` that refers to the number of groups that a given data sample is to be split into. As such, the procedure is often called k-fold cross-validation. This procedure is called \"stratified\" when the data is divided so that examples from each class (in this case, classes are the three sentiments) are distributed evenly among all folds.\n"
      ]
    },
    {
      "cell_type": "code",
      "execution_count": 10,
      "metadata": {
        "id": "XVS-vcP2joXG"
      },
      "outputs": [],
      "source": [
        "from sklearn.model_selection import StratifiedKFold\n",
        "from sklearn.metrics import accuracy_score\n",
        "\n",
        "\n",
        "def run_kfold_crossval(\n",
        "    model: BOW_Classifier, X: List[List[str]], y: List[int], k: int = 5\n",
        ") -> List[float]:\n",
        "    \"\"\"\n",
        "    Executes stratified k-fold cross-validation.\n",
        "\n",
        "    Parameters\n",
        "    ----------\n",
        "    model : BOW_Classifier\n",
        "        A BOW model that has train and test methods\n",
        "    X : List[List[str]]\n",
        "        Preprocessed tweets for training and testing\n",
        "    y : List[int]\n",
        "        Sentiments corresponding to the tweets in X\n",
        "    k : int, default=5\n",
        "        The number of folds to use for cross-validation\n",
        "\n",
        "    Returns\n",
        "    -------\n",
        "    List[float]\n",
        "        A list of accuracy values from testing with each fold\n",
        "    \"\"\"\n",
        "    # TODO: Implement stratified k-fold cross-validation with a BOW_Classifier model\n",
        "    # HINT: Consult the documentation for the imports at the top of this cell\n",
        "    # HINT 2: If you have trouble casting a ragged nested list to a numpy array, try passing dtype=list\n",
        "\n",
        "    X = np.array(X, dtype=list)\n",
        "    y = np.array(y)\n",
        "\n",
        "    lst_accu_stratified = []\n",
        "\n",
        "    # Create StratifiedKFold object\n",
        "    skf = StratifiedKFold(n_splits=k, random_state=None, shuffle=False)\n",
        "\n",
        "    for i, (train_index, test_index) in enumerate(skf.split(X, y)):\n",
        "\n",
        "        X_train_fold, X_test_fold = X[train_index], X[test_index]\n",
        "        y_train_fold, y_test_fold = y[train_index], y[test_index]\n",
        "\n",
        "        # Train the model\n",
        "        model.train(X_train_fold, y_train_fold)\n",
        "\n",
        "        # Test the model and calculate accuracy\n",
        "        y_pred_fold = model.test(X_test_fold)\n",
        "        accuracy = accuracy_score(y_test_fold, y_pred_fold)\n",
        "\n",
        "        lst_accu_stratified.append(accuracy)\n",
        "\n",
        "    return lst_accu_stratified"
      ]
    },
    {
      "cell_type": "markdown",
      "metadata": {
        "id": "lOz9M-b8laaq"
      },
      "source": [
        "### Step 5: Analyze Model Performance\n"
      ]
    },
    {
      "cell_type": "markdown",
      "metadata": {
        "id": "wddNvm-Rlb7M"
      },
      "source": [
        "This function will plot how well our model is doing :)\n"
      ]
    },
    {
      "cell_type": "code",
      "execution_count": 11,
      "metadata": {
        "id": "F3Q5XsZglda0"
      },
      "outputs": [],
      "source": [
        "def plot_perfs(perfs: List[List[float]], names: List[str], k: int = 5):\n",
        "    \"\"\"\n",
        "    Plots performances of models in a bar chart.\n",
        "\n",
        "    Parameters\n",
        "    ----------\n",
        "    perfs : List[List[float]]\n",
        "        A list of accuracy results for each model\n",
        "    names : List[str]\n",
        "        The names of each of the models (in the same order as perfs)\n",
        "    k : int, default=5\n",
        "        The value of k used for cross-validation when producing the performances\n",
        "    \"\"\"\n",
        "    means = []\n",
        "    stds = []\n",
        "    for i, perf in enumerate(perfs):\n",
        "        mean = np.mean(perf)\n",
        "        means.append(mean)\n",
        "        stds.append(np.std(perf))\n",
        "        print(\"%s:\\t%.03f\" % (names[i], mean))\n",
        "    plt.bar(np.arange(len(means)), means, yerr=stds)\n",
        "    plt.xticks(np.arange(len(names)), names)\n",
        "    plt.ylabel(f\"Accuracy with {k} Folds\")\n",
        "    plt.ylim(0, 1)\n",
        "    plt.show()"
      ]
    },
    {
      "cell_type": "markdown",
      "metadata": {
        "id": "hngtdUFUn0P6"
      },
      "source": [
        "### Run full workflow!\n"
      ]
    },
    {
      "cell_type": "code",
      "execution_count": 12,
      "metadata": {
        "id": "oBiT5f1Bn34C",
        "colab": {
          "base_uri": "https://localhost:8080/",
          "height": 471
        },
        "outputId": "284349b1-27e5-4da5-d00f-798097fc9c40"
      },
      "outputs": [
        {
          "output_type": "stream",
          "name": "stdout",
          "text": [
            "MFC Baseline:\t0.405\n",
            "Basic BOW:\t0.598\n"
          ]
        },
        {
          "output_type": "display_data",
          "data": {
            "text/plain": [
              "<Figure size 640x480 with 1 Axes>"
            ],
            "image/png": "[encoded data removed]"
          },
          "metadata": {}
        }
      ],
      "source": [
        "from collections import Counter\n",
        "\n",
        "K_FOLD = 10\n",
        "raw_tweets, y = load_data()\n",
        "\n",
        "X_preproc = preprocess(raw_tweets)\n",
        "bow_model = BOW_Classifier()\n",
        "basic_bow_accs = run_kfold_crossval(bow_model, X_preproc, y, k=K_FOLD)\n",
        "\n",
        "# here, we are going generate the \"most frequent class\" baseline based on the\n",
        "# training data\n",
        "counts = Counter(y).values()\n",
        "mfc_baseline = [max(counts) / sum(counts)] * K_FOLD\n",
        "\n",
        "# plot the results!\n",
        "plot_perfs([mfc_baseline, basic_bow_accs], [\"MFC Baseline\", \"Basic BOW\"], k=K_FOLD)"
      ]
    },
    {
      "cell_type": "markdown",
      "metadata": {
        "id": "Y4w65qPFiiYS"
      },
      "source": [
        "### ❗ Conceptual Questions (Answer in the Colab cell below). 👈👈👈 [Don't miss this section!]\n",
        "\n",
        "You will need to write/copy some code, or add some print statements to the functions you’ve already written, to help you answer these questions.\n",
        "\n",
        "Use one iteration of stratified k-fold cross-validation with k=5 (the default value) to retrieve feature matrices for a single train/test set.\n",
        "\n",
        "1. What are the dimensions of your training feature matrix (let's call it M_train)?\n",
        "2. What is the value of M_train[1460][1460]?\n",
        "3. What feature does the 1460th column of M_train represent?\n",
        "4. Find an example of a word that appears in the test set but never appears in the training set. What word did you find, and what is the tweet in which it occurred?\n",
        "5. What happens to that new word when the tweet is featurized at test time? I.e., what is the feature representation of the tweet that contains the unknown word?\n"
      ]
    },
    {
      "cell_type": "code",
      "execution_count": 13,
      "metadata": {
        "id": "aLW-5VvfG41-",
        "colab": {
          "base_uri": "https://localhost:8080/"
        },
        "outputId": "838d73bb-f1c3-441d-dcd6-38b786c84891"
      },
      "outputs": [
        {
          "output_type": "stream",
          "name": "stdout",
          "text": [
            "Dimensions of training feature matrix (M_train): (4000, 12877)\n",
            "Value of M_train[1460][1460]: 0.0\n",
            "Feature represented by the 1460th column of M_train: Done\n",
            "Word that appears in test but not in training: responded,\n",
            "Tweet containing the new word: I`d have responded, if I were going\n",
            "Feature representation of the tweet with the new word: [[0. 0. 0. ... 0. 0. 0.]]\n",
            "Dimensions of training feature matrix (M_train): (4000, 12861)\n",
            "Value of M_train[1460][1460]: 0.0\n",
            "Feature represented by the 1460th column of M_train: Dorito`s....\n",
            "Word that appears in test but not in training: poorly\n",
            "Tweet containing the new word: I`m poorly and can`t sleep\n",
            "Feature representation of the tweet with the new word: [[0. 0. 0. ... 0. 0. 0.]]\n",
            "Dimensions of training feature matrix (M_train): (4000, 12877)\n",
            "Value of M_train[1460][1460]: 0.0\n",
            "Feature represented by the 1460th column of M_train: DotA\n",
            "Word that appears in test but not in training: Gettin\n",
            "Tweet containing the new word: Gettin some fuel, too bad no one is reading this!\n",
            "Feature representation of the tweet with the new word: [[0. 0. 0. ... 0. 0. 0.]]\n",
            "Dimensions of training feature matrix (M_train): (4000, 12811)\n",
            "Value of M_train[1460][1460]: 0.0\n",
            "Feature represented by the 1460th column of M_train: Don`t\n",
            "Word that appears in test but not in training: jelous\n",
            "Tweet containing the new word: soooo jelous of you right now\n",
            "Feature representation of the tweet with the new word: [[0. 0. 0. ... 0. 0. 0.]]\n",
            "Dimensions of training feature matrix (M_train): (4000, 12685)\n",
            "Value of M_train[1460][1460]: 0.0\n",
            "Feature represented by the 1460th column of M_train: E.\n",
            "Word that appears in test but not in training: ure\n",
            "Tweet containing the new word: i hate this weather! When u have lived here ure whole life u get used to it...may is always rainy\n",
            "Feature representation of the tweet with the new word: [[0. 0. 0. ... 0. 0. 0.]]\n"
          ]
        }
      ],
      "source": [
        "# TODO: Copy code from other cells and combine them together along with some print statements to find the answers to the conceptual questions above\n",
        "from sklearn.model_selection import StratifiedKFold\n",
        "from collections import Counter\n",
        "\n",
        "K_FOLD = 10\n",
        "# Define the data and labels for demonstration\n",
        "raw_tweets, y = load_data()\n",
        "X = preprocess(raw_tweets)\n",
        "\n",
        "# Initialize BOW classifier\n",
        "bow_classifier = BOW_Classifier()\n",
        "\n",
        "# Initialize StratifiedKFold with k=5\n",
        "skf = StratifiedKFold(n_splits=5, random_state=None, shuffle=False)\n",
        "X = np.array(X, dtype=list)\n",
        "y = np.array(y)\n",
        "\n",
        "for i, (train_index, test_index) in enumerate(skf.split(X, y)):\n",
        "\n",
        "    X_train_fold, X_test_fold = X[train_index], X[test_index]\n",
        "    y_train_fold, y_test_fold = y[train_index], y[test_index]\n",
        "\n",
        "    # Train the model\n",
        "    bow_classifier.train(X_train_fold, y_train_fold)\n",
        "\n",
        "    # Print answers to conceptual Q1 to Q3\n",
        "    print(\"Dimensions of training feature matrix (M_train):\", bow_classifier.featurize(X_train_fold, is_test=False).shape)\n",
        "    print(\"Value of M_train[1460][1460]:\", bow_classifier.featurize(X_train_fold, is_test=False)[1460, 1460])\n",
        "    print(\"Feature represented by the 1460th column of M_train:\", bow_classifier.dv.get_feature_names_out()[1460])\n",
        "\n",
        "    # Example of a word that appears in the test set but not in the training set\n",
        "    new_word = None\n",
        "    unknown_word_tweet = None\n",
        "    for tweet in X_test_fold:\n",
        "        for word in tweet:\n",
        "            if word not in bow_classifier.dv.vocabulary_:\n",
        "                new_word = word\n",
        "                unknown_word_tweet = tweet\n",
        "                break\n",
        "        if new_word is not None:\n",
        "            break\n",
        "\n",
        "    print(\"Word that appears in test but not in training:\", new_word)\n",
        "    print(\"Tweet containing the new word:\", \" \".join(unknown_word_tweet))\n",
        "\n",
        "    # Featurize the tweet with the new word\n",
        "    tweet_feature = bow_classifier.featurize([unknown_word_tweet], is_test=True)\n",
        "    print(\"Feature representation of the tweet with the new word:\", tweet_feature.toarray())"
      ]
    },
    {
      "cell_type": "markdown",
      "metadata": {
        "id": "juPq2qNZ5j_L"
      },
      "source": [
        "### Conceptual Answers:\n",
        "\n",
        "(All answers below are gained from 1st-split)\n",
        "1. training feature matrix dimension: [4000, 12877].\n",
        "2. M_train[1460][1460] is 0.0\n",
        "3. The 1460th column of M_train represents the word 'Done'.\n",
        "4. 'responded' only appears in testing set but not in training set. The tweet is: 'I`d have responded, if I were going'.\n",
        "5. The feature representation of the tweet that contains the unknown word will be represented by a column consisting entirely of zeros.\n"
      ]
    },
    {
      "cell_type": "markdown",
      "metadata": {
        "id": "GBN_jXx8fq4C"
      },
      "source": [
        "# Part 2: Improved Preprocessing\n"
      ]
    },
    {
      "cell_type": "markdown",
      "metadata": {
        "id": "wqObqbbplLJ5"
      },
      "source": [
        "In this section, we are going to improve the preprocessing step, but otherwise keep the above workflow the same.\n"
      ]
    },
    {
      "cell_type": "markdown",
      "metadata": {
        "id": "BUbq5ul55j_L"
      },
      "source": [
        "### Loading Data with Spacy\n",
        "\n",
        "The cell block below will load the dataset into spacy_processed_docs, a list of Spacy Documents that will be passed to the preprocess_part2 function below.\n"
      ]
    },
    {
      "cell_type": "code",
      "execution_count": null,
      "metadata": {
        "id": "Z8hodSae5j_L"
      },
      "outputs": [],
      "source": [
        "NUM_TWEETS = 5000  # INFO: Feel free to change this to load in fewer tweets for debugging but otherwise keep it at 5000\n",
        "\n",
        "nlp = spacy.load(\"en_core_web_sm\")\n",
        "\n",
        "# CACHE_PATH = f\"{FOLDER}/parsed_tweets.pickle\"\n",
        "CACHE_PATH = f\"parsed_tweets.pickle\"\n",
        "\n",
        "if os.path.exists(CACHE_PATH):\n",
        "    print(f\"Loading parsed tweets from cache at {CACHE_PATH}\")\n",
        "    parsed_tweets = pickle.load(open(CACHE_PATH, \"rb\"))\n",
        "else:\n",
        "    # parse all the tweets with spacy\n",
        "    parsed_tweets = []\n",
        "    for i, r in enumerate(raw_tweets):\n",
        "        if i == NUM_TWEETS:\n",
        "            break\n",
        "        parsed_tweets.append(nlp(r))\n",
        "        if (i + 1) % 500 == 0:\n",
        "            print(f\"Processed {i + 1} out of {len(raw_tweets)}\", end=\"\\r\")\n",
        "    print(\"Processing complete\", \" \" * 10)\n",
        "    if CACHE_PATH is not None:\n",
        "        pickle.dump(parsed_tweets, open(CACHE_PATH, \"wb\"))\n",
        "\n",
        "print(\n",
        "    f\"{len(parsed_tweets)} parsed tweets loaded.\"\n",
        ")  # This should be 5000 when not debugging"
      ]
    },
    {
      "cell_type": "markdown",
      "metadata": {
        "id": "5mGS7mol5j_M"
      },
      "source": [
        "Please program `preprocessing_part2` to do the following things (not necessarily in this order):\n",
        "\n",
        "- lowercasing\n",
        "- lemmatization\n",
        "- remove stop words\n",
        "- remove punctuation and extra white space\n",
        "- use only top 1000 most frequent words, and replace the rest with \"\\<OOV\\>\"\n",
        "- replace numbers with \"\\<NUM\\>\"\n",
        "\n",
        "**Think about how each step affects the next one in the pipeline.** Specifically, one of these steps makes more sense to do last, so make sure your code reflects that.\n",
        "\n",
        "Your final feature matrix should have 1001 columns (1000 most frequent words and one \"\\<OOV\\>\" token).\n",
        "\n",
        "Use spacy to do these things. You shouldn't need to import any additional libraries (but hint: we've imported the Counter library in a previous cell). You can read the spacy documentation [here](http://spacy.pythonhumanities.com/01_02_linguistic_annotations.html#token-attributes) and [here](https://spacy.io/api/annotation#pos-tagging).\n"
      ]
    },
    {
      "cell_type": "code",
      "execution_count": null,
      "metadata": {
        "id": "GtH1w0ekqSuo"
      },
      "outputs": [],
      "source": [
        "spacy_doc: TypeAlias = spacy.tokens.doc.Doc\n",
        "\n",
        "\n",
        "def preprocess_part2(parsed_tweets: List[spacy_doc]) -> List[List[str]]:\n",
        "    \"\"\"\n",
        "    Preprocesses the spacy-parsed tweets.\n",
        "\n",
        "    Parameters\n",
        "    ----------\n",
        "    parsed_tweets : List[spacy_doc]\n",
        "        A list of tweets parsed by spacy\n",
        "\n",
        "    Returns\n",
        "    -------\n",
        "        A list of preprocessed tweets formatted as lists of tokens (lists of strings)\n",
        "    \"\"\"\n",
        "    # TODO: preprocessing steps outlined above\n",
        "\n",
        "    # Count the frequency of each word and get the top 1000 most frequent words\n",
        "    top_word = Counter()\n",
        "    preprocessed_tweets_num = []\n",
        "\n",
        "    for doc in parsed_tweets:\n",
        "        tokens = []\n",
        "        for token in doc:\n",
        "            # Check if the token is a stop word or punctuation or whitespace and remove it\n",
        "            if not token.is_stop and not token.is_punct and not token.is_space:\n",
        "              # Replace numbers\n",
        "              if token.like_num:\n",
        "                tokens.append(\"<NUM>\")\n",
        "                # Update word frequency counter\n",
        "                top_word.update([\"<NUM>\"])\n",
        "              else:\n",
        "                # Lowercasing and lemmatization\n",
        "                tokens.append(token.lemma_.lower())\n",
        "                # Update word frequency counter\n",
        "                top_word.update([token.lemma_.lower()])\n",
        "\n",
        "        preprocessed_tweets_num.append(tokens)\n",
        "\n",
        "    # For each tuple, it extracts the first element, which is the word, and discards the second element\n",
        "    top_words = [word for word, _ in top_word.most_common(1000)]\n",
        "\n",
        "    preprocessed_tweets_oov = []\n",
        "    for tweet in preprocessed_tweets_num:\n",
        "        tokens_oov = [word if word in top_words else \"<OOV>\" for word in tweet]\n",
        "        preprocessed_tweets_oov.append(tokens_oov)\n",
        "\n",
        "    return preprocessed_tweets_oov"
      ]
    },
    {
      "cell_type": "markdown",
      "metadata": {
        "id": "GGffeP2k5j_N"
      },
      "source": [
        "Now let's re-run the workflow and observe the difference in performance!\n"
      ]
    },
    {
      "cell_type": "code",
      "execution_count": null,
      "metadata": {
        "id": "swJjfKjNZ0Jr"
      },
      "outputs": [],
      "source": [
        "X_preproc = preprocess_part2(parsed_tweets)\n",
        "bow_model = BOW_Classifier()\n",
        "better_preproc_accs = run_kfold_crossval(bow_model, X_preproc, y, k=K_FOLD)\n",
        "\n",
        "plot_perfs(\n",
        "    [mfc_baseline, basic_bow_accs, better_preproc_accs],\n",
        "    [\"MFC Baseline\", \"Basic BOW\", \"BOW+preproc\"],\n",
        "    k=K_FOLD,\n",
        ")"
      ]
    },
    {
      "cell_type": "markdown",
      "metadata": {
        "id": "DMNapyQfmLHM"
      },
      "source": [
        "# Part 3: Improved Featurization\n"
      ]
    },
    {
      "cell_type": "markdown",
      "metadata": {
        "id": "3tBfdtKCuF2O"
      },
      "source": [
        "In this section, we will expand the featurize function to include more advanced and sophisticated features. You will now add n-grams with n values from 1 to 5 as features to (partially) preserve the order of the sentence.\n"
      ]
    },
    {
      "cell_type": "code",
      "execution_count": null,
      "metadata": {
        "id": "AQ38t5IymRqN"
      },
      "outputs": [],
      "source": [
        "class Better_BOW(BOW_Classifier):\n",
        "    \"\"\"\n",
        "    A subclass of BOW_Classifier with a more complex featurization function.\n",
        "\n",
        "    All attribute and method names match those of BOW_Classifier.\n",
        "    \"\"\"\n",
        "\n",
        "    def featurize(\n",
        "        self, preproc_X: np.ndarray[List[str]], is_test: bool = False\n",
        "    ) -> csr_matrix:\n",
        "        \"\"\"\n",
        "        Turns a list of preprocessed tweets into a bag of words\n",
        "        matrix using n-grams up to 5-grams.\n",
        "\n",
        "        Parameters\n",
        "        ----------\n",
        "        preproc_X : List[List[str]]\n",
        "            A list of preprocessed tweets\n",
        "        is_test: bool, default=False\n",
        "            Whether featurization should be done using features learned during training (is_test=True)\n",
        "            or whether it should be done with features extracted from scratch using preproc_X (is_test=False)\n",
        "\n",
        "        Returns\n",
        "        -------\n",
        "        csr_matrix\n",
        "            A matrix with rows corresponding to tweets and columns corresponding to n-grams\n",
        "        \"\"\"\n",
        "        # TODO: Implement a binary BOW for 1-, 2-, 3-, 4-, and 5-grams\n",
        "\n",
        "        # build up an n-gram vocabulary\n",
        "        vocab = []\n",
        "\n",
        "        # Iterate through each preprocessed tweet\n",
        "        for tweet in preproc_X:\n",
        "            n_grams = {}\n",
        "            # Iterate through n-gram lengths from 1 to 5\n",
        "            for n in range(1, 6):\n",
        "                # Generate n-grams for this tweet\n",
        "                for i in range(0, len(tweet)-n+1):\n",
        "                    n_gram = \" \".join(tweet[i:i+n])  # Convert the n-gram list to a string\n",
        "                    n_grams.update({n_gram: 1})\n",
        "            # Create a list of dictionaries where each dictionary represents word presence for an n-gram in a tweet\n",
        "            vocab.append(n_grams)\n",
        "\n",
        "        # Check if the featurize data is for testing or not\n",
        "        if not is_test:\n",
        "            matrix = self.dv.fit_transform(vocab)\n",
        "        else:\n",
        "            matrix = self.dv.transform(vocab)\n",
        "\n",
        "        return matrix"
      ]
    },
    {
      "cell_type": "code",
      "execution_count": null,
      "metadata": {
        "id": "Szr1zI6p5j_N",
        "colab": {
          "base_uri": "https://localhost:8080/",
          "height": 687
        },
        "outputId": "0a28cc1a-7a8e-484c-e91e-188ee91f4ec3"
      },
      "outputs": [
        {
          "output_type": "stream",
          "name": "stdout",
          "text": [
            "(4500, 63083)\n",
            "(4500, 62539)\n",
            "(4500, 63120)\n",
            "(4500, 63056)\n",
            "(4500, 62945)\n",
            "(4500, 63000)\n",
            "(4500, 62805)\n",
            "(4500, 62656)\n",
            "(4500, 62798)\n",
            "(4500, 62420)\n",
            "MFC Baseline:\t0.405\n",
            "Basic BOW:\t0.598\n",
            "BOW+preproc:\t0.634\n",
            "Better Features:\t0.638\n"
          ]
        },
        {
          "output_type": "display_data",
          "data": {
            "text/plain": [
              "<Figure size 640x480 with 1 Axes>"
            ],
            "image/png": "[encoded data removed]"
          },
          "metadata": {}
        }
      ],
      "source": [
        "X_preproc = preprocess_part2(parsed_tweets)\n",
        "better_bow = Better_BOW()\n",
        "better_feature_accs = run_kfold_crossval(better_bow, X_preproc, y, k=K_FOLD)\n",
        "\n",
        "plot_perfs(\n",
        "    [mfc_baseline, basic_bow_accs, better_preproc_accs, better_feature_accs],\n",
        "    [\"MFC Baseline\", \"Basic BOW\", \"BOW+preproc\", \"Better Features\"],\n",
        "    k=K_FOLD,\n",
        ")"
      ]
    },
    {
      "cell_type": "markdown",
      "metadata": {
        "id": "1NMsRDCMeV3u"
      },
      "source": [
        "# Submission Instructions\n",
        "\n",
        "Please submit this Colab as **two** files to Gradescope:\n",
        "\n",
        "1.  A `.py` file: Click File > Download > Download .py\n",
        "2.  A `.ipynb` file with outputs: Click Runtime > Run All, and then after all outputs are complete, click File > Download > Download .ipynb\n",
        "\n",
        "Please ensure that the `.ipynb` contains actual function outputs (and not leftover print statements, for instance). We will run your `.ipynb` file; if our outputs don't match the outputs in your submitted file (within reason), you will receive a 0 on this assignment.\n"
      ]
    },
    {
      "cell_type": "markdown",
      "metadata": {
        "id": "_VMdBqbCr8JM"
      },
      "source": [
        "Last updated: 14 Sep 2023\n"
      ]
    }
  ],
  "metadata": {
    "colab": {
      "collapsed_sections": [
        "PXr-P33boqMu",
        "CtgQAyEeci3U"
      ],
      "provenance": [],
      "toc_visible": true
    },
    "kernelspec": {
      "display_name": "Python 3",
      "name": "python3"
    },
    "language_info": {
      "codemirror_mode": {
        "name": "ipython",
        "version": 3
      },
      "file_extension": ".py",
      "mimetype": "text/x-python",
      "name": "python",
      "nbconvert_exporter": "python",
      "pygments_lexer": "ipython3",
      "version": "3.10.3"
    }
  },
  "nbformat": 4,
  "nbformat_minor": 0
}